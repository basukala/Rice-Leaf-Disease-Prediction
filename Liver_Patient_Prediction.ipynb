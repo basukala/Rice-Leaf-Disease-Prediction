{
  "cells": [
    {
      "cell_type": "markdown",
      "metadata": {
        "id": "view-in-github",
        "colab_type": "text"
      },
      "source": [
        "<a href=\"https://colab.research.google.com/github/basukala/Rice-Leaf-Disease-Prediction/blob/main/Liver_Patient_Prediction.ipynb\" target=\"_parent\"><img src=\"https://colab.research.google.com/assets/colab-badge.svg\" alt=\"Open In Colab\"/></a>"
      ]
    },
    {
      "cell_type": "markdown",
      "id": "0b460de9",
      "metadata": {
        "id": "0b460de9"
      },
      "source": [
        "### Import libraries/Packages"
      ]
    },
    {
      "cell_type": "code",
      "execution_count": 9,
      "id": "0f12bfa5",
      "metadata": {
        "id": "0f12bfa5"
      },
      "outputs": [],
      "source": [
        "from matplotlib import pyplot as plt\n",
        "import pandas as pd\n",
        "import numpy as np\n",
        "import seaborn as sns\n",
        "\n",
        "from sklearn.model_selection import train_test_split\n",
        "from sklearn.cluster import KMeans\n",
        "from sklearn.ensemble import RandomForestClassifier\n",
        "from sklearn.neighbors import KNeighborsClassifier\n",
        "from sklearn.linear_model import LogisticRegression\n",
        "from sklearn.svm import SVC\n",
        "from xgboost import XGBClassifier\n",
        "from sklearn.tree import DecisionTreeClassifier\n",
        "\n",
        "from imblearn.over_sampling import RandomOverSampler\n",
        "from sklearn.preprocessing import LabelEncoder\n",
        "from sklearn.metrics import accuracy_score,classification_report,confusion_matrix,f1_score"
      ]
    },
    {
      "cell_type": "code",
      "source": [
        "from google.colab import drive\n",
        "drive.mount('/content/drive')"
      ],
      "metadata": {
        "colab": {
          "base_uri": "https://localhost:8080/"
        },
        "id": "-WR1UiNc5k_k",
        "outputId": "d351a6db-8f60-4dc7-857d-07a1c1e12392"
      },
      "id": "-WR1UiNc5k_k",
      "execution_count": 10,
      "outputs": [
        {
          "output_type": "stream",
          "name": "stdout",
          "text": [
            "Drive already mounted at /content/drive; to attempt to forcibly remount, call drive.mount(\"/content/drive\", force_remount=True).\n"
          ]
        }
      ]
    },
    {
      "cell_type": "markdown",
      "id": "be1bd2a4",
      "metadata": {
        "id": "be1bd2a4"
      },
      "source": [
        "### Read csv Data"
      ]
    },
    {
      "cell_type": "code",
      "execution_count": 11,
      "id": "11b508ab",
      "metadata": {
        "scrolled": true,
        "colab": {
          "base_uri": "https://localhost:8080/",
          "height": 270
        },
        "id": "11b508ab",
        "outputId": "a6d5a177-78aa-4664-ce13-ff776f7347bb"
      },
      "outputs": [
        {
          "output_type": "execute_result",
          "data": {
            "text/plain": [
              "   Age  Gender  Total_Bilirubin  Direct_Bilirubin  Alkaline_Phosphotase  \\\n",
              "0   65  Female              0.7               0.1                   187   \n",
              "1   62    Male             10.9               5.5                   699   \n",
              "2   62    Male              7.3               4.1                   490   \n",
              "3   58    Male              1.0               0.4                   182   \n",
              "4   72    Male              3.9               2.0                   195   \n",
              "\n",
              "   Alamine_Aminotransferase  Aspartate_Aminotransferase  Total_Protiens  \\\n",
              "0                        16                          18             6.8   \n",
              "1                        64                         100             7.5   \n",
              "2                        60                          68             7.0   \n",
              "3                        14                          20             6.8   \n",
              "4                        27                          59             7.3   \n",
              "\n",
              "   Albumin  Albumin_and_Globulin_Ratio  Dataset  \n",
              "0      3.3                        0.90        1  \n",
              "1      3.2                        0.74        1  \n",
              "2      3.3                        0.89        1  \n",
              "3      3.4                        1.00        1  \n",
              "4      2.4                        0.40        1  "
            ],
            "text/html": [
              "\n",
              "  <div id=\"df-7afd8571-5e84-4d3c-8f11-4b84d6a811ed\">\n",
              "    <div class=\"colab-df-container\">\n",
              "      <div>\n",
              "<style scoped>\n",
              "    .dataframe tbody tr th:only-of-type {\n",
              "        vertical-align: middle;\n",
              "    }\n",
              "\n",
              "    .dataframe tbody tr th {\n",
              "        vertical-align: top;\n",
              "    }\n",
              "\n",
              "    .dataframe thead th {\n",
              "        text-align: right;\n",
              "    }\n",
              "</style>\n",
              "<table border=\"1\" class=\"dataframe\">\n",
              "  <thead>\n",
              "    <tr style=\"text-align: right;\">\n",
              "      <th></th>\n",
              "      <th>Age</th>\n",
              "      <th>Gender</th>\n",
              "      <th>Total_Bilirubin</th>\n",
              "      <th>Direct_Bilirubin</th>\n",
              "      <th>Alkaline_Phosphotase</th>\n",
              "      <th>Alamine_Aminotransferase</th>\n",
              "      <th>Aspartate_Aminotransferase</th>\n",
              "      <th>Total_Protiens</th>\n",
              "      <th>Albumin</th>\n",
              "      <th>Albumin_and_Globulin_Ratio</th>\n",
              "      <th>Dataset</th>\n",
              "    </tr>\n",
              "  </thead>\n",
              "  <tbody>\n",
              "    <tr>\n",
              "      <th>0</th>\n",
              "      <td>65</td>\n",
              "      <td>Female</td>\n",
              "      <td>0.7</td>\n",
              "      <td>0.1</td>\n",
              "      <td>187</td>\n",
              "      <td>16</td>\n",
              "      <td>18</td>\n",
              "      <td>6.8</td>\n",
              "      <td>3.3</td>\n",
              "      <td>0.90</td>\n",
              "      <td>1</td>\n",
              "    </tr>\n",
              "    <tr>\n",
              "      <th>1</th>\n",
              "      <td>62</td>\n",
              "      <td>Male</td>\n",
              "      <td>10.9</td>\n",
              "      <td>5.5</td>\n",
              "      <td>699</td>\n",
              "      <td>64</td>\n",
              "      <td>100</td>\n",
              "      <td>7.5</td>\n",
              "      <td>3.2</td>\n",
              "      <td>0.74</td>\n",
              "      <td>1</td>\n",
              "    </tr>\n",
              "    <tr>\n",
              "      <th>2</th>\n",
              "      <td>62</td>\n",
              "      <td>Male</td>\n",
              "      <td>7.3</td>\n",
              "      <td>4.1</td>\n",
              "      <td>490</td>\n",
              "      <td>60</td>\n",
              "      <td>68</td>\n",
              "      <td>7.0</td>\n",
              "      <td>3.3</td>\n",
              "      <td>0.89</td>\n",
              "      <td>1</td>\n",
              "    </tr>\n",
              "    <tr>\n",
              "      <th>3</th>\n",
              "      <td>58</td>\n",
              "      <td>Male</td>\n",
              "      <td>1.0</td>\n",
              "      <td>0.4</td>\n",
              "      <td>182</td>\n",
              "      <td>14</td>\n",
              "      <td>20</td>\n",
              "      <td>6.8</td>\n",
              "      <td>3.4</td>\n",
              "      <td>1.00</td>\n",
              "      <td>1</td>\n",
              "    </tr>\n",
              "    <tr>\n",
              "      <th>4</th>\n",
              "      <td>72</td>\n",
              "      <td>Male</td>\n",
              "      <td>3.9</td>\n",
              "      <td>2.0</td>\n",
              "      <td>195</td>\n",
              "      <td>27</td>\n",
              "      <td>59</td>\n",
              "      <td>7.3</td>\n",
              "      <td>2.4</td>\n",
              "      <td>0.40</td>\n",
              "      <td>1</td>\n",
              "    </tr>\n",
              "  </tbody>\n",
              "</table>\n",
              "</div>\n",
              "      <button class=\"colab-df-convert\" onclick=\"convertToInteractive('df-7afd8571-5e84-4d3c-8f11-4b84d6a811ed')\"\n",
              "              title=\"Convert this dataframe to an interactive table.\"\n",
              "              style=\"display:none;\">\n",
              "        \n",
              "  <svg xmlns=\"http://www.w3.org/2000/svg\" height=\"24px\"viewBox=\"0 0 24 24\"\n",
              "       width=\"24px\">\n",
              "    <path d=\"M0 0h24v24H0V0z\" fill=\"none\"/>\n",
              "    <path d=\"M18.56 5.44l.94 2.06.94-2.06 2.06-.94-2.06-.94-.94-2.06-.94 2.06-2.06.94zm-11 1L8.5 8.5l.94-2.06 2.06-.94-2.06-.94L8.5 2.5l-.94 2.06-2.06.94zm10 10l.94 2.06.94-2.06 2.06-.94-2.06-.94-.94-2.06-.94 2.06-2.06.94z\"/><path d=\"M17.41 7.96l-1.37-1.37c-.4-.4-.92-.59-1.43-.59-.52 0-1.04.2-1.43.59L10.3 9.45l-7.72 7.72c-.78.78-.78 2.05 0 2.83L4 21.41c.39.39.9.59 1.41.59.51 0 1.02-.2 1.41-.59l7.78-7.78 2.81-2.81c.8-.78.8-2.07 0-2.86zM5.41 20L4 18.59l7.72-7.72 1.47 1.35L5.41 20z\"/>\n",
              "  </svg>\n",
              "      </button>\n",
              "      \n",
              "  <style>\n",
              "    .colab-df-container {\n",
              "      display:flex;\n",
              "      flex-wrap:wrap;\n",
              "      gap: 12px;\n",
              "    }\n",
              "\n",
              "    .colab-df-convert {\n",
              "      background-color: #E8F0FE;\n",
              "      border: none;\n",
              "      border-radius: 50%;\n",
              "      cursor: pointer;\n",
              "      display: none;\n",
              "      fill: #1967D2;\n",
              "      height: 32px;\n",
              "      padding: 0 0 0 0;\n",
              "      width: 32px;\n",
              "    }\n",
              "\n",
              "    .colab-df-convert:hover {\n",
              "      background-color: #E2EBFA;\n",
              "      box-shadow: 0px 1px 2px rgba(60, 64, 67, 0.3), 0px 1px 3px 1px rgba(60, 64, 67, 0.15);\n",
              "      fill: #174EA6;\n",
              "    }\n",
              "\n",
              "    [theme=dark] .colab-df-convert {\n",
              "      background-color: #3B4455;\n",
              "      fill: #D2E3FC;\n",
              "    }\n",
              "\n",
              "    [theme=dark] .colab-df-convert:hover {\n",
              "      background-color: #434B5C;\n",
              "      box-shadow: 0px 1px 3px 1px rgba(0, 0, 0, 0.15);\n",
              "      filter: drop-shadow(0px 1px 2px rgba(0, 0, 0, 0.3));\n",
              "      fill: #FFFFFF;\n",
              "    }\n",
              "  </style>\n",
              "\n",
              "      <script>\n",
              "        const buttonEl =\n",
              "          document.querySelector('#df-7afd8571-5e84-4d3c-8f11-4b84d6a811ed button.colab-df-convert');\n",
              "        buttonEl.style.display =\n",
              "          google.colab.kernel.accessAllowed ? 'block' : 'none';\n",
              "\n",
              "        async function convertToInteractive(key) {\n",
              "          const element = document.querySelector('#df-7afd8571-5e84-4d3c-8f11-4b84d6a811ed');\n",
              "          const dataTable =\n",
              "            await google.colab.kernel.invokeFunction('convertToInteractive',\n",
              "                                                     [key], {});\n",
              "          if (!dataTable) return;\n",
              "\n",
              "          const docLinkHtml = 'Like what you see? Visit the ' +\n",
              "            '<a target=\"_blank\" href=https://colab.research.google.com/notebooks/data_table.ipynb>data table notebook</a>'\n",
              "            + ' to learn more about interactive tables.';\n",
              "          element.innerHTML = '';\n",
              "          dataTable['output_type'] = 'display_data';\n",
              "          await google.colab.output.renderOutput(dataTable, element);\n",
              "          const docLink = document.createElement('div');\n",
              "          docLink.innerHTML = docLinkHtml;\n",
              "          element.appendChild(docLink);\n",
              "        }\n",
              "      </script>\n",
              "    </div>\n",
              "  </div>\n",
              "  "
            ]
          },
          "metadata": {},
          "execution_count": 11
        }
      ],
      "source": [
        "data=pd.read_csv(\"/content/drive/MyDrive/dataset/indian_liver_patient.csv\")\n",
        "data.head()"
      ]
    },
    {
      "cell_type": "code",
      "execution_count": 12,
      "id": "3dbcd01e",
      "metadata": {
        "colab": {
          "base_uri": "https://localhost:8080/"
        },
        "id": "3dbcd01e",
        "outputId": "487c31ff-e907-4ebd-ea3a-03ec88af84ed"
      },
      "outputs": [
        {
          "output_type": "execute_result",
          "data": {
            "text/plain": [
              "1    416\n",
              "2    167\n",
              "Name: Dataset, dtype: int64"
            ]
          },
          "metadata": {},
          "execution_count": 12
        }
      ],
      "source": [
        "data.Dataset.value_counts()"
      ]
    },
    {
      "cell_type": "markdown",
      "id": "933ac1d7",
      "metadata": {
        "id": "933ac1d7"
      },
      "source": [
        "### Check shape of Dataset"
      ]
    },
    {
      "cell_type": "code",
      "execution_count": 13,
      "id": "f367f019",
      "metadata": {
        "scrolled": true,
        "colab": {
          "base_uri": "https://localhost:8080/"
        },
        "id": "f367f019",
        "outputId": "bf1811c8-1a30-408e-d415-a18b1119161c"
      },
      "outputs": [
        {
          "output_type": "execute_result",
          "data": {
            "text/plain": [
              "(583, 11)"
            ]
          },
          "metadata": {},
          "execution_count": 13
        }
      ],
      "source": [
        "data.shape"
      ]
    },
    {
      "cell_type": "markdown",
      "id": "4a5d9a13",
      "metadata": {
        "id": "4a5d9a13"
      },
      "source": [
        "### Check statistical Information"
      ]
    },
    {
      "cell_type": "code",
      "execution_count": 14,
      "id": "aaf58ce1",
      "metadata": {
        "scrolled": true,
        "colab": {
          "base_uri": "https://localhost:8080/",
          "height": 364
        },
        "id": "aaf58ce1",
        "outputId": "6428303a-88f9-461e-a494-caed5327a928"
      },
      "outputs": [
        {
          "output_type": "execute_result",
          "data": {
            "text/plain": [
              "              Age  Total_Bilirubin  Direct_Bilirubin  Alkaline_Phosphotase  \\\n",
              "count  583.000000       583.000000        583.000000            583.000000   \n",
              "mean    44.746141         3.298799          1.486106            290.576329   \n",
              "std     16.189833         6.209522          2.808498            242.937989   \n",
              "min      4.000000         0.400000          0.100000             63.000000   \n",
              "25%     33.000000         0.800000          0.200000            175.500000   \n",
              "50%     45.000000         1.000000          0.300000            208.000000   \n",
              "75%     58.000000         2.600000          1.300000            298.000000   \n",
              "max     90.000000        75.000000         19.700000           2110.000000   \n",
              "\n",
              "       Alamine_Aminotransferase  Aspartate_Aminotransferase  Total_Protiens  \\\n",
              "count                583.000000                  583.000000      583.000000   \n",
              "mean                  80.713551                  109.910806        6.483190   \n",
              "std                  182.620356                  288.918529        1.085451   \n",
              "min                   10.000000                   10.000000        2.700000   \n",
              "25%                   23.000000                   25.000000        5.800000   \n",
              "50%                   35.000000                   42.000000        6.600000   \n",
              "75%                   60.500000                   87.000000        7.200000   \n",
              "max                 2000.000000                 4929.000000        9.600000   \n",
              "\n",
              "          Albumin  Albumin_and_Globulin_Ratio     Dataset  \n",
              "count  583.000000                  579.000000  583.000000  \n",
              "mean     3.141852                    0.947064    1.286449  \n",
              "std      0.795519                    0.319592    0.452490  \n",
              "min      0.900000                    0.300000    1.000000  \n",
              "25%      2.600000                    0.700000    1.000000  \n",
              "50%      3.100000                    0.930000    1.000000  \n",
              "75%      3.800000                    1.100000    2.000000  \n",
              "max      5.500000                    2.800000    2.000000  "
            ],
            "text/html": [
              "\n",
              "  <div id=\"df-f1018e15-d6ac-4df8-bb62-734899e5b9ad\">\n",
              "    <div class=\"colab-df-container\">\n",
              "      <div>\n",
              "<style scoped>\n",
              "    .dataframe tbody tr th:only-of-type {\n",
              "        vertical-align: middle;\n",
              "    }\n",
              "\n",
              "    .dataframe tbody tr th {\n",
              "        vertical-align: top;\n",
              "    }\n",
              "\n",
              "    .dataframe thead th {\n",
              "        text-align: right;\n",
              "    }\n",
              "</style>\n",
              "<table border=\"1\" class=\"dataframe\">\n",
              "  <thead>\n",
              "    <tr style=\"text-align: right;\">\n",
              "      <th></th>\n",
              "      <th>Age</th>\n",
              "      <th>Total_Bilirubin</th>\n",
              "      <th>Direct_Bilirubin</th>\n",
              "      <th>Alkaline_Phosphotase</th>\n",
              "      <th>Alamine_Aminotransferase</th>\n",
              "      <th>Aspartate_Aminotransferase</th>\n",
              "      <th>Total_Protiens</th>\n",
              "      <th>Albumin</th>\n",
              "      <th>Albumin_and_Globulin_Ratio</th>\n",
              "      <th>Dataset</th>\n",
              "    </tr>\n",
              "  </thead>\n",
              "  <tbody>\n",
              "    <tr>\n",
              "      <th>count</th>\n",
              "      <td>583.000000</td>\n",
              "      <td>583.000000</td>\n",
              "      <td>583.000000</td>\n",
              "      <td>583.000000</td>\n",
              "      <td>583.000000</td>\n",
              "      <td>583.000000</td>\n",
              "      <td>583.000000</td>\n",
              "      <td>583.000000</td>\n",
              "      <td>579.000000</td>\n",
              "      <td>583.000000</td>\n",
              "    </tr>\n",
              "    <tr>\n",
              "      <th>mean</th>\n",
              "      <td>44.746141</td>\n",
              "      <td>3.298799</td>\n",
              "      <td>1.486106</td>\n",
              "      <td>290.576329</td>\n",
              "      <td>80.713551</td>\n",
              "      <td>109.910806</td>\n",
              "      <td>6.483190</td>\n",
              "      <td>3.141852</td>\n",
              "      <td>0.947064</td>\n",
              "      <td>1.286449</td>\n",
              "    </tr>\n",
              "    <tr>\n",
              "      <th>std</th>\n",
              "      <td>16.189833</td>\n",
              "      <td>6.209522</td>\n",
              "      <td>2.808498</td>\n",
              "      <td>242.937989</td>\n",
              "      <td>182.620356</td>\n",
              "      <td>288.918529</td>\n",
              "      <td>1.085451</td>\n",
              "      <td>0.795519</td>\n",
              "      <td>0.319592</td>\n",
              "      <td>0.452490</td>\n",
              "    </tr>\n",
              "    <tr>\n",
              "      <th>min</th>\n",
              "      <td>4.000000</td>\n",
              "      <td>0.400000</td>\n",
              "      <td>0.100000</td>\n",
              "      <td>63.000000</td>\n",
              "      <td>10.000000</td>\n",
              "      <td>10.000000</td>\n",
              "      <td>2.700000</td>\n",
              "      <td>0.900000</td>\n",
              "      <td>0.300000</td>\n",
              "      <td>1.000000</td>\n",
              "    </tr>\n",
              "    <tr>\n",
              "      <th>25%</th>\n",
              "      <td>33.000000</td>\n",
              "      <td>0.800000</td>\n",
              "      <td>0.200000</td>\n",
              "      <td>175.500000</td>\n",
              "      <td>23.000000</td>\n",
              "      <td>25.000000</td>\n",
              "      <td>5.800000</td>\n",
              "      <td>2.600000</td>\n",
              "      <td>0.700000</td>\n",
              "      <td>1.000000</td>\n",
              "    </tr>\n",
              "    <tr>\n",
              "      <th>50%</th>\n",
              "      <td>45.000000</td>\n",
              "      <td>1.000000</td>\n",
              "      <td>0.300000</td>\n",
              "      <td>208.000000</td>\n",
              "      <td>35.000000</td>\n",
              "      <td>42.000000</td>\n",
              "      <td>6.600000</td>\n",
              "      <td>3.100000</td>\n",
              "      <td>0.930000</td>\n",
              "      <td>1.000000</td>\n",
              "    </tr>\n",
              "    <tr>\n",
              "      <th>75%</th>\n",
              "      <td>58.000000</td>\n",
              "      <td>2.600000</td>\n",
              "      <td>1.300000</td>\n",
              "      <td>298.000000</td>\n",
              "      <td>60.500000</td>\n",
              "      <td>87.000000</td>\n",
              "      <td>7.200000</td>\n",
              "      <td>3.800000</td>\n",
              "      <td>1.100000</td>\n",
              "      <td>2.000000</td>\n",
              "    </tr>\n",
              "    <tr>\n",
              "      <th>max</th>\n",
              "      <td>90.000000</td>\n",
              "      <td>75.000000</td>\n",
              "      <td>19.700000</td>\n",
              "      <td>2110.000000</td>\n",
              "      <td>2000.000000</td>\n",
              "      <td>4929.000000</td>\n",
              "      <td>9.600000</td>\n",
              "      <td>5.500000</td>\n",
              "      <td>2.800000</td>\n",
              "      <td>2.000000</td>\n",
              "    </tr>\n",
              "  </tbody>\n",
              "</table>\n",
              "</div>\n",
              "      <button class=\"colab-df-convert\" onclick=\"convertToInteractive('df-f1018e15-d6ac-4df8-bb62-734899e5b9ad')\"\n",
              "              title=\"Convert this dataframe to an interactive table.\"\n",
              "              style=\"display:none;\">\n",
              "        \n",
              "  <svg xmlns=\"http://www.w3.org/2000/svg\" height=\"24px\"viewBox=\"0 0 24 24\"\n",
              "       width=\"24px\">\n",
              "    <path d=\"M0 0h24v24H0V0z\" fill=\"none\"/>\n",
              "    <path d=\"M18.56 5.44l.94 2.06.94-2.06 2.06-.94-2.06-.94-.94-2.06-.94 2.06-2.06.94zm-11 1L8.5 8.5l.94-2.06 2.06-.94-2.06-.94L8.5 2.5l-.94 2.06-2.06.94zm10 10l.94 2.06.94-2.06 2.06-.94-2.06-.94-.94-2.06-.94 2.06-2.06.94z\"/><path d=\"M17.41 7.96l-1.37-1.37c-.4-.4-.92-.59-1.43-.59-.52 0-1.04.2-1.43.59L10.3 9.45l-7.72 7.72c-.78.78-.78 2.05 0 2.83L4 21.41c.39.39.9.59 1.41.59.51 0 1.02-.2 1.41-.59l7.78-7.78 2.81-2.81c.8-.78.8-2.07 0-2.86zM5.41 20L4 18.59l7.72-7.72 1.47 1.35L5.41 20z\"/>\n",
              "  </svg>\n",
              "      </button>\n",
              "      \n",
              "  <style>\n",
              "    .colab-df-container {\n",
              "      display:flex;\n",
              "      flex-wrap:wrap;\n",
              "      gap: 12px;\n",
              "    }\n",
              "\n",
              "    .colab-df-convert {\n",
              "      background-color: #E8F0FE;\n",
              "      border: none;\n",
              "      border-radius: 50%;\n",
              "      cursor: pointer;\n",
              "      display: none;\n",
              "      fill: #1967D2;\n",
              "      height: 32px;\n",
              "      padding: 0 0 0 0;\n",
              "      width: 32px;\n",
              "    }\n",
              "\n",
              "    .colab-df-convert:hover {\n",
              "      background-color: #E2EBFA;\n",
              "      box-shadow: 0px 1px 2px rgba(60, 64, 67, 0.3), 0px 1px 3px 1px rgba(60, 64, 67, 0.15);\n",
              "      fill: #174EA6;\n",
              "    }\n",
              "\n",
              "    [theme=dark] .colab-df-convert {\n",
              "      background-color: #3B4455;\n",
              "      fill: #D2E3FC;\n",
              "    }\n",
              "\n",
              "    [theme=dark] .colab-df-convert:hover {\n",
              "      background-color: #434B5C;\n",
              "      box-shadow: 0px 1px 3px 1px rgba(0, 0, 0, 0.15);\n",
              "      filter: drop-shadow(0px 1px 2px rgba(0, 0, 0, 0.3));\n",
              "      fill: #FFFFFF;\n",
              "    }\n",
              "  </style>\n",
              "\n",
              "      <script>\n",
              "        const buttonEl =\n",
              "          document.querySelector('#df-f1018e15-d6ac-4df8-bb62-734899e5b9ad button.colab-df-convert');\n",
              "        buttonEl.style.display =\n",
              "          google.colab.kernel.accessAllowed ? 'block' : 'none';\n",
              "\n",
              "        async function convertToInteractive(key) {\n",
              "          const element = document.querySelector('#df-f1018e15-d6ac-4df8-bb62-734899e5b9ad');\n",
              "          const dataTable =\n",
              "            await google.colab.kernel.invokeFunction('convertToInteractive',\n",
              "                                                     [key], {});\n",
              "          if (!dataTable) return;\n",
              "\n",
              "          const docLinkHtml = 'Like what you see? Visit the ' +\n",
              "            '<a target=\"_blank\" href=https://colab.research.google.com/notebooks/data_table.ipynb>data table notebook</a>'\n",
              "            + ' to learn more about interactive tables.';\n",
              "          element.innerHTML = '';\n",
              "          dataTable['output_type'] = 'display_data';\n",
              "          await google.colab.output.renderOutput(dataTable, element);\n",
              "          const docLink = document.createElement('div');\n",
              "          docLink.innerHTML = docLinkHtml;\n",
              "          element.appendChild(docLink);\n",
              "        }\n",
              "      </script>\n",
              "    </div>\n",
              "  </div>\n",
              "  "
            ]
          },
          "metadata": {},
          "execution_count": 14
        }
      ],
      "source": [
        "data.describe()"
      ]
    },
    {
      "cell_type": "markdown",
      "id": "350bfade",
      "metadata": {
        "id": "350bfade"
      },
      "source": [
        "### Check Datatypes"
      ]
    },
    {
      "cell_type": "code",
      "execution_count": 15,
      "id": "94341d95",
      "metadata": {
        "scrolled": true,
        "colab": {
          "base_uri": "https://localhost:8080/"
        },
        "id": "94341d95",
        "outputId": "dd95d60b-7037-46ad-b1c7-f951f56e6afb"
      },
      "outputs": [
        {
          "output_type": "stream",
          "name": "stdout",
          "text": [
            "<class 'pandas.core.frame.DataFrame'>\n",
            "RangeIndex: 583 entries, 0 to 582\n",
            "Data columns (total 11 columns):\n",
            " #   Column                      Non-Null Count  Dtype  \n",
            "---  ------                      --------------  -----  \n",
            " 0   Age                         583 non-null    int64  \n",
            " 1   Gender                      583 non-null    object \n",
            " 2   Total_Bilirubin             583 non-null    float64\n",
            " 3   Direct_Bilirubin            583 non-null    float64\n",
            " 4   Alkaline_Phosphotase        583 non-null    int64  \n",
            " 5   Alamine_Aminotransferase    583 non-null    int64  \n",
            " 6   Aspartate_Aminotransferase  583 non-null    int64  \n",
            " 7   Total_Protiens              583 non-null    float64\n",
            " 8   Albumin                     583 non-null    float64\n",
            " 9   Albumin_and_Globulin_Ratio  579 non-null    float64\n",
            " 10  Dataset                     583 non-null    int64  \n",
            "dtypes: float64(5), int64(5), object(1)\n",
            "memory usage: 50.2+ KB\n"
          ]
        }
      ],
      "source": [
        "data.info()"
      ]
    },
    {
      "cell_type": "markdown",
      "id": "ddee4788",
      "metadata": {
        "id": "ddee4788"
      },
      "source": [
        "### Check for duplicated data"
      ]
    },
    {
      "cell_type": "code",
      "execution_count": 16,
      "id": "eba438dc",
      "metadata": {
        "scrolled": true,
        "colab": {
          "base_uri": "https://localhost:8080/"
        },
        "id": "eba438dc",
        "outputId": "fb910f6a-52bb-4343-cc2a-99c9a09bd4e6"
      },
      "outputs": [
        {
          "output_type": "execute_result",
          "data": {
            "text/plain": [
              "13"
            ]
          },
          "metadata": {},
          "execution_count": 16
        }
      ],
      "source": [
        "data.duplicated().sum()"
      ]
    },
    {
      "cell_type": "code",
      "execution_count": 17,
      "id": "b89318c9",
      "metadata": {
        "scrolled": true,
        "colab": {
          "base_uri": "https://localhost:8080/",
          "height": 521
        },
        "id": "b89318c9",
        "outputId": "c1675380-8a20-4718-a09b-b635d2ca4378"
      },
      "outputs": [
        {
          "output_type": "execute_result",
          "data": {
            "text/plain": [
              "     Age  Gender  Total_Bilirubin  Direct_Bilirubin  Alkaline_Phosphotase  \\\n",
              "19    40  Female              0.9               0.3                   293   \n",
              "26    34    Male              4.1               2.0                   289   \n",
              "34    38  Female              2.6               1.2                   410   \n",
              "55    42    Male              8.9               4.5                   272   \n",
              "62    58    Male              1.0               0.5                   158   \n",
              "106   36    Male              5.3               2.3                   145   \n",
              "108   36    Male              0.8               0.2                   158   \n",
              "138   18    Male              0.8               0.2                   282   \n",
              "143   30    Male              1.6               0.4                   332   \n",
              "158   72    Male              0.7               0.1                   196   \n",
              "164   39    Male              1.9               0.9                   180   \n",
              "174   31    Male              0.6               0.1                   175   \n",
              "201   49    Male              0.6               0.1                   218   \n",
              "\n",
              "     Alamine_Aminotransferase  Aspartate_Aminotransferase  Total_Protiens  \\\n",
              "19                        232                         245             6.8   \n",
              "26                        875                         731             5.0   \n",
              "34                         59                          57             5.6   \n",
              "55                         31                          61             5.8   \n",
              "62                         37                          43             7.2   \n",
              "106                        32                          92             5.1   \n",
              "108                        29                          39             6.0   \n",
              "138                        72                         140             5.5   \n",
              "143                        84                         139             5.6   \n",
              "158                        20                          35             5.8   \n",
              "164                        42                          62             7.4   \n",
              "174                        48                          34             6.0   \n",
              "201                        50                          53             5.0   \n",
              "\n",
              "     Albumin  Albumin_and_Globulin_Ratio  Dataset  \n",
              "19       3.1                        0.80        1  \n",
              "26       2.7                        1.10        1  \n",
              "34       3.0                        0.80        2  \n",
              "55       2.0                        0.50        1  \n",
              "62       3.6                        1.00        1  \n",
              "106      2.6                        1.00        2  \n",
              "108      2.2                        0.50        2  \n",
              "138      2.5                        0.80        1  \n",
              "143      2.7                        0.90        1  \n",
              "158      2.0                        0.50        1  \n",
              "164      4.3                        1.38        1  \n",
              "174      3.7                        1.60        1  \n",
              "201      2.4                        0.90        1  "
            ],
            "text/html": [
              "\n",
              "  <div id=\"df-af9e53ce-578a-45b2-9d67-9afb7c5cea97\">\n",
              "    <div class=\"colab-df-container\">\n",
              "      <div>\n",
              "<style scoped>\n",
              "    .dataframe tbody tr th:only-of-type {\n",
              "        vertical-align: middle;\n",
              "    }\n",
              "\n",
              "    .dataframe tbody tr th {\n",
              "        vertical-align: top;\n",
              "    }\n",
              "\n",
              "    .dataframe thead th {\n",
              "        text-align: right;\n",
              "    }\n",
              "</style>\n",
              "<table border=\"1\" class=\"dataframe\">\n",
              "  <thead>\n",
              "    <tr style=\"text-align: right;\">\n",
              "      <th></th>\n",
              "      <th>Age</th>\n",
              "      <th>Gender</th>\n",
              "      <th>Total_Bilirubin</th>\n",
              "      <th>Direct_Bilirubin</th>\n",
              "      <th>Alkaline_Phosphotase</th>\n",
              "      <th>Alamine_Aminotransferase</th>\n",
              "      <th>Aspartate_Aminotransferase</th>\n",
              "      <th>Total_Protiens</th>\n",
              "      <th>Albumin</th>\n",
              "      <th>Albumin_and_Globulin_Ratio</th>\n",
              "      <th>Dataset</th>\n",
              "    </tr>\n",
              "  </thead>\n",
              "  <tbody>\n",
              "    <tr>\n",
              "      <th>19</th>\n",
              "      <td>40</td>\n",
              "      <td>Female</td>\n",
              "      <td>0.9</td>\n",
              "      <td>0.3</td>\n",
              "      <td>293</td>\n",
              "      <td>232</td>\n",
              "      <td>245</td>\n",
              "      <td>6.8</td>\n",
              "      <td>3.1</td>\n",
              "      <td>0.80</td>\n",
              "      <td>1</td>\n",
              "    </tr>\n",
              "    <tr>\n",
              "      <th>26</th>\n",
              "      <td>34</td>\n",
              "      <td>Male</td>\n",
              "      <td>4.1</td>\n",
              "      <td>2.0</td>\n",
              "      <td>289</td>\n",
              "      <td>875</td>\n",
              "      <td>731</td>\n",
              "      <td>5.0</td>\n",
              "      <td>2.7</td>\n",
              "      <td>1.10</td>\n",
              "      <td>1</td>\n",
              "    </tr>\n",
              "    <tr>\n",
              "      <th>34</th>\n",
              "      <td>38</td>\n",
              "      <td>Female</td>\n",
              "      <td>2.6</td>\n",
              "      <td>1.2</td>\n",
              "      <td>410</td>\n",
              "      <td>59</td>\n",
              "      <td>57</td>\n",
              "      <td>5.6</td>\n",
              "      <td>3.0</td>\n",
              "      <td>0.80</td>\n",
              "      <td>2</td>\n",
              "    </tr>\n",
              "    <tr>\n",
              "      <th>55</th>\n",
              "      <td>42</td>\n",
              "      <td>Male</td>\n",
              "      <td>8.9</td>\n",
              "      <td>4.5</td>\n",
              "      <td>272</td>\n",
              "      <td>31</td>\n",
              "      <td>61</td>\n",
              "      <td>5.8</td>\n",
              "      <td>2.0</td>\n",
              "      <td>0.50</td>\n",
              "      <td>1</td>\n",
              "    </tr>\n",
              "    <tr>\n",
              "      <th>62</th>\n",
              "      <td>58</td>\n",
              "      <td>Male</td>\n",
              "      <td>1.0</td>\n",
              "      <td>0.5</td>\n",
              "      <td>158</td>\n",
              "      <td>37</td>\n",
              "      <td>43</td>\n",
              "      <td>7.2</td>\n",
              "      <td>3.6</td>\n",
              "      <td>1.00</td>\n",
              "      <td>1</td>\n",
              "    </tr>\n",
              "    <tr>\n",
              "      <th>106</th>\n",
              "      <td>36</td>\n",
              "      <td>Male</td>\n",
              "      <td>5.3</td>\n",
              "      <td>2.3</td>\n",
              "      <td>145</td>\n",
              "      <td>32</td>\n",
              "      <td>92</td>\n",
              "      <td>5.1</td>\n",
              "      <td>2.6</td>\n",
              "      <td>1.00</td>\n",
              "      <td>2</td>\n",
              "    </tr>\n",
              "    <tr>\n",
              "      <th>108</th>\n",
              "      <td>36</td>\n",
              "      <td>Male</td>\n",
              "      <td>0.8</td>\n",
              "      <td>0.2</td>\n",
              "      <td>158</td>\n",
              "      <td>29</td>\n",
              "      <td>39</td>\n",
              "      <td>6.0</td>\n",
              "      <td>2.2</td>\n",
              "      <td>0.50</td>\n",
              "      <td>2</td>\n",
              "    </tr>\n",
              "    <tr>\n",
              "      <th>138</th>\n",
              "      <td>18</td>\n",
              "      <td>Male</td>\n",
              "      <td>0.8</td>\n",
              "      <td>0.2</td>\n",
              "      <td>282</td>\n",
              "      <td>72</td>\n",
              "      <td>140</td>\n",
              "      <td>5.5</td>\n",
              "      <td>2.5</td>\n",
              "      <td>0.80</td>\n",
              "      <td>1</td>\n",
              "    </tr>\n",
              "    <tr>\n",
              "      <th>143</th>\n",
              "      <td>30</td>\n",
              "      <td>Male</td>\n",
              "      <td>1.6</td>\n",
              "      <td>0.4</td>\n",
              "      <td>332</td>\n",
              "      <td>84</td>\n",
              "      <td>139</td>\n",
              "      <td>5.6</td>\n",
              "      <td>2.7</td>\n",
              "      <td>0.90</td>\n",
              "      <td>1</td>\n",
              "    </tr>\n",
              "    <tr>\n",
              "      <th>158</th>\n",
              "      <td>72</td>\n",
              "      <td>Male</td>\n",
              "      <td>0.7</td>\n",
              "      <td>0.1</td>\n",
              "      <td>196</td>\n",
              "      <td>20</td>\n",
              "      <td>35</td>\n",
              "      <td>5.8</td>\n",
              "      <td>2.0</td>\n",
              "      <td>0.50</td>\n",
              "      <td>1</td>\n",
              "    </tr>\n",
              "    <tr>\n",
              "      <th>164</th>\n",
              "      <td>39</td>\n",
              "      <td>Male</td>\n",
              "      <td>1.9</td>\n",
              "      <td>0.9</td>\n",
              "      <td>180</td>\n",
              "      <td>42</td>\n",
              "      <td>62</td>\n",
              "      <td>7.4</td>\n",
              "      <td>4.3</td>\n",
              "      <td>1.38</td>\n",
              "      <td>1</td>\n",
              "    </tr>\n",
              "    <tr>\n",
              "      <th>174</th>\n",
              "      <td>31</td>\n",
              "      <td>Male</td>\n",
              "      <td>0.6</td>\n",
              "      <td>0.1</td>\n",
              "      <td>175</td>\n",
              "      <td>48</td>\n",
              "      <td>34</td>\n",
              "      <td>6.0</td>\n",
              "      <td>3.7</td>\n",
              "      <td>1.60</td>\n",
              "      <td>1</td>\n",
              "    </tr>\n",
              "    <tr>\n",
              "      <th>201</th>\n",
              "      <td>49</td>\n",
              "      <td>Male</td>\n",
              "      <td>0.6</td>\n",
              "      <td>0.1</td>\n",
              "      <td>218</td>\n",
              "      <td>50</td>\n",
              "      <td>53</td>\n",
              "      <td>5.0</td>\n",
              "      <td>2.4</td>\n",
              "      <td>0.90</td>\n",
              "      <td>1</td>\n",
              "    </tr>\n",
              "  </tbody>\n",
              "</table>\n",
              "</div>\n",
              "      <button class=\"colab-df-convert\" onclick=\"convertToInteractive('df-af9e53ce-578a-45b2-9d67-9afb7c5cea97')\"\n",
              "              title=\"Convert this dataframe to an interactive table.\"\n",
              "              style=\"display:none;\">\n",
              "        \n",
              "  <svg xmlns=\"http://www.w3.org/2000/svg\" height=\"24px\"viewBox=\"0 0 24 24\"\n",
              "       width=\"24px\">\n",
              "    <path d=\"M0 0h24v24H0V0z\" fill=\"none\"/>\n",
              "    <path d=\"M18.56 5.44l.94 2.06.94-2.06 2.06-.94-2.06-.94-.94-2.06-.94 2.06-2.06.94zm-11 1L8.5 8.5l.94-2.06 2.06-.94-2.06-.94L8.5 2.5l-.94 2.06-2.06.94zm10 10l.94 2.06.94-2.06 2.06-.94-2.06-.94-.94-2.06-.94 2.06-2.06.94z\"/><path d=\"M17.41 7.96l-1.37-1.37c-.4-.4-.92-.59-1.43-.59-.52 0-1.04.2-1.43.59L10.3 9.45l-7.72 7.72c-.78.78-.78 2.05 0 2.83L4 21.41c.39.39.9.59 1.41.59.51 0 1.02-.2 1.41-.59l7.78-7.78 2.81-2.81c.8-.78.8-2.07 0-2.86zM5.41 20L4 18.59l7.72-7.72 1.47 1.35L5.41 20z\"/>\n",
              "  </svg>\n",
              "      </button>\n",
              "      \n",
              "  <style>\n",
              "    .colab-df-container {\n",
              "      display:flex;\n",
              "      flex-wrap:wrap;\n",
              "      gap: 12px;\n",
              "    }\n",
              "\n",
              "    .colab-df-convert {\n",
              "      background-color: #E8F0FE;\n",
              "      border: none;\n",
              "      border-radius: 50%;\n",
              "      cursor: pointer;\n",
              "      display: none;\n",
              "      fill: #1967D2;\n",
              "      height: 32px;\n",
              "      padding: 0 0 0 0;\n",
              "      width: 32px;\n",
              "    }\n",
              "\n",
              "    .colab-df-convert:hover {\n",
              "      background-color: #E2EBFA;\n",
              "      box-shadow: 0px 1px 2px rgba(60, 64, 67, 0.3), 0px 1px 3px 1px rgba(60, 64, 67, 0.15);\n",
              "      fill: #174EA6;\n",
              "    }\n",
              "\n",
              "    [theme=dark] .colab-df-convert {\n",
              "      background-color: #3B4455;\n",
              "      fill: #D2E3FC;\n",
              "    }\n",
              "\n",
              "    [theme=dark] .colab-df-convert:hover {\n",
              "      background-color: #434B5C;\n",
              "      box-shadow: 0px 1px 3px 1px rgba(0, 0, 0, 0.15);\n",
              "      filter: drop-shadow(0px 1px 2px rgba(0, 0, 0, 0.3));\n",
              "      fill: #FFFFFF;\n",
              "    }\n",
              "  </style>\n",
              "\n",
              "      <script>\n",
              "        const buttonEl =\n",
              "          document.querySelector('#df-af9e53ce-578a-45b2-9d67-9afb7c5cea97 button.colab-df-convert');\n",
              "        buttonEl.style.display =\n",
              "          google.colab.kernel.accessAllowed ? 'block' : 'none';\n",
              "\n",
              "        async function convertToInteractive(key) {\n",
              "          const element = document.querySelector('#df-af9e53ce-578a-45b2-9d67-9afb7c5cea97');\n",
              "          const dataTable =\n",
              "            await google.colab.kernel.invokeFunction('convertToInteractive',\n",
              "                                                     [key], {});\n",
              "          if (!dataTable) return;\n",
              "\n",
              "          const docLinkHtml = 'Like what you see? Visit the ' +\n",
              "            '<a target=\"_blank\" href=https://colab.research.google.com/notebooks/data_table.ipynb>data table notebook</a>'\n",
              "            + ' to learn more about interactive tables.';\n",
              "          element.innerHTML = '';\n",
              "          dataTable['output_type'] = 'display_data';\n",
              "          await google.colab.output.renderOutput(dataTable, element);\n",
              "          const docLink = document.createElement('div');\n",
              "          docLink.innerHTML = docLinkHtml;\n",
              "          element.appendChild(docLink);\n",
              "        }\n",
              "      </script>\n",
              "    </div>\n",
              "  </div>\n",
              "  "
            ]
          },
          "metadata": {},
          "execution_count": 17
        }
      ],
      "source": [
        "# Selecting duplicate rows except first \n",
        "# occurrence based on all columns\n",
        "dup_rows = data[data.duplicated()]\n",
        "dup_rows"
      ]
    },
    {
      "cell_type": "code",
      "execution_count": 18,
      "id": "6b608488",
      "metadata": {
        "id": "6b608488"
      },
      "outputs": [],
      "source": [
        "#drop 13 duplicated rows except for the first occurrence \n",
        "data.drop_duplicates(keep='first',inplace=True) "
      ]
    },
    {
      "cell_type": "code",
      "execution_count": 19,
      "id": "15550eb0",
      "metadata": {
        "scrolled": true,
        "colab": {
          "base_uri": "https://localhost:8080/"
        },
        "id": "15550eb0",
        "outputId": "2f658e85-3caf-4d84-af7e-39d7e0a3a167"
      },
      "outputs": [
        {
          "output_type": "execute_result",
          "data": {
            "text/plain": [
              "0"
            ]
          },
          "metadata": {},
          "execution_count": 19
        }
      ],
      "source": [
        "data.duplicated().sum()"
      ]
    },
    {
      "cell_type": "code",
      "execution_count": 20,
      "id": "23e6fc9f",
      "metadata": {
        "colab": {
          "base_uri": "https://localhost:8080/"
        },
        "id": "23e6fc9f",
        "outputId": "e4326de2-aa35-41cb-ea6d-d3e42f0a7dd9"
      },
      "outputs": [
        {
          "output_type": "execute_result",
          "data": {
            "text/plain": [
              "(570, 11)"
            ]
          },
          "metadata": {},
          "execution_count": 20
        }
      ],
      "source": [
        "data.shape"
      ]
    },
    {
      "cell_type": "markdown",
      "id": "c4518e9d",
      "metadata": {
        "id": "c4518e9d"
      },
      "source": [
        "### Check for null values"
      ]
    },
    {
      "cell_type": "code",
      "execution_count": 21,
      "id": "5f88bf28",
      "metadata": {
        "scrolled": true,
        "colab": {
          "base_uri": "https://localhost:8080/"
        },
        "id": "5f88bf28",
        "outputId": "d2c6ee8a-7afb-4d2d-9405-efbbf4b5414d"
      },
      "outputs": [
        {
          "output_type": "execute_result",
          "data": {
            "text/plain": [
              "Age                           0\n",
              "Gender                        0\n",
              "Total_Bilirubin               0\n",
              "Direct_Bilirubin              0\n",
              "Alkaline_Phosphotase          0\n",
              "Alamine_Aminotransferase      0\n",
              "Aspartate_Aminotransferase    0\n",
              "Total_Protiens                0\n",
              "Albumin                       0\n",
              "Albumin_and_Globulin_Ratio    4\n",
              "Dataset                       0\n",
              "dtype: int64"
            ]
          },
          "metadata": {},
          "execution_count": 21
        }
      ],
      "source": [
        "data.isnull().sum()"
      ]
    },
    {
      "cell_type": "code",
      "execution_count": 22,
      "id": "b15c2bbb",
      "metadata": {
        "colab": {
          "base_uri": "https://localhost:8080/",
          "height": 0
        },
        "id": "b15c2bbb",
        "outputId": "d74ebdb4-44c3-41f5-e408-73a74e20813f"
      },
      "outputs": [
        {
          "output_type": "execute_result",
          "data": {
            "text/plain": [
              "     Age  Gender  Total_Bilirubin  Direct_Bilirubin  Alkaline_Phosphotase  \\\n",
              "209   45  Female              0.9               0.3                   189   \n",
              "241   51    Male              0.8               0.2                   230   \n",
              "253   35  Female              0.6               0.2                   180   \n",
              "312   27    Male              1.3               0.6                   106   \n",
              "\n",
              "     Alamine_Aminotransferase  Aspartate_Aminotransferase  Total_Protiens  \\\n",
              "209                        23                          33             6.6   \n",
              "241                        24                          46             6.5   \n",
              "253                        12                          15             5.2   \n",
              "312                        25                          54             8.5   \n",
              "\n",
              "     Albumin  Albumin_and_Globulin_Ratio  Dataset  \n",
              "209      3.9                         NaN        1  \n",
              "241      3.1                         NaN        1  \n",
              "253      2.7                         NaN        2  \n",
              "312      4.8                         NaN        2  "
            ],
            "text/html": [
              "\n",
              "  <div id=\"df-8a01f755-c6d5-462a-8c91-a71b641b5143\">\n",
              "    <div class=\"colab-df-container\">\n",
              "      <div>\n",
              "<style scoped>\n",
              "    .dataframe tbody tr th:only-of-type {\n",
              "        vertical-align: middle;\n",
              "    }\n",
              "\n",
              "    .dataframe tbody tr th {\n",
              "        vertical-align: top;\n",
              "    }\n",
              "\n",
              "    .dataframe thead th {\n",
              "        text-align: right;\n",
              "    }\n",
              "</style>\n",
              "<table border=\"1\" class=\"dataframe\">\n",
              "  <thead>\n",
              "    <tr style=\"text-align: right;\">\n",
              "      <th></th>\n",
              "      <th>Age</th>\n",
              "      <th>Gender</th>\n",
              "      <th>Total_Bilirubin</th>\n",
              "      <th>Direct_Bilirubin</th>\n",
              "      <th>Alkaline_Phosphotase</th>\n",
              "      <th>Alamine_Aminotransferase</th>\n",
              "      <th>Aspartate_Aminotransferase</th>\n",
              "      <th>Total_Protiens</th>\n",
              "      <th>Albumin</th>\n",
              "      <th>Albumin_and_Globulin_Ratio</th>\n",
              "      <th>Dataset</th>\n",
              "    </tr>\n",
              "  </thead>\n",
              "  <tbody>\n",
              "    <tr>\n",
              "      <th>209</th>\n",
              "      <td>45</td>\n",
              "      <td>Female</td>\n",
              "      <td>0.9</td>\n",
              "      <td>0.3</td>\n",
              "      <td>189</td>\n",
              "      <td>23</td>\n",
              "      <td>33</td>\n",
              "      <td>6.6</td>\n",
              "      <td>3.9</td>\n",
              "      <td>NaN</td>\n",
              "      <td>1</td>\n",
              "    </tr>\n",
              "    <tr>\n",
              "      <th>241</th>\n",
              "      <td>51</td>\n",
              "      <td>Male</td>\n",
              "      <td>0.8</td>\n",
              "      <td>0.2</td>\n",
              "      <td>230</td>\n",
              "      <td>24</td>\n",
              "      <td>46</td>\n",
              "      <td>6.5</td>\n",
              "      <td>3.1</td>\n",
              "      <td>NaN</td>\n",
              "      <td>1</td>\n",
              "    </tr>\n",
              "    <tr>\n",
              "      <th>253</th>\n",
              "      <td>35</td>\n",
              "      <td>Female</td>\n",
              "      <td>0.6</td>\n",
              "      <td>0.2</td>\n",
              "      <td>180</td>\n",
              "      <td>12</td>\n",
              "      <td>15</td>\n",
              "      <td>5.2</td>\n",
              "      <td>2.7</td>\n",
              "      <td>NaN</td>\n",
              "      <td>2</td>\n",
              "    </tr>\n",
              "    <tr>\n",
              "      <th>312</th>\n",
              "      <td>27</td>\n",
              "      <td>Male</td>\n",
              "      <td>1.3</td>\n",
              "      <td>0.6</td>\n",
              "      <td>106</td>\n",
              "      <td>25</td>\n",
              "      <td>54</td>\n",
              "      <td>8.5</td>\n",
              "      <td>4.8</td>\n",
              "      <td>NaN</td>\n",
              "      <td>2</td>\n",
              "    </tr>\n",
              "  </tbody>\n",
              "</table>\n",
              "</div>\n",
              "      <button class=\"colab-df-convert\" onclick=\"convertToInteractive('df-8a01f755-c6d5-462a-8c91-a71b641b5143')\"\n",
              "              title=\"Convert this dataframe to an interactive table.\"\n",
              "              style=\"display:none;\">\n",
              "        \n",
              "  <svg xmlns=\"http://www.w3.org/2000/svg\" height=\"24px\"viewBox=\"0 0 24 24\"\n",
              "       width=\"24px\">\n",
              "    <path d=\"M0 0h24v24H0V0z\" fill=\"none\"/>\n",
              "    <path d=\"M18.56 5.44l.94 2.06.94-2.06 2.06-.94-2.06-.94-.94-2.06-.94 2.06-2.06.94zm-11 1L8.5 8.5l.94-2.06 2.06-.94-2.06-.94L8.5 2.5l-.94 2.06-2.06.94zm10 10l.94 2.06.94-2.06 2.06-.94-2.06-.94-.94-2.06-.94 2.06-2.06.94z\"/><path d=\"M17.41 7.96l-1.37-1.37c-.4-.4-.92-.59-1.43-.59-.52 0-1.04.2-1.43.59L10.3 9.45l-7.72 7.72c-.78.78-.78 2.05 0 2.83L4 21.41c.39.39.9.59 1.41.59.51 0 1.02-.2 1.41-.59l7.78-7.78 2.81-2.81c.8-.78.8-2.07 0-2.86zM5.41 20L4 18.59l7.72-7.72 1.47 1.35L5.41 20z\"/>\n",
              "  </svg>\n",
              "      </button>\n",
              "      \n",
              "  <style>\n",
              "    .colab-df-container {\n",
              "      display:flex;\n",
              "      flex-wrap:wrap;\n",
              "      gap: 12px;\n",
              "    }\n",
              "\n",
              "    .colab-df-convert {\n",
              "      background-color: #E8F0FE;\n",
              "      border: none;\n",
              "      border-radius: 50%;\n",
              "      cursor: pointer;\n",
              "      display: none;\n",
              "      fill: #1967D2;\n",
              "      height: 32px;\n",
              "      padding: 0 0 0 0;\n",
              "      width: 32px;\n",
              "    }\n",
              "\n",
              "    .colab-df-convert:hover {\n",
              "      background-color: #E2EBFA;\n",
              "      box-shadow: 0px 1px 2px rgba(60, 64, 67, 0.3), 0px 1px 3px 1px rgba(60, 64, 67, 0.15);\n",
              "      fill: #174EA6;\n",
              "    }\n",
              "\n",
              "    [theme=dark] .colab-df-convert {\n",
              "      background-color: #3B4455;\n",
              "      fill: #D2E3FC;\n",
              "    }\n",
              "\n",
              "    [theme=dark] .colab-df-convert:hover {\n",
              "      background-color: #434B5C;\n",
              "      box-shadow: 0px 1px 3px 1px rgba(0, 0, 0, 0.15);\n",
              "      filter: drop-shadow(0px 1px 2px rgba(0, 0, 0, 0.3));\n",
              "      fill: #FFFFFF;\n",
              "    }\n",
              "  </style>\n",
              "\n",
              "      <script>\n",
              "        const buttonEl =\n",
              "          document.querySelector('#df-8a01f755-c6d5-462a-8c91-a71b641b5143 button.colab-df-convert');\n",
              "        buttonEl.style.display =\n",
              "          google.colab.kernel.accessAllowed ? 'block' : 'none';\n",
              "\n",
              "        async function convertToInteractive(key) {\n",
              "          const element = document.querySelector('#df-8a01f755-c6d5-462a-8c91-a71b641b5143');\n",
              "          const dataTable =\n",
              "            await google.colab.kernel.invokeFunction('convertToInteractive',\n",
              "                                                     [key], {});\n",
              "          if (!dataTable) return;\n",
              "\n",
              "          const docLinkHtml = 'Like what you see? Visit the ' +\n",
              "            '<a target=\"_blank\" href=https://colab.research.google.com/notebooks/data_table.ipynb>data table notebook</a>'\n",
              "            + ' to learn more about interactive tables.';\n",
              "          element.innerHTML = '';\n",
              "          dataTable['output_type'] = 'display_data';\n",
              "          await google.colab.output.renderOutput(dataTable, element);\n",
              "          const docLink = document.createElement('div');\n",
              "          docLink.innerHTML = docLinkHtml;\n",
              "          element.appendChild(docLink);\n",
              "        }\n",
              "      </script>\n",
              "    </div>\n",
              "  </div>\n",
              "  "
            ]
          },
          "metadata": {},
          "execution_count": 22
        }
      ],
      "source": [
        "data[data['Albumin_and_Globulin_Ratio'].isnull()]"
      ]
    },
    {
      "cell_type": "code",
      "execution_count": 23,
      "id": "770e8468",
      "metadata": {
        "id": "770e8468"
      },
      "outputs": [],
      "source": [
        "data['Albumin_and_Globulin_Ratio'] = data['Albumin_and_Globulin_Ratio'].fillna(data['Albumin_and_Globulin_Ratio'].mean())"
      ]
    },
    {
      "cell_type": "code",
      "execution_count": 24,
      "id": "e5fd54c8",
      "metadata": {
        "colab": {
          "base_uri": "https://localhost:8080/"
        },
        "id": "e5fd54c8",
        "outputId": "7e8ef9d7-4d96-4151-df31-7e8969351238"
      },
      "outputs": [
        {
          "output_type": "execute_result",
          "data": {
            "text/plain": [
              "1    406\n",
              "2    164\n",
              "Name: Dataset, dtype: int64"
            ]
          },
          "metadata": {},
          "execution_count": 24
        }
      ],
      "source": [
        "data.Dataset.value_counts()"
      ]
    },
    {
      "cell_type": "code",
      "execution_count": 25,
      "id": "abb2d369",
      "metadata": {
        "colab": {
          "base_uri": "https://localhost:8080/",
          "height": 0
        },
        "id": "abb2d369",
        "outputId": "942344ee-c68d-43b1-d9fc-060df91daf4a"
      },
      "outputs": [
        {
          "output_type": "execute_result",
          "data": {
            "text/plain": [
              "   Age  Gender  Total_Bilirubin  Direct_Bilirubin  Alkaline_Phosphotase  \\\n",
              "0   65  Female              0.7               0.1                   187   \n",
              "1   62    Male             10.9               5.5                   699   \n",
              "2   62    Male              7.3               4.1                   490   \n",
              "3   58    Male              1.0               0.4                   182   \n",
              "4   72    Male              3.9               2.0                   195   \n",
              "\n",
              "   Alamine_Aminotransferase  Aspartate_Aminotransferase  Total_Protiens  \\\n",
              "0                        16                          18             6.8   \n",
              "1                        64                         100             7.5   \n",
              "2                        60                          68             7.0   \n",
              "3                        14                          20             6.8   \n",
              "4                        27                          59             7.3   \n",
              "\n",
              "   Albumin  Albumin_and_Globulin_Ratio  Dataset  \n",
              "0      3.3                        0.90        1  \n",
              "1      3.2                        0.74        1  \n",
              "2      3.3                        0.89        1  \n",
              "3      3.4                        1.00        1  \n",
              "4      2.4                        0.40        1  "
            ],
            "text/html": [
              "\n",
              "  <div id=\"df-3aedb091-45ff-440e-be76-d3b2aae2e311\">\n",
              "    <div class=\"colab-df-container\">\n",
              "      <div>\n",
              "<style scoped>\n",
              "    .dataframe tbody tr th:only-of-type {\n",
              "        vertical-align: middle;\n",
              "    }\n",
              "\n",
              "    .dataframe tbody tr th {\n",
              "        vertical-align: top;\n",
              "    }\n",
              "\n",
              "    .dataframe thead th {\n",
              "        text-align: right;\n",
              "    }\n",
              "</style>\n",
              "<table border=\"1\" class=\"dataframe\">\n",
              "  <thead>\n",
              "    <tr style=\"text-align: right;\">\n",
              "      <th></th>\n",
              "      <th>Age</th>\n",
              "      <th>Gender</th>\n",
              "      <th>Total_Bilirubin</th>\n",
              "      <th>Direct_Bilirubin</th>\n",
              "      <th>Alkaline_Phosphotase</th>\n",
              "      <th>Alamine_Aminotransferase</th>\n",
              "      <th>Aspartate_Aminotransferase</th>\n",
              "      <th>Total_Protiens</th>\n",
              "      <th>Albumin</th>\n",
              "      <th>Albumin_and_Globulin_Ratio</th>\n",
              "      <th>Dataset</th>\n",
              "    </tr>\n",
              "  </thead>\n",
              "  <tbody>\n",
              "    <tr>\n",
              "      <th>0</th>\n",
              "      <td>65</td>\n",
              "      <td>Female</td>\n",
              "      <td>0.7</td>\n",
              "      <td>0.1</td>\n",
              "      <td>187</td>\n",
              "      <td>16</td>\n",
              "      <td>18</td>\n",
              "      <td>6.8</td>\n",
              "      <td>3.3</td>\n",
              "      <td>0.90</td>\n",
              "      <td>1</td>\n",
              "    </tr>\n",
              "    <tr>\n",
              "      <th>1</th>\n",
              "      <td>62</td>\n",
              "      <td>Male</td>\n",
              "      <td>10.9</td>\n",
              "      <td>5.5</td>\n",
              "      <td>699</td>\n",
              "      <td>64</td>\n",
              "      <td>100</td>\n",
              "      <td>7.5</td>\n",
              "      <td>3.2</td>\n",
              "      <td>0.74</td>\n",
              "      <td>1</td>\n",
              "    </tr>\n",
              "    <tr>\n",
              "      <th>2</th>\n",
              "      <td>62</td>\n",
              "      <td>Male</td>\n",
              "      <td>7.3</td>\n",
              "      <td>4.1</td>\n",
              "      <td>490</td>\n",
              "      <td>60</td>\n",
              "      <td>68</td>\n",
              "      <td>7.0</td>\n",
              "      <td>3.3</td>\n",
              "      <td>0.89</td>\n",
              "      <td>1</td>\n",
              "    </tr>\n",
              "    <tr>\n",
              "      <th>3</th>\n",
              "      <td>58</td>\n",
              "      <td>Male</td>\n",
              "      <td>1.0</td>\n",
              "      <td>0.4</td>\n",
              "      <td>182</td>\n",
              "      <td>14</td>\n",
              "      <td>20</td>\n",
              "      <td>6.8</td>\n",
              "      <td>3.4</td>\n",
              "      <td>1.00</td>\n",
              "      <td>1</td>\n",
              "    </tr>\n",
              "    <tr>\n",
              "      <th>4</th>\n",
              "      <td>72</td>\n",
              "      <td>Male</td>\n",
              "      <td>3.9</td>\n",
              "      <td>2.0</td>\n",
              "      <td>195</td>\n",
              "      <td>27</td>\n",
              "      <td>59</td>\n",
              "      <td>7.3</td>\n",
              "      <td>2.4</td>\n",
              "      <td>0.40</td>\n",
              "      <td>1</td>\n",
              "    </tr>\n",
              "  </tbody>\n",
              "</table>\n",
              "</div>\n",
              "      <button class=\"colab-df-convert\" onclick=\"convertToInteractive('df-3aedb091-45ff-440e-be76-d3b2aae2e311')\"\n",
              "              title=\"Convert this dataframe to an interactive table.\"\n",
              "              style=\"display:none;\">\n",
              "        \n",
              "  <svg xmlns=\"http://www.w3.org/2000/svg\" height=\"24px\"viewBox=\"0 0 24 24\"\n",
              "       width=\"24px\">\n",
              "    <path d=\"M0 0h24v24H0V0z\" fill=\"none\"/>\n",
              "    <path d=\"M18.56 5.44l.94 2.06.94-2.06 2.06-.94-2.06-.94-.94-2.06-.94 2.06-2.06.94zm-11 1L8.5 8.5l.94-2.06 2.06-.94-2.06-.94L8.5 2.5l-.94 2.06-2.06.94zm10 10l.94 2.06.94-2.06 2.06-.94-2.06-.94-.94-2.06-.94 2.06-2.06.94z\"/><path d=\"M17.41 7.96l-1.37-1.37c-.4-.4-.92-.59-1.43-.59-.52 0-1.04.2-1.43.59L10.3 9.45l-7.72 7.72c-.78.78-.78 2.05 0 2.83L4 21.41c.39.39.9.59 1.41.59.51 0 1.02-.2 1.41-.59l7.78-7.78 2.81-2.81c.8-.78.8-2.07 0-2.86zM5.41 20L4 18.59l7.72-7.72 1.47 1.35L5.41 20z\"/>\n",
              "  </svg>\n",
              "      </button>\n",
              "      \n",
              "  <style>\n",
              "    .colab-df-container {\n",
              "      display:flex;\n",
              "      flex-wrap:wrap;\n",
              "      gap: 12px;\n",
              "    }\n",
              "\n",
              "    .colab-df-convert {\n",
              "      background-color: #E8F0FE;\n",
              "      border: none;\n",
              "      border-radius: 50%;\n",
              "      cursor: pointer;\n",
              "      display: none;\n",
              "      fill: #1967D2;\n",
              "      height: 32px;\n",
              "      padding: 0 0 0 0;\n",
              "      width: 32px;\n",
              "    }\n",
              "\n",
              "    .colab-df-convert:hover {\n",
              "      background-color: #E2EBFA;\n",
              "      box-shadow: 0px 1px 2px rgba(60, 64, 67, 0.3), 0px 1px 3px 1px rgba(60, 64, 67, 0.15);\n",
              "      fill: #174EA6;\n",
              "    }\n",
              "\n",
              "    [theme=dark] .colab-df-convert {\n",
              "      background-color: #3B4455;\n",
              "      fill: #D2E3FC;\n",
              "    }\n",
              "\n",
              "    [theme=dark] .colab-df-convert:hover {\n",
              "      background-color: #434B5C;\n",
              "      box-shadow: 0px 1px 3px 1px rgba(0, 0, 0, 0.15);\n",
              "      filter: drop-shadow(0px 1px 2px rgba(0, 0, 0, 0.3));\n",
              "      fill: #FFFFFF;\n",
              "    }\n",
              "  </style>\n",
              "\n",
              "      <script>\n",
              "        const buttonEl =\n",
              "          document.querySelector('#df-3aedb091-45ff-440e-be76-d3b2aae2e311 button.colab-df-convert');\n",
              "        buttonEl.style.display =\n",
              "          google.colab.kernel.accessAllowed ? 'block' : 'none';\n",
              "\n",
              "        async function convertToInteractive(key) {\n",
              "          const element = document.querySelector('#df-3aedb091-45ff-440e-be76-d3b2aae2e311');\n",
              "          const dataTable =\n",
              "            await google.colab.kernel.invokeFunction('convertToInteractive',\n",
              "                                                     [key], {});\n",
              "          if (!dataTable) return;\n",
              "\n",
              "          const docLinkHtml = 'Like what you see? Visit the ' +\n",
              "            '<a target=\"_blank\" href=https://colab.research.google.com/notebooks/data_table.ipynb>data table notebook</a>'\n",
              "            + ' to learn more about interactive tables.';\n",
              "          element.innerHTML = '';\n",
              "          dataTable['output_type'] = 'display_data';\n",
              "          await google.colab.output.renderOutput(dataTable, element);\n",
              "          const docLink = document.createElement('div');\n",
              "          docLink.innerHTML = docLinkHtml;\n",
              "          element.appendChild(docLink);\n",
              "        }\n",
              "      </script>\n",
              "    </div>\n",
              "  </div>\n",
              "  "
            ]
          },
          "metadata": {},
          "execution_count": 25
        }
      ],
      "source": [
        "data.head()"
      ]
    },
    {
      "cell_type": "code",
      "execution_count": 26,
      "id": "b8c97193",
      "metadata": {
        "id": "b8c97193"
      },
      "outputs": [],
      "source": [
        "X=data.iloc[:,:-1]\n",
        "y=data.Dataset"
      ]
    },
    {
      "cell_type": "markdown",
      "id": "752819ae",
      "metadata": {
        "id": "752819ae"
      },
      "source": [
        "### Balance the target variable"
      ]
    },
    {
      "cell_type": "code",
      "execution_count": 27,
      "id": "f84450e8",
      "metadata": {
        "colab": {
          "base_uri": "https://localhost:8080/"
        },
        "id": "f84450e8",
        "outputId": "6da47186-61fc-4c79-c12d-01c20434ccf4"
      },
      "outputs": [
        {
          "output_type": "execute_result",
          "data": {
            "text/plain": [
              "pandas.core.frame.DataFrame"
            ]
          },
          "metadata": {},
          "execution_count": 27
        }
      ],
      "source": [
        "oversampling=RandomOverSampler()\n",
        "X, y= oversampling.fit_resample(X, y)\n",
        "type(X)"
      ]
    },
    {
      "cell_type": "code",
      "execution_count": 28,
      "id": "4867c8eb",
      "metadata": {
        "colab": {
          "base_uri": "https://localhost:8080/",
          "height": 0
        },
        "id": "4867c8eb",
        "outputId": "e233b031-e3e0-4e65-ed7c-a1bcad9192aa"
      },
      "outputs": [
        {
          "output_type": "execute_result",
          "data": {
            "text/plain": [
              "     Age  Gender  Total_Bilirubin  Direct_Bilirubin  Alkaline_Phosphotase  \\\n",
              "0     65  Female              0.7               0.1                   187   \n",
              "1     62    Male             10.9               5.5                   699   \n",
              "2     62    Male              7.3               4.1                   490   \n",
              "3     58    Male              1.0               0.4                   182   \n",
              "4     72    Male              3.9               2.0                   195   \n",
              "..   ...     ...              ...               ...                   ...   \n",
              "807   69  Female              0.8               0.2                   146   \n",
              "808   60    Male              0.5               0.1                   500   \n",
              "809   18  Female              0.8               0.2                   199   \n",
              "810   11    Male              0.7               0.1                   592   \n",
              "811   47  Female              0.8               0.2                   236   \n",
              "\n",
              "     Alamine_Aminotransferase  Aspartate_Aminotransferase  Total_Protiens  \\\n",
              "0                          16                          18             6.8   \n",
              "1                          64                         100             7.5   \n",
              "2                          60                          68             7.0   \n",
              "3                          14                          20             6.8   \n",
              "4                          27                          59             7.3   \n",
              "..                        ...                         ...             ...   \n",
              "807                        42                          70             8.4   \n",
              "808                        20                          34             5.9   \n",
              "809                        34                          31             6.5   \n",
              "810                        26                          29             7.1   \n",
              "811                        10                          13             6.7   \n",
              "\n",
              "     Albumin  Albumin_and_Globulin_Ratio  Dataset  \n",
              "0        3.3                        0.90        1  \n",
              "1        3.2                        0.74        1  \n",
              "2        3.3                        0.89        1  \n",
              "3        3.4                        1.00        1  \n",
              "4        2.4                        0.40        1  \n",
              "..       ...                         ...      ...  \n",
              "807      4.9                        1.40        2  \n",
              "808      1.6                        0.37        2  \n",
              "809      3.5                        1.16        2  \n",
              "810      4.2                        1.40        2  \n",
              "811      2.9                        0.76        2  \n",
              "\n",
              "[812 rows x 11 columns]"
            ],
            "text/html": [
              "\n",
              "  <div id=\"df-29f7a9e5-790c-418e-9521-f74f85cda41d\">\n",
              "    <div class=\"colab-df-container\">\n",
              "      <div>\n",
              "<style scoped>\n",
              "    .dataframe tbody tr th:only-of-type {\n",
              "        vertical-align: middle;\n",
              "    }\n",
              "\n",
              "    .dataframe tbody tr th {\n",
              "        vertical-align: top;\n",
              "    }\n",
              "\n",
              "    .dataframe thead th {\n",
              "        text-align: right;\n",
              "    }\n",
              "</style>\n",
              "<table border=\"1\" class=\"dataframe\">\n",
              "  <thead>\n",
              "    <tr style=\"text-align: right;\">\n",
              "      <th></th>\n",
              "      <th>Age</th>\n",
              "      <th>Gender</th>\n",
              "      <th>Total_Bilirubin</th>\n",
              "      <th>Direct_Bilirubin</th>\n",
              "      <th>Alkaline_Phosphotase</th>\n",
              "      <th>Alamine_Aminotransferase</th>\n",
              "      <th>Aspartate_Aminotransferase</th>\n",
              "      <th>Total_Protiens</th>\n",
              "      <th>Albumin</th>\n",
              "      <th>Albumin_and_Globulin_Ratio</th>\n",
              "      <th>Dataset</th>\n",
              "    </tr>\n",
              "  </thead>\n",
              "  <tbody>\n",
              "    <tr>\n",
              "      <th>0</th>\n",
              "      <td>65</td>\n",
              "      <td>Female</td>\n",
              "      <td>0.7</td>\n",
              "      <td>0.1</td>\n",
              "      <td>187</td>\n",
              "      <td>16</td>\n",
              "      <td>18</td>\n",
              "      <td>6.8</td>\n",
              "      <td>3.3</td>\n",
              "      <td>0.90</td>\n",
              "      <td>1</td>\n",
              "    </tr>\n",
              "    <tr>\n",
              "      <th>1</th>\n",
              "      <td>62</td>\n",
              "      <td>Male</td>\n",
              "      <td>10.9</td>\n",
              "      <td>5.5</td>\n",
              "      <td>699</td>\n",
              "      <td>64</td>\n",
              "      <td>100</td>\n",
              "      <td>7.5</td>\n",
              "      <td>3.2</td>\n",
              "      <td>0.74</td>\n",
              "      <td>1</td>\n",
              "    </tr>\n",
              "    <tr>\n",
              "      <th>2</th>\n",
              "      <td>62</td>\n",
              "      <td>Male</td>\n",
              "      <td>7.3</td>\n",
              "      <td>4.1</td>\n",
              "      <td>490</td>\n",
              "      <td>60</td>\n",
              "      <td>68</td>\n",
              "      <td>7.0</td>\n",
              "      <td>3.3</td>\n",
              "      <td>0.89</td>\n",
              "      <td>1</td>\n",
              "    </tr>\n",
              "    <tr>\n",
              "      <th>3</th>\n",
              "      <td>58</td>\n",
              "      <td>Male</td>\n",
              "      <td>1.0</td>\n",
              "      <td>0.4</td>\n",
              "      <td>182</td>\n",
              "      <td>14</td>\n",
              "      <td>20</td>\n",
              "      <td>6.8</td>\n",
              "      <td>3.4</td>\n",
              "      <td>1.00</td>\n",
              "      <td>1</td>\n",
              "    </tr>\n",
              "    <tr>\n",
              "      <th>4</th>\n",
              "      <td>72</td>\n",
              "      <td>Male</td>\n",
              "      <td>3.9</td>\n",
              "      <td>2.0</td>\n",
              "      <td>195</td>\n",
              "      <td>27</td>\n",
              "      <td>59</td>\n",
              "      <td>7.3</td>\n",
              "      <td>2.4</td>\n",
              "      <td>0.40</td>\n",
              "      <td>1</td>\n",
              "    </tr>\n",
              "    <tr>\n",
              "      <th>...</th>\n",
              "      <td>...</td>\n",
              "      <td>...</td>\n",
              "      <td>...</td>\n",
              "      <td>...</td>\n",
              "      <td>...</td>\n",
              "      <td>...</td>\n",
              "      <td>...</td>\n",
              "      <td>...</td>\n",
              "      <td>...</td>\n",
              "      <td>...</td>\n",
              "      <td>...</td>\n",
              "    </tr>\n",
              "    <tr>\n",
              "      <th>807</th>\n",
              "      <td>69</td>\n",
              "      <td>Female</td>\n",
              "      <td>0.8</td>\n",
              "      <td>0.2</td>\n",
              "      <td>146</td>\n",
              "      <td>42</td>\n",
              "      <td>70</td>\n",
              "      <td>8.4</td>\n",
              "      <td>4.9</td>\n",
              "      <td>1.40</td>\n",
              "      <td>2</td>\n",
              "    </tr>\n",
              "    <tr>\n",
              "      <th>808</th>\n",
              "      <td>60</td>\n",
              "      <td>Male</td>\n",
              "      <td>0.5</td>\n",
              "      <td>0.1</td>\n",
              "      <td>500</td>\n",
              "      <td>20</td>\n",
              "      <td>34</td>\n",
              "      <td>5.9</td>\n",
              "      <td>1.6</td>\n",
              "      <td>0.37</td>\n",
              "      <td>2</td>\n",
              "    </tr>\n",
              "    <tr>\n",
              "      <th>809</th>\n",
              "      <td>18</td>\n",
              "      <td>Female</td>\n",
              "      <td>0.8</td>\n",
              "      <td>0.2</td>\n",
              "      <td>199</td>\n",
              "      <td>34</td>\n",
              "      <td>31</td>\n",
              "      <td>6.5</td>\n",
              "      <td>3.5</td>\n",
              "      <td>1.16</td>\n",
              "      <td>2</td>\n",
              "    </tr>\n",
              "    <tr>\n",
              "      <th>810</th>\n",
              "      <td>11</td>\n",
              "      <td>Male</td>\n",
              "      <td>0.7</td>\n",
              "      <td>0.1</td>\n",
              "      <td>592</td>\n",
              "      <td>26</td>\n",
              "      <td>29</td>\n",
              "      <td>7.1</td>\n",
              "      <td>4.2</td>\n",
              "      <td>1.40</td>\n",
              "      <td>2</td>\n",
              "    </tr>\n",
              "    <tr>\n",
              "      <th>811</th>\n",
              "      <td>47</td>\n",
              "      <td>Female</td>\n",
              "      <td>0.8</td>\n",
              "      <td>0.2</td>\n",
              "      <td>236</td>\n",
              "      <td>10</td>\n",
              "      <td>13</td>\n",
              "      <td>6.7</td>\n",
              "      <td>2.9</td>\n",
              "      <td>0.76</td>\n",
              "      <td>2</td>\n",
              "    </tr>\n",
              "  </tbody>\n",
              "</table>\n",
              "<p>812 rows × 11 columns</p>\n",
              "</div>\n",
              "      <button class=\"colab-df-convert\" onclick=\"convertToInteractive('df-29f7a9e5-790c-418e-9521-f74f85cda41d')\"\n",
              "              title=\"Convert this dataframe to an interactive table.\"\n",
              "              style=\"display:none;\">\n",
              "        \n",
              "  <svg xmlns=\"http://www.w3.org/2000/svg\" height=\"24px\"viewBox=\"0 0 24 24\"\n",
              "       width=\"24px\">\n",
              "    <path d=\"M0 0h24v24H0V0z\" fill=\"none\"/>\n",
              "    <path d=\"M18.56 5.44l.94 2.06.94-2.06 2.06-.94-2.06-.94-.94-2.06-.94 2.06-2.06.94zm-11 1L8.5 8.5l.94-2.06 2.06-.94-2.06-.94L8.5 2.5l-.94 2.06-2.06.94zm10 10l.94 2.06.94-2.06 2.06-.94-2.06-.94-.94-2.06-.94 2.06-2.06.94z\"/><path d=\"M17.41 7.96l-1.37-1.37c-.4-.4-.92-.59-1.43-.59-.52 0-1.04.2-1.43.59L10.3 9.45l-7.72 7.72c-.78.78-.78 2.05 0 2.83L4 21.41c.39.39.9.59 1.41.59.51 0 1.02-.2 1.41-.59l7.78-7.78 2.81-2.81c.8-.78.8-2.07 0-2.86zM5.41 20L4 18.59l7.72-7.72 1.47 1.35L5.41 20z\"/>\n",
              "  </svg>\n",
              "      </button>\n",
              "      \n",
              "  <style>\n",
              "    .colab-df-container {\n",
              "      display:flex;\n",
              "      flex-wrap:wrap;\n",
              "      gap: 12px;\n",
              "    }\n",
              "\n",
              "    .colab-df-convert {\n",
              "      background-color: #E8F0FE;\n",
              "      border: none;\n",
              "      border-radius: 50%;\n",
              "      cursor: pointer;\n",
              "      display: none;\n",
              "      fill: #1967D2;\n",
              "      height: 32px;\n",
              "      padding: 0 0 0 0;\n",
              "      width: 32px;\n",
              "    }\n",
              "\n",
              "    .colab-df-convert:hover {\n",
              "      background-color: #E2EBFA;\n",
              "      box-shadow: 0px 1px 2px rgba(60, 64, 67, 0.3), 0px 1px 3px 1px rgba(60, 64, 67, 0.15);\n",
              "      fill: #174EA6;\n",
              "    }\n",
              "\n",
              "    [theme=dark] .colab-df-convert {\n",
              "      background-color: #3B4455;\n",
              "      fill: #D2E3FC;\n",
              "    }\n",
              "\n",
              "    [theme=dark] .colab-df-convert:hover {\n",
              "      background-color: #434B5C;\n",
              "      box-shadow: 0px 1px 3px 1px rgba(0, 0, 0, 0.15);\n",
              "      filter: drop-shadow(0px 1px 2px rgba(0, 0, 0, 0.3));\n",
              "      fill: #FFFFFF;\n",
              "    }\n",
              "  </style>\n",
              "\n",
              "      <script>\n",
              "        const buttonEl =\n",
              "          document.querySelector('#df-29f7a9e5-790c-418e-9521-f74f85cda41d button.colab-df-convert');\n",
              "        buttonEl.style.display =\n",
              "          google.colab.kernel.accessAllowed ? 'block' : 'none';\n",
              "\n",
              "        async function convertToInteractive(key) {\n",
              "          const element = document.querySelector('#df-29f7a9e5-790c-418e-9521-f74f85cda41d');\n",
              "          const dataTable =\n",
              "            await google.colab.kernel.invokeFunction('convertToInteractive',\n",
              "                                                     [key], {});\n",
              "          if (!dataTable) return;\n",
              "\n",
              "          const docLinkHtml = 'Like what you see? Visit the ' +\n",
              "            '<a target=\"_blank\" href=https://colab.research.google.com/notebooks/data_table.ipynb>data table notebook</a>'\n",
              "            + ' to learn more about interactive tables.';\n",
              "          element.innerHTML = '';\n",
              "          dataTable['output_type'] = 'display_data';\n",
              "          await google.colab.output.renderOutput(dataTable, element);\n",
              "          const docLink = document.createElement('div');\n",
              "          docLink.innerHTML = docLinkHtml;\n",
              "          element.appendChild(docLink);\n",
              "        }\n",
              "      </script>\n",
              "    </div>\n",
              "  </div>\n",
              "  "
            ]
          },
          "metadata": {},
          "execution_count": 28
        }
      ],
      "source": [
        "new_data=pd.DataFrame(data=X, columns=X.columns)\n",
        "new_data[\"Dataset\"]=y\n",
        "new_data"
      ]
    },
    {
      "cell_type": "code",
      "execution_count": 29,
      "id": "6d789003",
      "metadata": {
        "colab": {
          "base_uri": "https://localhost:8080/"
        },
        "id": "6d789003",
        "outputId": "ebd1b96b-1b12-419f-8185-fa49e9cf37ca"
      },
      "outputs": [
        {
          "output_type": "execute_result",
          "data": {
            "text/plain": [
              "1    406\n",
              "2    406\n",
              "Name: Dataset, dtype: int64"
            ]
          },
          "metadata": {},
          "execution_count": 29
        }
      ],
      "source": [
        "new_data[\"Dataset\"].value_counts()"
      ]
    },
    {
      "cell_type": "code",
      "execution_count": 30,
      "id": "88ea1640",
      "metadata": {
        "colab": {
          "base_uri": "https://localhost:8080/",
          "height": 0
        },
        "id": "88ea1640",
        "outputId": "c466570e-ac4f-4759-8149-8141caf123fe"
      },
      "outputs": [
        {
          "output_type": "execute_result",
          "data": {
            "text/plain": [
              "   Age  Total_Bilirubin  Direct_Bilirubin  Alkaline_Phosphotase  \\\n",
              "0   65              0.7               0.1                   187   \n",
              "1   62             10.9               5.5                   699   \n",
              "2   62              7.3               4.1                   490   \n",
              "3   58              1.0               0.4                   182   \n",
              "4   72              3.9               2.0                   195   \n",
              "\n",
              "   Alamine_Aminotransferase  Aspartate_Aminotransferase  Total_Protiens  \\\n",
              "0                        16                          18             6.8   \n",
              "1                        64                         100             7.5   \n",
              "2                        60                          68             7.0   \n",
              "3                        14                          20             6.8   \n",
              "4                        27                          59             7.3   \n",
              "\n",
              "   Albumin  Albumin_and_Globulin_Ratio  Dataset  \n",
              "0      3.3                        0.90        1  \n",
              "1      3.2                        0.74        1  \n",
              "2      3.3                        0.89        1  \n",
              "3      3.4                        1.00        1  \n",
              "4      2.4                        0.40        1  "
            ],
            "text/html": [
              "\n",
              "  <div id=\"df-0f5554fc-519d-4316-b3fe-b2edaec88a3e\">\n",
              "    <div class=\"colab-df-container\">\n",
              "      <div>\n",
              "<style scoped>\n",
              "    .dataframe tbody tr th:only-of-type {\n",
              "        vertical-align: middle;\n",
              "    }\n",
              "\n",
              "    .dataframe tbody tr th {\n",
              "        vertical-align: top;\n",
              "    }\n",
              "\n",
              "    .dataframe thead th {\n",
              "        text-align: right;\n",
              "    }\n",
              "</style>\n",
              "<table border=\"1\" class=\"dataframe\">\n",
              "  <thead>\n",
              "    <tr style=\"text-align: right;\">\n",
              "      <th></th>\n",
              "      <th>Age</th>\n",
              "      <th>Total_Bilirubin</th>\n",
              "      <th>Direct_Bilirubin</th>\n",
              "      <th>Alkaline_Phosphotase</th>\n",
              "      <th>Alamine_Aminotransferase</th>\n",
              "      <th>Aspartate_Aminotransferase</th>\n",
              "      <th>Total_Protiens</th>\n",
              "      <th>Albumin</th>\n",
              "      <th>Albumin_and_Globulin_Ratio</th>\n",
              "      <th>Dataset</th>\n",
              "    </tr>\n",
              "  </thead>\n",
              "  <tbody>\n",
              "    <tr>\n",
              "      <th>0</th>\n",
              "      <td>65</td>\n",
              "      <td>0.7</td>\n",
              "      <td>0.1</td>\n",
              "      <td>187</td>\n",
              "      <td>16</td>\n",
              "      <td>18</td>\n",
              "      <td>6.8</td>\n",
              "      <td>3.3</td>\n",
              "      <td>0.90</td>\n",
              "      <td>1</td>\n",
              "    </tr>\n",
              "    <tr>\n",
              "      <th>1</th>\n",
              "      <td>62</td>\n",
              "      <td>10.9</td>\n",
              "      <td>5.5</td>\n",
              "      <td>699</td>\n",
              "      <td>64</td>\n",
              "      <td>100</td>\n",
              "      <td>7.5</td>\n",
              "      <td>3.2</td>\n",
              "      <td>0.74</td>\n",
              "      <td>1</td>\n",
              "    </tr>\n",
              "    <tr>\n",
              "      <th>2</th>\n",
              "      <td>62</td>\n",
              "      <td>7.3</td>\n",
              "      <td>4.1</td>\n",
              "      <td>490</td>\n",
              "      <td>60</td>\n",
              "      <td>68</td>\n",
              "      <td>7.0</td>\n",
              "      <td>3.3</td>\n",
              "      <td>0.89</td>\n",
              "      <td>1</td>\n",
              "    </tr>\n",
              "    <tr>\n",
              "      <th>3</th>\n",
              "      <td>58</td>\n",
              "      <td>1.0</td>\n",
              "      <td>0.4</td>\n",
              "      <td>182</td>\n",
              "      <td>14</td>\n",
              "      <td>20</td>\n",
              "      <td>6.8</td>\n",
              "      <td>3.4</td>\n",
              "      <td>1.00</td>\n",
              "      <td>1</td>\n",
              "    </tr>\n",
              "    <tr>\n",
              "      <th>4</th>\n",
              "      <td>72</td>\n",
              "      <td>3.9</td>\n",
              "      <td>2.0</td>\n",
              "      <td>195</td>\n",
              "      <td>27</td>\n",
              "      <td>59</td>\n",
              "      <td>7.3</td>\n",
              "      <td>2.4</td>\n",
              "      <td>0.40</td>\n",
              "      <td>1</td>\n",
              "    </tr>\n",
              "  </tbody>\n",
              "</table>\n",
              "</div>\n",
              "      <button class=\"colab-df-convert\" onclick=\"convertToInteractive('df-0f5554fc-519d-4316-b3fe-b2edaec88a3e')\"\n",
              "              title=\"Convert this dataframe to an interactive table.\"\n",
              "              style=\"display:none;\">\n",
              "        \n",
              "  <svg xmlns=\"http://www.w3.org/2000/svg\" height=\"24px\"viewBox=\"0 0 24 24\"\n",
              "       width=\"24px\">\n",
              "    <path d=\"M0 0h24v24H0V0z\" fill=\"none\"/>\n",
              "    <path d=\"M18.56 5.44l.94 2.06.94-2.06 2.06-.94-2.06-.94-.94-2.06-.94 2.06-2.06.94zm-11 1L8.5 8.5l.94-2.06 2.06-.94-2.06-.94L8.5 2.5l-.94 2.06-2.06.94zm10 10l.94 2.06.94-2.06 2.06-.94-2.06-.94-.94-2.06-.94 2.06-2.06.94z\"/><path d=\"M17.41 7.96l-1.37-1.37c-.4-.4-.92-.59-1.43-.59-.52 0-1.04.2-1.43.59L10.3 9.45l-7.72 7.72c-.78.78-.78 2.05 0 2.83L4 21.41c.39.39.9.59 1.41.59.51 0 1.02-.2 1.41-.59l7.78-7.78 2.81-2.81c.8-.78.8-2.07 0-2.86zM5.41 20L4 18.59l7.72-7.72 1.47 1.35L5.41 20z\"/>\n",
              "  </svg>\n",
              "      </button>\n",
              "      \n",
              "  <style>\n",
              "    .colab-df-container {\n",
              "      display:flex;\n",
              "      flex-wrap:wrap;\n",
              "      gap: 12px;\n",
              "    }\n",
              "\n",
              "    .colab-df-convert {\n",
              "      background-color: #E8F0FE;\n",
              "      border: none;\n",
              "      border-radius: 50%;\n",
              "      cursor: pointer;\n",
              "      display: none;\n",
              "      fill: #1967D2;\n",
              "      height: 32px;\n",
              "      padding: 0 0 0 0;\n",
              "      width: 32px;\n",
              "    }\n",
              "\n",
              "    .colab-df-convert:hover {\n",
              "      background-color: #E2EBFA;\n",
              "      box-shadow: 0px 1px 2px rgba(60, 64, 67, 0.3), 0px 1px 3px 1px rgba(60, 64, 67, 0.15);\n",
              "      fill: #174EA6;\n",
              "    }\n",
              "\n",
              "    [theme=dark] .colab-df-convert {\n",
              "      background-color: #3B4455;\n",
              "      fill: #D2E3FC;\n",
              "    }\n",
              "\n",
              "    [theme=dark] .colab-df-convert:hover {\n",
              "      background-color: #434B5C;\n",
              "      box-shadow: 0px 1px 3px 1px rgba(0, 0, 0, 0.15);\n",
              "      filter: drop-shadow(0px 1px 2px rgba(0, 0, 0, 0.3));\n",
              "      fill: #FFFFFF;\n",
              "    }\n",
              "  </style>\n",
              "\n",
              "      <script>\n",
              "        const buttonEl =\n",
              "          document.querySelector('#df-0f5554fc-519d-4316-b3fe-b2edaec88a3e button.colab-df-convert');\n",
              "        buttonEl.style.display =\n",
              "          google.colab.kernel.accessAllowed ? 'block' : 'none';\n",
              "\n",
              "        async function convertToInteractive(key) {\n",
              "          const element = document.querySelector('#df-0f5554fc-519d-4316-b3fe-b2edaec88a3e');\n",
              "          const dataTable =\n",
              "            await google.colab.kernel.invokeFunction('convertToInteractive',\n",
              "                                                     [key], {});\n",
              "          if (!dataTable) return;\n",
              "\n",
              "          const docLinkHtml = 'Like what you see? Visit the ' +\n",
              "            '<a target=\"_blank\" href=https://colab.research.google.com/notebooks/data_table.ipynb>data table notebook</a>'\n",
              "            + ' to learn more about interactive tables.';\n",
              "          element.innerHTML = '';\n",
              "          dataTable['output_type'] = 'display_data';\n",
              "          await google.colab.output.renderOutput(dataTable, element);\n",
              "          const docLink = document.createElement('div');\n",
              "          docLink.innerHTML = docLinkHtml;\n",
              "          element.appendChild(docLink);\n",
              "        }\n",
              "      </script>\n",
              "    </div>\n",
              "  </div>\n",
              "  "
            ]
          },
          "metadata": {},
          "execution_count": 30
        }
      ],
      "source": [
        "numerical_data =new_data.select_dtypes(exclude=['object']).copy()\n",
        "numerical_data.head()"
      ]
    },
    {
      "cell_type": "code",
      "execution_count": 31,
      "id": "e78b0d65",
      "metadata": {
        "colab": {
          "base_uri": "https://localhost:8080/",
          "height": 0
        },
        "id": "e78b0d65",
        "outputId": "3f8715f1-741a-46eb-ee87-cc6d9c6f3ac1"
      },
      "outputs": [
        {
          "output_type": "execute_result",
          "data": {
            "text/plain": [
              "   Gender\n",
              "0  Female\n",
              "1    Male\n",
              "2    Male\n",
              "3    Male\n",
              "4    Male"
            ],
            "text/html": [
              "\n",
              "  <div id=\"df-1303de62-d3bc-4fee-a302-680fa2623212\">\n",
              "    <div class=\"colab-df-container\">\n",
              "      <div>\n",
              "<style scoped>\n",
              "    .dataframe tbody tr th:only-of-type {\n",
              "        vertical-align: middle;\n",
              "    }\n",
              "\n",
              "    .dataframe tbody tr th {\n",
              "        vertical-align: top;\n",
              "    }\n",
              "\n",
              "    .dataframe thead th {\n",
              "        text-align: right;\n",
              "    }\n",
              "</style>\n",
              "<table border=\"1\" class=\"dataframe\">\n",
              "  <thead>\n",
              "    <tr style=\"text-align: right;\">\n",
              "      <th></th>\n",
              "      <th>Gender</th>\n",
              "    </tr>\n",
              "  </thead>\n",
              "  <tbody>\n",
              "    <tr>\n",
              "      <th>0</th>\n",
              "      <td>Female</td>\n",
              "    </tr>\n",
              "    <tr>\n",
              "      <th>1</th>\n",
              "      <td>Male</td>\n",
              "    </tr>\n",
              "    <tr>\n",
              "      <th>2</th>\n",
              "      <td>Male</td>\n",
              "    </tr>\n",
              "    <tr>\n",
              "      <th>3</th>\n",
              "      <td>Male</td>\n",
              "    </tr>\n",
              "    <tr>\n",
              "      <th>4</th>\n",
              "      <td>Male</td>\n",
              "    </tr>\n",
              "  </tbody>\n",
              "</table>\n",
              "</div>\n",
              "      <button class=\"colab-df-convert\" onclick=\"convertToInteractive('df-1303de62-d3bc-4fee-a302-680fa2623212')\"\n",
              "              title=\"Convert this dataframe to an interactive table.\"\n",
              "              style=\"display:none;\">\n",
              "        \n",
              "  <svg xmlns=\"http://www.w3.org/2000/svg\" height=\"24px\"viewBox=\"0 0 24 24\"\n",
              "       width=\"24px\">\n",
              "    <path d=\"M0 0h24v24H0V0z\" fill=\"none\"/>\n",
              "    <path d=\"M18.56 5.44l.94 2.06.94-2.06 2.06-.94-2.06-.94-.94-2.06-.94 2.06-2.06.94zm-11 1L8.5 8.5l.94-2.06 2.06-.94-2.06-.94L8.5 2.5l-.94 2.06-2.06.94zm10 10l.94 2.06.94-2.06 2.06-.94-2.06-.94-.94-2.06-.94 2.06-2.06.94z\"/><path d=\"M17.41 7.96l-1.37-1.37c-.4-.4-.92-.59-1.43-.59-.52 0-1.04.2-1.43.59L10.3 9.45l-7.72 7.72c-.78.78-.78 2.05 0 2.83L4 21.41c.39.39.9.59 1.41.59.51 0 1.02-.2 1.41-.59l7.78-7.78 2.81-2.81c.8-.78.8-2.07 0-2.86zM5.41 20L4 18.59l7.72-7.72 1.47 1.35L5.41 20z\"/>\n",
              "  </svg>\n",
              "      </button>\n",
              "      \n",
              "  <style>\n",
              "    .colab-df-container {\n",
              "      display:flex;\n",
              "      flex-wrap:wrap;\n",
              "      gap: 12px;\n",
              "    }\n",
              "\n",
              "    .colab-df-convert {\n",
              "      background-color: #E8F0FE;\n",
              "      border: none;\n",
              "      border-radius: 50%;\n",
              "      cursor: pointer;\n",
              "      display: none;\n",
              "      fill: #1967D2;\n",
              "      height: 32px;\n",
              "      padding: 0 0 0 0;\n",
              "      width: 32px;\n",
              "    }\n",
              "\n",
              "    .colab-df-convert:hover {\n",
              "      background-color: #E2EBFA;\n",
              "      box-shadow: 0px 1px 2px rgba(60, 64, 67, 0.3), 0px 1px 3px 1px rgba(60, 64, 67, 0.15);\n",
              "      fill: #174EA6;\n",
              "    }\n",
              "\n",
              "    [theme=dark] .colab-df-convert {\n",
              "      background-color: #3B4455;\n",
              "      fill: #D2E3FC;\n",
              "    }\n",
              "\n",
              "    [theme=dark] .colab-df-convert:hover {\n",
              "      background-color: #434B5C;\n",
              "      box-shadow: 0px 1px 3px 1px rgba(0, 0, 0, 0.15);\n",
              "      filter: drop-shadow(0px 1px 2px rgba(0, 0, 0, 0.3));\n",
              "      fill: #FFFFFF;\n",
              "    }\n",
              "  </style>\n",
              "\n",
              "      <script>\n",
              "        const buttonEl =\n",
              "          document.querySelector('#df-1303de62-d3bc-4fee-a302-680fa2623212 button.colab-df-convert');\n",
              "        buttonEl.style.display =\n",
              "          google.colab.kernel.accessAllowed ? 'block' : 'none';\n",
              "\n",
              "        async function convertToInteractive(key) {\n",
              "          const element = document.querySelector('#df-1303de62-d3bc-4fee-a302-680fa2623212');\n",
              "          const dataTable =\n",
              "            await google.colab.kernel.invokeFunction('convertToInteractive',\n",
              "                                                     [key], {});\n",
              "          if (!dataTable) return;\n",
              "\n",
              "          const docLinkHtml = 'Like what you see? Visit the ' +\n",
              "            '<a target=\"_blank\" href=https://colab.research.google.com/notebooks/data_table.ipynb>data table notebook</a>'\n",
              "            + ' to learn more about interactive tables.';\n",
              "          element.innerHTML = '';\n",
              "          dataTable['output_type'] = 'display_data';\n",
              "          await google.colab.output.renderOutput(dataTable, element);\n",
              "          const docLink = document.createElement('div');\n",
              "          docLink.innerHTML = docLinkHtml;\n",
              "          element.appendChild(docLink);\n",
              "        }\n",
              "      </script>\n",
              "    </div>\n",
              "  </div>\n",
              "  "
            ]
          },
          "metadata": {},
          "execution_count": 31
        }
      ],
      "source": [
        "categorical_data =new_data.select_dtypes(include=['object']).copy()\n",
        "categorical_data.head()"
      ]
    },
    {
      "cell_type": "markdown",
      "id": "dd275fd6",
      "metadata": {
        "id": "dd275fd6"
      },
      "source": [
        "### Univariate Analysis of Numerical Features"
      ]
    },
    {
      "cell_type": "code",
      "execution_count": 32,
      "id": "0d2e1a74",
      "metadata": {
        "colab": {
          "base_uri": "https://localhost:8080/",
          "height": 0
        },
        "id": "0d2e1a74",
        "outputId": "7cb5735c-9436-4f80-af2d-a854cae63171"
      },
      "outputs": [
        {
          "output_type": "stream",
          "name": "stderr",
          "text": [
            "/usr/local/lib/python3.7/dist-packages/seaborn/distributions.py:2619: FutureWarning: `distplot` is a deprecated function and will be removed in a future version. Please adapt your code to use either `displot` (a figure-level function with similar flexibility) or `histplot` (an axes-level function for histograms).\n",
            "  warnings.warn(msg, FutureWarning)\n"
          ]
        },
        {
          "output_type": "display_data",
          "data": {
            "text/plain": [
              "<Figure size 432x288 with 1 Axes>"
            ],
            "image/png": "[encoded data removed]"
          },
          "metadata": {
            "needs_background": "light"
          }
        },
        {
          "output_type": "stream",
          "name": "stderr",
          "text": [
            "/usr/local/lib/python3.7/dist-packages/seaborn/distributions.py:2619: FutureWarning: `distplot` is a deprecated function and will be removed in a future version. Please adapt your code to use either `displot` (a figure-level function with similar flexibility) or `histplot` (an axes-level function for histograms).\n",
            "  warnings.warn(msg, FutureWarning)\n"
          ]
        },
        {
          "output_type": "display_data",
          "data": {
            "text/plain": [
              "<Figure size 432x288 with 1 Axes>"
            ],
            "image/png": "[encoded data removed]"
          },
          "metadata": {
            "needs_background": "light"
          }
        },
        {
          "output_type": "stream",
          "name": "stderr",
          "text": [
            "/usr/local/lib/python3.7/dist-packages/seaborn/distributions.py:2619: FutureWarning: `distplot` is a deprecated function and will be removed in a future version. Please adapt your code to use either `displot` (a figure-level function with similar flexibility) or `histplot` (an axes-level function for histograms).\n",
            "  warnings.warn(msg, FutureWarning)\n"
          ]
        },
        {
          "output_type": "display_data",
          "data": {
            "text/plain": [
              "<Figure size 432x288 with 1 Axes>"
            ],
            "image/png": "[encoded data removed]"
          },
          "metadata": {
            "needs_background": "light"
          }
        },
        {
          "output_type": "stream",
          "name": "stderr",
          "text": [
            "/usr/local/lib/python3.7/dist-packages/seaborn/distributions.py:2619: FutureWarning: `distplot` is a deprecated function and will be removed in a future version. Please adapt your code to use either `displot` (a figure-level function with similar flexibility) or `histplot` (an axes-level function for histograms).\n",
            "  warnings.warn(msg, FutureWarning)\n"
          ]
        },
        {
          "output_type": "display_data",
          "data": {
            "text/plain": [
              "<Figure size 432x288 with 1 Axes>"
            ],
            "image/png": "[encoded data removed]"
          },
          "metadata": {
            "needs_background": "light"
          }
        },
        {
          "output_type": "stream",
          "name": "stderr",
          "text": [
            "/usr/local/lib/python3.7/dist-packages/seaborn/distributions.py:2619: FutureWarning: `distplot` is a deprecated function and will be removed in a future version. Please adapt your code to use either `displot` (a figure-level function with similar flexibility) or `histplot` (an axes-level function for histograms).\n",
            "  warnings.warn(msg, FutureWarning)\n"
          ]
        },
        {
          "output_type": "display_data",
          "data": {
            "text/plain": [
              "<Figure size 432x288 with 1 Axes>"
            ],
            "image/png": "[encoded data removed]"
          },
          "metadata": {
            "needs_background": "light"
          }
        },
        {
          "output_type": "stream",
          "name": "stderr",
          "text": [
            "/usr/local/lib/python3.7/dist-packages/seaborn/distributions.py:2619: FutureWarning: `distplot` is a deprecated function and will be removed in a future version. Please adapt your code to use either `displot` (a figure-level function with similar flexibility) or `histplot` (an axes-level function for histograms).\n",
            "  warnings.warn(msg, FutureWarning)\n"
          ]
        },
        {
          "output_type": "display_data",
          "data": {
            "text/plain": [
              "<Figure size 432x288 with 1 Axes>"
            ],
            "image/png": "[encoded data removed]"
          },
          "metadata": {
            "needs_background": "light"
          }
        },
        {
          "output_type": "stream",
          "name": "stderr",
          "text": [
            "/usr/local/lib/python3.7/dist-packages/seaborn/distributions.py:2619: FutureWarning: `distplot` is a deprecated function and will be removed in a future version. Please adapt your code to use either `displot` (a figure-level function with similar flexibility) or `histplot` (an axes-level function for histograms).\n",
            "  warnings.warn(msg, FutureWarning)\n"
          ]
        },
        {
          "output_type": "display_data",
          "data": {
            "text/plain": [
              "<Figure size 432x288 with 1 Axes>"
            ],
            "image/png": "[encoded data removed]"
          },
          "metadata": {
            "needs_background": "light"
          }
        },
        {
          "output_type": "stream",
          "name": "stderr",
          "text": [
            "/usr/local/lib/python3.7/dist-packages/seaborn/distributions.py:2619: FutureWarning: `distplot` is a deprecated function and will be removed in a future version. Please adapt your code to use either `displot` (a figure-level function with similar flexibility) or `histplot` (an axes-level function for histograms).\n",
            "  warnings.warn(msg, FutureWarning)\n"
          ]
        },
        {
          "output_type": "display_data",
          "data": {
            "text/plain": [
              "<Figure size 432x288 with 1 Axes>"
            ],
            "image/png": "[encoded data removed]"
          },
          "metadata": {
            "needs_background": "light"
          }
        },
        {
          "output_type": "stream",
          "name": "stderr",
          "text": [
            "/usr/local/lib/python3.7/dist-packages/seaborn/distributions.py:2619: FutureWarning: `distplot` is a deprecated function and will be removed in a future version. Please adapt your code to use either `displot` (a figure-level function with similar flexibility) or `histplot` (an axes-level function for histograms).\n",
            "  warnings.warn(msg, FutureWarning)\n"
          ]
        },
        {
          "output_type": "display_data",
          "data": {
            "text/plain": [
              "<Figure size 432x288 with 1 Axes>"
            ],
            "image/png": "[encoded data removed]"
          },
          "metadata": {
            "needs_background": "light"
          }
        },
        {
          "output_type": "stream",
          "name": "stderr",
          "text": [
            "/usr/local/lib/python3.7/dist-packages/seaborn/distributions.py:2619: FutureWarning: `distplot` is a deprecated function and will be removed in a future version. Please adapt your code to use either `displot` (a figure-level function with similar flexibility) or `histplot` (an axes-level function for histograms).\n",
            "  warnings.warn(msg, FutureWarning)\n"
          ]
        },
        {
          "output_type": "display_data",
          "data": {
            "text/plain": [
              "<Figure size 432x288 with 1 Axes>"
            ],
            "image/png": "[encoded data removed]"
          },
          "metadata": {
            "needs_background": "light"
          }
        }
      ],
      "source": [
        "for i,k in numerical_data.iteritems():\n",
        "    sns.distplot(numerical_data[i].dropna(axis=0))\n",
        "    plt.show()\n",
        "   "
      ]
    },
    {
      "cell_type": "markdown",
      "id": "c603159c",
      "metadata": {
        "id": "c603159c"
      },
      "source": [
        "### Find out the relationship between numerical variable and dependent variable"
      ]
    },
    {
      "cell_type": "code",
      "execution_count": 33,
      "id": "75ed4ca0",
      "metadata": {
        "colab": {
          "base_uri": "https://localhost:8080/",
          "height": 0
        },
        "id": "75ed4ca0",
        "outputId": "4b66f2bd-bd86-4ff5-b68c-70800d17698a"
      },
      "outputs": [
        {
          "output_type": "display_data",
          "data": {
            "text/plain": [
              "<Figure size 1440x1800 with 10 Axes>"
            ],
            "image/png": "[encoded data removed]"
          },
          "metadata": {}
        }
      ],
      "source": [
        "plt.figure(figsize=(20,25), facecolor='white')\n",
        "plotnumber = 1\n",
        "\n",
        "for col in numerical_data:\n",
        "    if plotnumber<=10:\n",
        "        ax = plt.subplot(4,3,plotnumber) # rows,columns,current plot\n",
        "        sns.boxplot(data = numerical_data, y = numerical_data[col], width= 0.5, flierprops = dict(marker = \"x\", markersize = 3.5))\n",
        "        plt.xlabel(col,fontsize=20)\n",
        "        #plt.ylabel(col,fontsize=20)\n",
        "    plotnumber+=1\n",
        "plt.tight_layout()"
      ]
    },
    {
      "cell_type": "markdown",
      "id": "4b8a5702",
      "metadata": {
        "id": "4b8a5702"
      },
      "source": [
        "### Univariate Analysis for Categorical Feature"
      ]
    },
    {
      "cell_type": "code",
      "execution_count": 34,
      "id": "d0743b1d",
      "metadata": {
        "scrolled": true,
        "colab": {
          "base_uri": "https://localhost:8080/",
          "height": 0
        },
        "id": "d0743b1d",
        "outputId": "67f1053e-afeb-4f4e-8e04-689ba74c272f"
      },
      "outputs": [
        {
          "output_type": "display_data",
          "data": {
            "text/plain": [
              "<Figure size 432x288 with 1 Axes>"
            ],
            "image/png": "[encoded data removed]"
          },
          "metadata": {
            "needs_background": "light"
          }
        }
      ],
      "source": [
        "sns.countplot(x=categorical_data['Gender']);\n",
        "plt.title('Frequency Distribution of Gender')\n",
        "plt.ylabel('Number of Occurrences', fontsize=12)\n",
        "plt.show()"
      ]
    },
    {
      "cell_type": "code",
      "execution_count": 35,
      "id": "5ef1b756",
      "metadata": {
        "colab": {
          "base_uri": "https://localhost:8080/",
          "height": 0
        },
        "id": "5ef1b756",
        "outputId": "01e1c4a3-d304-49ae-dad3-5705cdf8f74d"
      },
      "outputs": [
        {
          "output_type": "display_data",
          "data": {
            "text/plain": [
              "<Figure size 432x288 with 1 Axes>"
            ],
            "image/png": "[encoded data removed]"
          },
          "metadata": {
            "needs_background": "light"
          }
        }
      ],
      "source": [
        "sns.countplot(x=numerical_data['Dataset']);\n",
        "plt.title('Frequency Distribution of Dataset')\n",
        "plt.ylabel('Number of Occurrences', fontsize=12)\n",
        "plt.show()"
      ]
    },
    {
      "cell_type": "code",
      "execution_count": 36,
      "id": "e0ba05cb",
      "metadata": {
        "colab": {
          "base_uri": "https://localhost:8080/"
        },
        "id": "e0ba05cb",
        "outputId": "e86b072d-8a74-4653-9008-1f8835640b49"
      },
      "outputs": [
        {
          "output_type": "execute_result",
          "data": {
            "text/plain": [
              "Male      586\n",
              "Female    226\n",
              "Name: Gender, dtype: int64"
            ]
          },
          "metadata": {},
          "execution_count": 36
        }
      ],
      "source": [
        "categorical_data[\"Gender\"].value_counts()"
      ]
    },
    {
      "cell_type": "markdown",
      "id": "f490b599",
      "metadata": {
        "id": "f490b599"
      },
      "source": [
        "#### Categorical to Numerical Conversion"
      ]
    },
    {
      "cell_type": "code",
      "execution_count": 37,
      "id": "41e6426e",
      "metadata": {
        "id": "41e6426e"
      },
      "outputs": [],
      "source": [
        "le=LabelEncoder()\n",
        "categorical_data['Gender']=le.fit_transform(categorical_data['Gender'])"
      ]
    },
    {
      "cell_type": "code",
      "execution_count": 38,
      "id": "e3ee8a4e",
      "metadata": {
        "id": "e3ee8a4e"
      },
      "outputs": [],
      "source": [
        "target_map={1:0,2:1}\n",
        "numerical_data['Dataset']=numerical_data['Dataset'].map(target_map)"
      ]
    },
    {
      "cell_type": "code",
      "execution_count": 39,
      "id": "c335dbfc",
      "metadata": {
        "scrolled": true,
        "colab": {
          "base_uri": "https://localhost:8080/",
          "height": 0
        },
        "id": "c335dbfc",
        "outputId": "a1a631dd-eaba-4eb3-a494-30a0de8da944"
      },
      "outputs": [
        {
          "output_type": "execute_result",
          "data": {
            "text/plain": [
              "     Gender  Age  Total_Bilirubin  Direct_Bilirubin  Alkaline_Phosphotase  \\\n",
              "0         0   65              0.7               0.1                   187   \n",
              "1         1   62             10.9               5.5                   699   \n",
              "2         1   62              7.3               4.1                   490   \n",
              "3         1   58              1.0               0.4                   182   \n",
              "4         1   72              3.9               2.0                   195   \n",
              "..      ...  ...              ...               ...                   ...   \n",
              "807       0   69              0.8               0.2                   146   \n",
              "808       1   60              0.5               0.1                   500   \n",
              "809       0   18              0.8               0.2                   199   \n",
              "810       1   11              0.7               0.1                   592   \n",
              "811       0   47              0.8               0.2                   236   \n",
              "\n",
              "     Alamine_Aminotransferase  Aspartate_Aminotransferase  Total_Protiens  \\\n",
              "0                          16                          18             6.8   \n",
              "1                          64                         100             7.5   \n",
              "2                          60                          68             7.0   \n",
              "3                          14                          20             6.8   \n",
              "4                          27                          59             7.3   \n",
              "..                        ...                         ...             ...   \n",
              "807                        42                          70             8.4   \n",
              "808                        20                          34             5.9   \n",
              "809                        34                          31             6.5   \n",
              "810                        26                          29             7.1   \n",
              "811                        10                          13             6.7   \n",
              "\n",
              "     Albumin  Albumin_and_Globulin_Ratio  Dataset  \n",
              "0        3.3                        0.90        0  \n",
              "1        3.2                        0.74        0  \n",
              "2        3.3                        0.89        0  \n",
              "3        3.4                        1.00        0  \n",
              "4        2.4                        0.40        0  \n",
              "..       ...                         ...      ...  \n",
              "807      4.9                        1.40        1  \n",
              "808      1.6                        0.37        1  \n",
              "809      3.5                        1.16        1  \n",
              "810      4.2                        1.40        1  \n",
              "811      2.9                        0.76        1  \n",
              "\n",
              "[812 rows x 11 columns]"
            ],
            "text/html": [
              "\n",
              "  <div id=\"df-d0a1641b-8d1b-4137-824e-28c9b360487e\">\n",
              "    <div class=\"colab-df-container\">\n",
              "      <div>\n",
              "<style scoped>\n",
              "    .dataframe tbody tr th:only-of-type {\n",
              "        vertical-align: middle;\n",
              "    }\n",
              "\n",
              "    .dataframe tbody tr th {\n",
              "        vertical-align: top;\n",
              "    }\n",
              "\n",
              "    .dataframe thead th {\n",
              "        text-align: right;\n",
              "    }\n",
              "</style>\n",
              "<table border=\"1\" class=\"dataframe\">\n",
              "  <thead>\n",
              "    <tr style=\"text-align: right;\">\n",
              "      <th></th>\n",
              "      <th>Gender</th>\n",
              "      <th>Age</th>\n",
              "      <th>Total_Bilirubin</th>\n",
              "      <th>Direct_Bilirubin</th>\n",
              "      <th>Alkaline_Phosphotase</th>\n",
              "      <th>Alamine_Aminotransferase</th>\n",
              "      <th>Aspartate_Aminotransferase</th>\n",
              "      <th>Total_Protiens</th>\n",
              "      <th>Albumin</th>\n",
              "      <th>Albumin_and_Globulin_Ratio</th>\n",
              "      <th>Dataset</th>\n",
              "    </tr>\n",
              "  </thead>\n",
              "  <tbody>\n",
              "    <tr>\n",
              "      <th>0</th>\n",
              "      <td>0</td>\n",
              "      <td>65</td>\n",
              "      <td>0.7</td>\n",
              "      <td>0.1</td>\n",
              "      <td>187</td>\n",
              "      <td>16</td>\n",
              "      <td>18</td>\n",
              "      <td>6.8</td>\n",
              "      <td>3.3</td>\n",
              "      <td>0.90</td>\n",
              "      <td>0</td>\n",
              "    </tr>\n",
              "    <tr>\n",
              "      <th>1</th>\n",
              "      <td>1</td>\n",
              "      <td>62</td>\n",
              "      <td>10.9</td>\n",
              "      <td>5.5</td>\n",
              "      <td>699</td>\n",
              "      <td>64</td>\n",
              "      <td>100</td>\n",
              "      <td>7.5</td>\n",
              "      <td>3.2</td>\n",
              "      <td>0.74</td>\n",
              "      <td>0</td>\n",
              "    </tr>\n",
              "    <tr>\n",
              "      <th>2</th>\n",
              "      <td>1</td>\n",
              "      <td>62</td>\n",
              "      <td>7.3</td>\n",
              "      <td>4.1</td>\n",
              "      <td>490</td>\n",
              "      <td>60</td>\n",
              "      <td>68</td>\n",
              "      <td>7.0</td>\n",
              "      <td>3.3</td>\n",
              "      <td>0.89</td>\n",
              "      <td>0</td>\n",
              "    </tr>\n",
              "    <tr>\n",
              "      <th>3</th>\n",
              "      <td>1</td>\n",
              "      <td>58</td>\n",
              "      <td>1.0</td>\n",
              "      <td>0.4</td>\n",
              "      <td>182</td>\n",
              "      <td>14</td>\n",
              "      <td>20</td>\n",
              "      <td>6.8</td>\n",
              "      <td>3.4</td>\n",
              "      <td>1.00</td>\n",
              "      <td>0</td>\n",
              "    </tr>\n",
              "    <tr>\n",
              "      <th>4</th>\n",
              "      <td>1</td>\n",
              "      <td>72</td>\n",
              "      <td>3.9</td>\n",
              "      <td>2.0</td>\n",
              "      <td>195</td>\n",
              "      <td>27</td>\n",
              "      <td>59</td>\n",
              "      <td>7.3</td>\n",
              "      <td>2.4</td>\n",
              "      <td>0.40</td>\n",
              "      <td>0</td>\n",
              "    </tr>\n",
              "    <tr>\n",
              "      <th>...</th>\n",
              "      <td>...</td>\n",
              "      <td>...</td>\n",
              "      <td>...</td>\n",
              "      <td>...</td>\n",
              "      <td>...</td>\n",
              "      <td>...</td>\n",
              "      <td>...</td>\n",
              "      <td>...</td>\n",
              "      <td>...</td>\n",
              "      <td>...</td>\n",
              "      <td>...</td>\n",
              "    </tr>\n",
              "    <tr>\n",
              "      <th>807</th>\n",
              "      <td>0</td>\n",
              "      <td>69</td>\n",
              "      <td>0.8</td>\n",
              "      <td>0.2</td>\n",
              "      <td>146</td>\n",
              "      <td>42</td>\n",
              "      <td>70</td>\n",
              "      <td>8.4</td>\n",
              "      <td>4.9</td>\n",
              "      <td>1.40</td>\n",
              "      <td>1</td>\n",
              "    </tr>\n",
              "    <tr>\n",
              "      <th>808</th>\n",
              "      <td>1</td>\n",
              "      <td>60</td>\n",
              "      <td>0.5</td>\n",
              "      <td>0.1</td>\n",
              "      <td>500</td>\n",
              "      <td>20</td>\n",
              "      <td>34</td>\n",
              "      <td>5.9</td>\n",
              "      <td>1.6</td>\n",
              "      <td>0.37</td>\n",
              "      <td>1</td>\n",
              "    </tr>\n",
              "    <tr>\n",
              "      <th>809</th>\n",
              "      <td>0</td>\n",
              "      <td>18</td>\n",
              "      <td>0.8</td>\n",
              "      <td>0.2</td>\n",
              "      <td>199</td>\n",
              "      <td>34</td>\n",
              "      <td>31</td>\n",
              "      <td>6.5</td>\n",
              "      <td>3.5</td>\n",
              "      <td>1.16</td>\n",
              "      <td>1</td>\n",
              "    </tr>\n",
              "    <tr>\n",
              "      <th>810</th>\n",
              "      <td>1</td>\n",
              "      <td>11</td>\n",
              "      <td>0.7</td>\n",
              "      <td>0.1</td>\n",
              "      <td>592</td>\n",
              "      <td>26</td>\n",
              "      <td>29</td>\n",
              "      <td>7.1</td>\n",
              "      <td>4.2</td>\n",
              "      <td>1.40</td>\n",
              "      <td>1</td>\n",
              "    </tr>\n",
              "    <tr>\n",
              "      <th>811</th>\n",
              "      <td>0</td>\n",
              "      <td>47</td>\n",
              "      <td>0.8</td>\n",
              "      <td>0.2</td>\n",
              "      <td>236</td>\n",
              "      <td>10</td>\n",
              "      <td>13</td>\n",
              "      <td>6.7</td>\n",
              "      <td>2.9</td>\n",
              "      <td>0.76</td>\n",
              "      <td>1</td>\n",
              "    </tr>\n",
              "  </tbody>\n",
              "</table>\n",
              "<p>812 rows × 11 columns</p>\n",
              "</div>\n",
              "      <button class=\"colab-df-convert\" onclick=\"convertToInteractive('df-d0a1641b-8d1b-4137-824e-28c9b360487e')\"\n",
              "              title=\"Convert this dataframe to an interactive table.\"\n",
              "              style=\"display:none;\">\n",
              "        \n",
              "  <svg xmlns=\"http://www.w3.org/2000/svg\" height=\"24px\"viewBox=\"0 0 24 24\"\n",
              "       width=\"24px\">\n",
              "    <path d=\"M0 0h24v24H0V0z\" fill=\"none\"/>\n",
              "    <path d=\"M18.56 5.44l.94 2.06.94-2.06 2.06-.94-2.06-.94-.94-2.06-.94 2.06-2.06.94zm-11 1L8.5 8.5l.94-2.06 2.06-.94-2.06-.94L8.5 2.5l-.94 2.06-2.06.94zm10 10l.94 2.06.94-2.06 2.06-.94-2.06-.94-.94-2.06-.94 2.06-2.06.94z\"/><path d=\"M17.41 7.96l-1.37-1.37c-.4-.4-.92-.59-1.43-.59-.52 0-1.04.2-1.43.59L10.3 9.45l-7.72 7.72c-.78.78-.78 2.05 0 2.83L4 21.41c.39.39.9.59 1.41.59.51 0 1.02-.2 1.41-.59l7.78-7.78 2.81-2.81c.8-.78.8-2.07 0-2.86zM5.41 20L4 18.59l7.72-7.72 1.47 1.35L5.41 20z\"/>\n",
              "  </svg>\n",
              "      </button>\n",
              "      \n",
              "  <style>\n",
              "    .colab-df-container {\n",
              "      display:flex;\n",
              "      flex-wrap:wrap;\n",
              "      gap: 12px;\n",
              "    }\n",
              "\n",
              "    .colab-df-convert {\n",
              "      background-color: #E8F0FE;\n",
              "      border: none;\n",
              "      border-radius: 50%;\n",
              "      cursor: pointer;\n",
              "      display: none;\n",
              "      fill: #1967D2;\n",
              "      height: 32px;\n",
              "      padding: 0 0 0 0;\n",
              "      width: 32px;\n",
              "    }\n",
              "\n",
              "    .colab-df-convert:hover {\n",
              "      background-color: #E2EBFA;\n",
              "      box-shadow: 0px 1px 2px rgba(60, 64, 67, 0.3), 0px 1px 3px 1px rgba(60, 64, 67, 0.15);\n",
              "      fill: #174EA6;\n",
              "    }\n",
              "\n",
              "    [theme=dark] .colab-df-convert {\n",
              "      background-color: #3B4455;\n",
              "      fill: #D2E3FC;\n",
              "    }\n",
              "\n",
              "    [theme=dark] .colab-df-convert:hover {\n",
              "      background-color: #434B5C;\n",
              "      box-shadow: 0px 1px 3px 1px rgba(0, 0, 0, 0.15);\n",
              "      filter: drop-shadow(0px 1px 2px rgba(0, 0, 0, 0.3));\n",
              "      fill: #FFFFFF;\n",
              "    }\n",
              "  </style>\n",
              "\n",
              "      <script>\n",
              "        const buttonEl =\n",
              "          document.querySelector('#df-d0a1641b-8d1b-4137-824e-28c9b360487e button.colab-df-convert');\n",
              "        buttonEl.style.display =\n",
              "          google.colab.kernel.accessAllowed ? 'block' : 'none';\n",
              "\n",
              "        async function convertToInteractive(key) {\n",
              "          const element = document.querySelector('#df-d0a1641b-8d1b-4137-824e-28c9b360487e');\n",
              "          const dataTable =\n",
              "            await google.colab.kernel.invokeFunction('convertToInteractive',\n",
              "                                                     [key], {});\n",
              "          if (!dataTable) return;\n",
              "\n",
              "          const docLinkHtml = 'Like what you see? Visit the ' +\n",
              "            '<a target=\"_blank\" href=https://colab.research.google.com/notebooks/data_table.ipynb>data table notebook</a>'\n",
              "            + ' to learn more about interactive tables.';\n",
              "          element.innerHTML = '';\n",
              "          dataTable['output_type'] = 'display_data';\n",
              "          await google.colab.output.renderOutput(dataTable, element);\n",
              "          const docLink = document.createElement('div');\n",
              "          docLink.innerHTML = docLinkHtml;\n",
              "          element.appendChild(docLink);\n",
              "        }\n",
              "      </script>\n",
              "    </div>\n",
              "  </div>\n",
              "  "
            ]
          },
          "metadata": {},
          "execution_count": 39
        }
      ],
      "source": [
        "finalData=pd.concat([categorical_data,numerical_data], axis=1)\n",
        "finalData"
      ]
    },
    {
      "cell_type": "markdown",
      "id": "4650bfe2",
      "metadata": {
        "id": "4650bfe2"
      },
      "source": [
        "### Correlation with target variable"
      ]
    },
    {
      "cell_type": "code",
      "execution_count": 40,
      "id": "9f07593e",
      "metadata": {
        "scrolled": false,
        "colab": {
          "base_uri": "https://localhost:8080/"
        },
        "id": "9f07593e",
        "outputId": "1830f56a-cba4-4fd9-ee37-e8ed4e436ff8"
      },
      "outputs": [
        {
          "output_type": "stream",
          "name": "stdout",
          "text": [
            "Gender                       -0.120906\n",
            "Age                          -0.132089\n",
            "Total_Bilirubin              -0.293444\n",
            "Direct_Bilirubin             -0.325974\n",
            "Alkaline_Phosphotase         -0.256186\n",
            "Alamine_Aminotransferase     -0.210994\n",
            "Aspartate_Aminotransferase   -0.198387\n",
            "Total_Protiens                0.016949\n",
            "Albumin                       0.166051\n",
            "Albumin_and_Globulin_Ratio    0.196924\n",
            "Dataset                       1.000000\n",
            "dtype: float64\n"
          ]
        }
      ],
      "source": [
        "print(finalData.corrwith(finalData['Dataset'],axis=0))"
      ]
    },
    {
      "cell_type": "code",
      "execution_count": 41,
      "id": "3a065b56",
      "metadata": {
        "colab": {
          "base_uri": "https://localhost:8080/"
        },
        "id": "3a065b56",
        "outputId": "ead74b85-4a3c-4975-d0f4-3e7beea409e0"
      },
      "outputs": [
        {
          "output_type": "execute_result",
          "data": {
            "text/plain": [
              "False"
            ]
          },
          "metadata": {},
          "execution_count": 41
        }
      ],
      "source": [
        "finalData.isnull().sum().any()"
      ]
    },
    {
      "cell_type": "code",
      "execution_count": 42,
      "id": "098d3e17",
      "metadata": {
        "colab": {
          "base_uri": "https://localhost:8080/",
          "height": 0
        },
        "id": "098d3e17",
        "outputId": "71387be8-e7f8-4aba-abea-4d307aeaa955"
      },
      "outputs": [
        {
          "output_type": "execute_result",
          "data": {
            "text/plain": [
              "   Gender  Age  Total_Bilirubin  Direct_Bilirubin  Alkaline_Phosphotase  \\\n",
              "0       0   65              0.7               0.1                   187   \n",
              "1       1   62             10.9               5.5                   699   \n",
              "2       1   62              7.3               4.1                   490   \n",
              "3       1   58              1.0               0.4                   182   \n",
              "4       1   72              3.9               2.0                   195   \n",
              "\n",
              "   Alamine_Aminotransferase  Aspartate_Aminotransferase  Total_Protiens  \\\n",
              "0                        16                          18             6.8   \n",
              "1                        64                         100             7.5   \n",
              "2                        60                          68             7.0   \n",
              "3                        14                          20             6.8   \n",
              "4                        27                          59             7.3   \n",
              "\n",
              "   Albumin  Albumin_and_Globulin_Ratio  Dataset  \n",
              "0      3.3                        0.90        0  \n",
              "1      3.2                        0.74        0  \n",
              "2      3.3                        0.89        0  \n",
              "3      3.4                        1.00        0  \n",
              "4      2.4                        0.40        0  "
            ],
            "text/html": [
              "\n",
              "  <div id=\"df-c01c5401-fac8-4067-b5e6-9b4a2d45eea9\">\n",
              "    <div class=\"colab-df-container\">\n",
              "      <div>\n",
              "<style scoped>\n",
              "    .dataframe tbody tr th:only-of-type {\n",
              "        vertical-align: middle;\n",
              "    }\n",
              "\n",
              "    .dataframe tbody tr th {\n",
              "        vertical-align: top;\n",
              "    }\n",
              "\n",
              "    .dataframe thead th {\n",
              "        text-align: right;\n",
              "    }\n",
              "</style>\n",
              "<table border=\"1\" class=\"dataframe\">\n",
              "  <thead>\n",
              "    <tr style=\"text-align: right;\">\n",
              "      <th></th>\n",
              "      <th>Gender</th>\n",
              "      <th>Age</th>\n",
              "      <th>Total_Bilirubin</th>\n",
              "      <th>Direct_Bilirubin</th>\n",
              "      <th>Alkaline_Phosphotase</th>\n",
              "      <th>Alamine_Aminotransferase</th>\n",
              "      <th>Aspartate_Aminotransferase</th>\n",
              "      <th>Total_Protiens</th>\n",
              "      <th>Albumin</th>\n",
              "      <th>Albumin_and_Globulin_Ratio</th>\n",
              "      <th>Dataset</th>\n",
              "    </tr>\n",
              "  </thead>\n",
              "  <tbody>\n",
              "    <tr>\n",
              "      <th>0</th>\n",
              "      <td>0</td>\n",
              "      <td>65</td>\n",
              "      <td>0.7</td>\n",
              "      <td>0.1</td>\n",
              "      <td>187</td>\n",
              "      <td>16</td>\n",
              "      <td>18</td>\n",
              "      <td>6.8</td>\n",
              "      <td>3.3</td>\n",
              "      <td>0.90</td>\n",
              "      <td>0</td>\n",
              "    </tr>\n",
              "    <tr>\n",
              "      <th>1</th>\n",
              "      <td>1</td>\n",
              "      <td>62</td>\n",
              "      <td>10.9</td>\n",
              "      <td>5.5</td>\n",
              "      <td>699</td>\n",
              "      <td>64</td>\n",
              "      <td>100</td>\n",
              "      <td>7.5</td>\n",
              "      <td>3.2</td>\n",
              "      <td>0.74</td>\n",
              "      <td>0</td>\n",
              "    </tr>\n",
              "    <tr>\n",
              "      <th>2</th>\n",
              "      <td>1</td>\n",
              "      <td>62</td>\n",
              "      <td>7.3</td>\n",
              "      <td>4.1</td>\n",
              "      <td>490</td>\n",
              "      <td>60</td>\n",
              "      <td>68</td>\n",
              "      <td>7.0</td>\n",
              "      <td>3.3</td>\n",
              "      <td>0.89</td>\n",
              "      <td>0</td>\n",
              "    </tr>\n",
              "    <tr>\n",
              "      <th>3</th>\n",
              "      <td>1</td>\n",
              "      <td>58</td>\n",
              "      <td>1.0</td>\n",
              "      <td>0.4</td>\n",
              "      <td>182</td>\n",
              "      <td>14</td>\n",
              "      <td>20</td>\n",
              "      <td>6.8</td>\n",
              "      <td>3.4</td>\n",
              "      <td>1.00</td>\n",
              "      <td>0</td>\n",
              "    </tr>\n",
              "    <tr>\n",
              "      <th>4</th>\n",
              "      <td>1</td>\n",
              "      <td>72</td>\n",
              "      <td>3.9</td>\n",
              "      <td>2.0</td>\n",
              "      <td>195</td>\n",
              "      <td>27</td>\n",
              "      <td>59</td>\n",
              "      <td>7.3</td>\n",
              "      <td>2.4</td>\n",
              "      <td>0.40</td>\n",
              "      <td>0</td>\n",
              "    </tr>\n",
              "  </tbody>\n",
              "</table>\n",
              "</div>\n",
              "      <button class=\"colab-df-convert\" onclick=\"convertToInteractive('df-c01c5401-fac8-4067-b5e6-9b4a2d45eea9')\"\n",
              "              title=\"Convert this dataframe to an interactive table.\"\n",
              "              style=\"display:none;\">\n",
              "        \n",
              "  <svg xmlns=\"http://www.w3.org/2000/svg\" height=\"24px\"viewBox=\"0 0 24 24\"\n",
              "       width=\"24px\">\n",
              "    <path d=\"M0 0h24v24H0V0z\" fill=\"none\"/>\n",
              "    <path d=\"M18.56 5.44l.94 2.06.94-2.06 2.06-.94-2.06-.94-.94-2.06-.94 2.06-2.06.94zm-11 1L8.5 8.5l.94-2.06 2.06-.94-2.06-.94L8.5 2.5l-.94 2.06-2.06.94zm10 10l.94 2.06.94-2.06 2.06-.94-2.06-.94-.94-2.06-.94 2.06-2.06.94z\"/><path d=\"M17.41 7.96l-1.37-1.37c-.4-.4-.92-.59-1.43-.59-.52 0-1.04.2-1.43.59L10.3 9.45l-7.72 7.72c-.78.78-.78 2.05 0 2.83L4 21.41c.39.39.9.59 1.41.59.51 0 1.02-.2 1.41-.59l7.78-7.78 2.81-2.81c.8-.78.8-2.07 0-2.86zM5.41 20L4 18.59l7.72-7.72 1.47 1.35L5.41 20z\"/>\n",
              "  </svg>\n",
              "      </button>\n",
              "      \n",
              "  <style>\n",
              "    .colab-df-container {\n",
              "      display:flex;\n",
              "      flex-wrap:wrap;\n",
              "      gap: 12px;\n",
              "    }\n",
              "\n",
              "    .colab-df-convert {\n",
              "      background-color: #E8F0FE;\n",
              "      border: none;\n",
              "      border-radius: 50%;\n",
              "      cursor: pointer;\n",
              "      display: none;\n",
              "      fill: #1967D2;\n",
              "      height: 32px;\n",
              "      padding: 0 0 0 0;\n",
              "      width: 32px;\n",
              "    }\n",
              "\n",
              "    .colab-df-convert:hover {\n",
              "      background-color: #E2EBFA;\n",
              "      box-shadow: 0px 1px 2px rgba(60, 64, 67, 0.3), 0px 1px 3px 1px rgba(60, 64, 67, 0.15);\n",
              "      fill: #174EA6;\n",
              "    }\n",
              "\n",
              "    [theme=dark] .colab-df-convert {\n",
              "      background-color: #3B4455;\n",
              "      fill: #D2E3FC;\n",
              "    }\n",
              "\n",
              "    [theme=dark] .colab-df-convert:hover {\n",
              "      background-color: #434B5C;\n",
              "      box-shadow: 0px 1px 3px 1px rgba(0, 0, 0, 0.15);\n",
              "      filter: drop-shadow(0px 1px 2px rgba(0, 0, 0, 0.3));\n",
              "      fill: #FFFFFF;\n",
              "    }\n",
              "  </style>\n",
              "\n",
              "      <script>\n",
              "        const buttonEl =\n",
              "          document.querySelector('#df-c01c5401-fac8-4067-b5e6-9b4a2d45eea9 button.colab-df-convert');\n",
              "        buttonEl.style.display =\n",
              "          google.colab.kernel.accessAllowed ? 'block' : 'none';\n",
              "\n",
              "        async function convertToInteractive(key) {\n",
              "          const element = document.querySelector('#df-c01c5401-fac8-4067-b5e6-9b4a2d45eea9');\n",
              "          const dataTable =\n",
              "            await google.colab.kernel.invokeFunction('convertToInteractive',\n",
              "                                                     [key], {});\n",
              "          if (!dataTable) return;\n",
              "\n",
              "          const docLinkHtml = 'Like what you see? Visit the ' +\n",
              "            '<a target=\"_blank\" href=https://colab.research.google.com/notebooks/data_table.ipynb>data table notebook</a>'\n",
              "            + ' to learn more about interactive tables.';\n",
              "          element.innerHTML = '';\n",
              "          dataTable['output_type'] = 'display_data';\n",
              "          await google.colab.output.renderOutput(dataTable, element);\n",
              "          const docLink = document.createElement('div');\n",
              "          docLink.innerHTML = docLinkHtml;\n",
              "          element.appendChild(docLink);\n",
              "        }\n",
              "      </script>\n",
              "    </div>\n",
              "  </div>\n",
              "  "
            ]
          },
          "metadata": {},
          "execution_count": 42
        }
      ],
      "source": [
        "finalData.head()"
      ]
    },
    {
      "cell_type": "code",
      "execution_count": 43,
      "id": "f54ee8ea",
      "metadata": {
        "id": "f54ee8ea"
      },
      "outputs": [],
      "source": [
        "X=finalData.drop(['Dataset'],axis=1)\n",
        "y=finalData.Dataset"
      ]
    },
    {
      "cell_type": "code",
      "execution_count": 44,
      "id": "ebd0fca6",
      "metadata": {
        "scrolled": true,
        "colab": {
          "base_uri": "https://localhost:8080/",
          "height": 0
        },
        "id": "ebd0fca6",
        "outputId": "25d9396f-6c8b-4675-c710-5275227df79d"
      },
      "outputs": [
        {
          "output_type": "execute_result",
          "data": {
            "text/plain": [
              "                              Gender       Age  Total_Bilirubin  \\\n",
              "Gender                      1.000000  0.034193         0.099917   \n",
              "Age                         0.034193  1.000000         0.021141   \n",
              "Total_Bilirubin             0.099917  0.021141         1.000000   \n",
              "Direct_Bilirubin            0.112656  0.019224         0.879643   \n",
              "Alkaline_Phosphotase        0.016315  0.046416         0.231977   \n",
              "Alamine_Aminotransferase    0.081618 -0.065270         0.237720   \n",
              "Aspartate_Aminotransferase  0.086404 -0.007380         0.257800   \n",
              "Total_Protiens             -0.076956 -0.199260        -0.006962   \n",
              "Albumin                    -0.091089 -0.243587        -0.202046   \n",
              "Albumin_and_Globulin_Ratio -0.016630 -0.168755        -0.199127   \n",
              "\n",
              "                            Direct_Bilirubin  Alkaline_Phosphotase  \\\n",
              "Gender                              0.112656              0.016315   \n",
              "Age                                 0.019224              0.046416   \n",
              "Total_Bilirubin                     0.879643              0.231977   \n",
              "Direct_Bilirubin                    1.000000              0.261542   \n",
              "Alkaline_Phosphotase                0.261542              1.000000   \n",
              "Alamine_Aminotransferase            0.258576              0.148219   \n",
              "Aspartate_Aminotransferase          0.278324              0.184776   \n",
              "Total_Protiens                     -0.000753             -0.013429   \n",
              "Albumin                            -0.209417             -0.155507   \n",
              "Albumin_and_Globulin_Ratio         -0.196868             -0.232999   \n",
              "\n",
              "                            Alamine_Aminotransferase  \\\n",
              "Gender                                      0.081618   \n",
              "Age                                        -0.065270   \n",
              "Total_Bilirubin                             0.237720   \n",
              "Direct_Bilirubin                            0.258576   \n",
              "Alkaline_Phosphotase                        0.148219   \n",
              "Alamine_Aminotransferase                    1.000000   \n",
              "Aspartate_Aminotransferase                  0.793976   \n",
              "Total_Protiens                             -0.019257   \n",
              "Albumin                                    -0.024716   \n",
              "Albumin_and_Globulin_Ratio                 -0.016293   \n",
              "\n",
              "                            Aspartate_Aminotransferase  Total_Protiens  \\\n",
              "Gender                                        0.086404       -0.076956   \n",
              "Age                                          -0.007380       -0.199260   \n",
              "Total_Bilirubin                               0.257800       -0.006962   \n",
              "Direct_Bilirubin                              0.278324       -0.000753   \n",
              "Alkaline_Phosphotase                          0.184776       -0.013429   \n",
              "Alamine_Aminotransferase                      0.793976       -0.019257   \n",
              "Aspartate_Aminotransferase                    1.000000       -0.018509   \n",
              "Total_Protiens                               -0.018509        1.000000   \n",
              "Albumin                                      -0.081866        0.802556   \n",
              "Albumin_and_Globulin_Ratio                   -0.076544        0.271759   \n",
              "\n",
              "                             Albumin  Albumin_and_Globulin_Ratio  \n",
              "Gender                     -0.091089                   -0.016630  \n",
              "Age                        -0.243587                   -0.168755  \n",
              "Total_Bilirubin            -0.202046                   -0.199127  \n",
              "Direct_Bilirubin           -0.209417                   -0.196868  \n",
              "Alkaline_Phosphotase       -0.155507                   -0.232999  \n",
              "Alamine_Aminotransferase   -0.024716                   -0.016293  \n",
              "Aspartate_Aminotransferase -0.081866                   -0.076544  \n",
              "Total_Protiens              0.802556                    0.271759  \n",
              "Albumin                     1.000000                    0.714594  \n",
              "Albumin_and_Globulin_Ratio  0.714594                    1.000000  "
            ],
            "text/html": [
              "\n",
              "  <div id=\"df-d5a6c8df-45cd-4e16-9b78-ae839dd6b212\">\n",
              "    <div class=\"colab-df-container\">\n",
              "      <div>\n",
              "<style scoped>\n",
              "    .dataframe tbody tr th:only-of-type {\n",
              "        vertical-align: middle;\n",
              "    }\n",
              "\n",
              "    .dataframe tbody tr th {\n",
              "        vertical-align: top;\n",
              "    }\n",
              "\n",
              "    .dataframe thead th {\n",
              "        text-align: right;\n",
              "    }\n",
              "</style>\n",
              "<table border=\"1\" class=\"dataframe\">\n",
              "  <thead>\n",
              "    <tr style=\"text-align: right;\">\n",
              "      <th></th>\n",
              "      <th>Gender</th>\n",
              "      <th>Age</th>\n",
              "      <th>Total_Bilirubin</th>\n",
              "      <th>Direct_Bilirubin</th>\n",
              "      <th>Alkaline_Phosphotase</th>\n",
              "      <th>Alamine_Aminotransferase</th>\n",
              "      <th>Aspartate_Aminotransferase</th>\n",
              "      <th>Total_Protiens</th>\n",
              "      <th>Albumin</th>\n",
              "      <th>Albumin_and_Globulin_Ratio</th>\n",
              "    </tr>\n",
              "  </thead>\n",
              "  <tbody>\n",
              "    <tr>\n",
              "      <th>Gender</th>\n",
              "      <td>1.000000</td>\n",
              "      <td>0.034193</td>\n",
              "      <td>0.099917</td>\n",
              "      <td>0.112656</td>\n",
              "      <td>0.016315</td>\n",
              "      <td>0.081618</td>\n",
              "      <td>0.086404</td>\n",
              "      <td>-0.076956</td>\n",
              "      <td>-0.091089</td>\n",
              "      <td>-0.016630</td>\n",
              "    </tr>\n",
              "    <tr>\n",
              "      <th>Age</th>\n",
              "      <td>0.034193</td>\n",
              "      <td>1.000000</td>\n",
              "      <td>0.021141</td>\n",
              "      <td>0.019224</td>\n",
              "      <td>0.046416</td>\n",
              "      <td>-0.065270</td>\n",
              "      <td>-0.007380</td>\n",
              "      <td>-0.199260</td>\n",
              "      <td>-0.243587</td>\n",
              "      <td>-0.168755</td>\n",
              "    </tr>\n",
              "    <tr>\n",
              "      <th>Total_Bilirubin</th>\n",
              "      <td>0.099917</td>\n",
              "      <td>0.021141</td>\n",
              "      <td>1.000000</td>\n",
              "      <td>0.879643</td>\n",
              "      <td>0.231977</td>\n",
              "      <td>0.237720</td>\n",
              "      <td>0.257800</td>\n",
              "      <td>-0.006962</td>\n",
              "      <td>-0.202046</td>\n",
              "      <td>-0.199127</td>\n",
              "    </tr>\n",
              "    <tr>\n",
              "      <th>Direct_Bilirubin</th>\n",
              "      <td>0.112656</td>\n",
              "      <td>0.019224</td>\n",
              "      <td>0.879643</td>\n",
              "      <td>1.000000</td>\n",
              "      <td>0.261542</td>\n",
              "      <td>0.258576</td>\n",
              "      <td>0.278324</td>\n",
              "      <td>-0.000753</td>\n",
              "      <td>-0.209417</td>\n",
              "      <td>-0.196868</td>\n",
              "    </tr>\n",
              "    <tr>\n",
              "      <th>Alkaline_Phosphotase</th>\n",
              "      <td>0.016315</td>\n",
              "      <td>0.046416</td>\n",
              "      <td>0.231977</td>\n",
              "      <td>0.261542</td>\n",
              "      <td>1.000000</td>\n",
              "      <td>0.148219</td>\n",
              "      <td>0.184776</td>\n",
              "      <td>-0.013429</td>\n",
              "      <td>-0.155507</td>\n",
              "      <td>-0.232999</td>\n",
              "    </tr>\n",
              "    <tr>\n",
              "      <th>Alamine_Aminotransferase</th>\n",
              "      <td>0.081618</td>\n",
              "      <td>-0.065270</td>\n",
              "      <td>0.237720</td>\n",
              "      <td>0.258576</td>\n",
              "      <td>0.148219</td>\n",
              "      <td>1.000000</td>\n",
              "      <td>0.793976</td>\n",
              "      <td>-0.019257</td>\n",
              "      <td>-0.024716</td>\n",
              "      <td>-0.016293</td>\n",
              "    </tr>\n",
              "    <tr>\n",
              "      <th>Aspartate_Aminotransferase</th>\n",
              "      <td>0.086404</td>\n",
              "      <td>-0.007380</td>\n",
              "      <td>0.257800</td>\n",
              "      <td>0.278324</td>\n",
              "      <td>0.184776</td>\n",
              "      <td>0.793976</td>\n",
              "      <td>1.000000</td>\n",
              "      <td>-0.018509</td>\n",
              "      <td>-0.081866</td>\n",
              "      <td>-0.076544</td>\n",
              "    </tr>\n",
              "    <tr>\n",
              "      <th>Total_Protiens</th>\n",
              "      <td>-0.076956</td>\n",
              "      <td>-0.199260</td>\n",
              "      <td>-0.006962</td>\n",
              "      <td>-0.000753</td>\n",
              "      <td>-0.013429</td>\n",
              "      <td>-0.019257</td>\n",
              "      <td>-0.018509</td>\n",
              "      <td>1.000000</td>\n",
              "      <td>0.802556</td>\n",
              "      <td>0.271759</td>\n",
              "    </tr>\n",
              "    <tr>\n",
              "      <th>Albumin</th>\n",
              "      <td>-0.091089</td>\n",
              "      <td>-0.243587</td>\n",
              "      <td>-0.202046</td>\n",
              "      <td>-0.209417</td>\n",
              "      <td>-0.155507</td>\n",
              "      <td>-0.024716</td>\n",
              "      <td>-0.081866</td>\n",
              "      <td>0.802556</td>\n",
              "      <td>1.000000</td>\n",
              "      <td>0.714594</td>\n",
              "    </tr>\n",
              "    <tr>\n",
              "      <th>Albumin_and_Globulin_Ratio</th>\n",
              "      <td>-0.016630</td>\n",
              "      <td>-0.168755</td>\n",
              "      <td>-0.199127</td>\n",
              "      <td>-0.196868</td>\n",
              "      <td>-0.232999</td>\n",
              "      <td>-0.016293</td>\n",
              "      <td>-0.076544</td>\n",
              "      <td>0.271759</td>\n",
              "      <td>0.714594</td>\n",
              "      <td>1.000000</td>\n",
              "    </tr>\n",
              "  </tbody>\n",
              "</table>\n",
              "</div>\n",
              "      <button class=\"colab-df-convert\" onclick=\"convertToInteractive('df-d5a6c8df-45cd-4e16-9b78-ae839dd6b212')\"\n",
              "              title=\"Convert this dataframe to an interactive table.\"\n",
              "              style=\"display:none;\">\n",
              "        \n",
              "  <svg xmlns=\"http://www.w3.org/2000/svg\" height=\"24px\"viewBox=\"0 0 24 24\"\n",
              "       width=\"24px\">\n",
              "    <path d=\"M0 0h24v24H0V0z\" fill=\"none\"/>\n",
              "    <path d=\"M18.56 5.44l.94 2.06.94-2.06 2.06-.94-2.06-.94-.94-2.06-.94 2.06-2.06.94zm-11 1L8.5 8.5l.94-2.06 2.06-.94-2.06-.94L8.5 2.5l-.94 2.06-2.06.94zm10 10l.94 2.06.94-2.06 2.06-.94-2.06-.94-.94-2.06-.94 2.06-2.06.94z\"/><path d=\"M17.41 7.96l-1.37-1.37c-.4-.4-.92-.59-1.43-.59-.52 0-1.04.2-1.43.59L10.3 9.45l-7.72 7.72c-.78.78-.78 2.05 0 2.83L4 21.41c.39.39.9.59 1.41.59.51 0 1.02-.2 1.41-.59l7.78-7.78 2.81-2.81c.8-.78.8-2.07 0-2.86zM5.41 20L4 18.59l7.72-7.72 1.47 1.35L5.41 20z\"/>\n",
              "  </svg>\n",
              "      </button>\n",
              "      \n",
              "  <style>\n",
              "    .colab-df-container {\n",
              "      display:flex;\n",
              "      flex-wrap:wrap;\n",
              "      gap: 12px;\n",
              "    }\n",
              "\n",
              "    .colab-df-convert {\n",
              "      background-color: #E8F0FE;\n",
              "      border: none;\n",
              "      border-radius: 50%;\n",
              "      cursor: pointer;\n",
              "      display: none;\n",
              "      fill: #1967D2;\n",
              "      height: 32px;\n",
              "      padding: 0 0 0 0;\n",
              "      width: 32px;\n",
              "    }\n",
              "\n",
              "    .colab-df-convert:hover {\n",
              "      background-color: #E2EBFA;\n",
              "      box-shadow: 0px 1px 2px rgba(60, 64, 67, 0.3), 0px 1px 3px 1px rgba(60, 64, 67, 0.15);\n",
              "      fill: #174EA6;\n",
              "    }\n",
              "\n",
              "    [theme=dark] .colab-df-convert {\n",
              "      background-color: #3B4455;\n",
              "      fill: #D2E3FC;\n",
              "    }\n",
              "\n",
              "    [theme=dark] .colab-df-convert:hover {\n",
              "      background-color: #434B5C;\n",
              "      box-shadow: 0px 1px 3px 1px rgba(0, 0, 0, 0.15);\n",
              "      filter: drop-shadow(0px 1px 2px rgba(0, 0, 0, 0.3));\n",
              "      fill: #FFFFFF;\n",
              "    }\n",
              "  </style>\n",
              "\n",
              "      <script>\n",
              "        const buttonEl =\n",
              "          document.querySelector('#df-d5a6c8df-45cd-4e16-9b78-ae839dd6b212 button.colab-df-convert');\n",
              "        buttonEl.style.display =\n",
              "          google.colab.kernel.accessAllowed ? 'block' : 'none';\n",
              "\n",
              "        async function convertToInteractive(key) {\n",
              "          const element = document.querySelector('#df-d5a6c8df-45cd-4e16-9b78-ae839dd6b212');\n",
              "          const dataTable =\n",
              "            await google.colab.kernel.invokeFunction('convertToInteractive',\n",
              "                                                     [key], {});\n",
              "          if (!dataTable) return;\n",
              "\n",
              "          const docLinkHtml = 'Like what you see? Visit the ' +\n",
              "            '<a target=\"_blank\" href=https://colab.research.google.com/notebooks/data_table.ipynb>data table notebook</a>'\n",
              "            + ' to learn more about interactive tables.';\n",
              "          element.innerHTML = '';\n",
              "          dataTable['output_type'] = 'display_data';\n",
              "          await google.colab.output.renderOutput(dataTable, element);\n",
              "          const docLink = document.createElement('div');\n",
              "          docLink.innerHTML = docLinkHtml;\n",
              "          element.appendChild(docLink);\n",
              "        }\n",
              "      </script>\n",
              "    </div>\n",
              "  </div>\n",
              "  "
            ]
          },
          "metadata": {},
          "execution_count": 44
        }
      ],
      "source": [
        "liver_corr = X.corr()\n",
        "liver_corr"
      ]
    },
    {
      "cell_type": "code",
      "execution_count": 45,
      "id": "b3f3de58",
      "metadata": {
        "colab": {
          "base_uri": "https://localhost:8080/",
          "height": 0
        },
        "id": "b3f3de58",
        "outputId": "c1613152-7ca9-4a14-8e78-0854db7de030"
      },
      "outputs": [
        {
          "output_type": "display_data",
          "data": {
            "text/plain": [
              "<Figure size 2160x2160 with 2 Axes>"
            ],
            "image/png": "[encoded data removed]"
          },
          "metadata": {
            "needs_background": "light"
          }
        }
      ],
      "source": [
        "plt.figure(figsize=(30, 30))\n",
        "sns.heatmap(liver_corr, cbar = True,  square = True, annot=True, fmt= '.2f',annot_kws={'size': 15},\n",
        "           cmap= 'coolwarm')\n",
        "plt.title('Correlation between features');"
      ]
    },
    {
      "cell_type": "markdown",
      "id": "1d1f7b02",
      "metadata": {
        "id": "1d1f7b02"
      },
      "source": [
        "### Split into train and test"
      ]
    },
    {
      "cell_type": "code",
      "execution_count": 46,
      "id": "c1c3bceb",
      "metadata": {
        "id": "c1c3bceb"
      },
      "outputs": [],
      "source": [
        "X_train, X_test, y_train, y_test = train_test_split(X, y, test_size=0.2, train_size=0.8,random_state=20, stratify = y) # 80% training 20% testing data"
      ]
    },
    {
      "cell_type": "code",
      "execution_count": 47,
      "id": "6a069501",
      "metadata": {
        "colab": {
          "base_uri": "https://localhost:8080/"
        },
        "id": "6a069501",
        "outputId": "87cff0a7-ac5a-4ece-8d3c-f59b3ffa972a"
      },
      "outputs": [
        {
          "output_type": "stream",
          "name": "stdout",
          "text": [
            "(649, 10)\n",
            "(163, 10)\n",
            "(649,)\n",
            "(163,)\n"
          ]
        }
      ],
      "source": [
        "print(X_train.shape)\n",
        "print(X_test.shape)\n",
        "print(y_train.shape)\n",
        "print(y_test.shape)"
      ]
    },
    {
      "cell_type": "markdown",
      "id": "b2d98da0",
      "metadata": {
        "id": "b2d98da0"
      },
      "source": [
        "### Model Implementation"
      ]
    },
    {
      "cell_type": "code",
      "execution_count": 48,
      "id": "017be87d",
      "metadata": {
        "scrolled": true,
        "colab": {
          "base_uri": "https://localhost:8080/"
        },
        "id": "017be87d",
        "outputId": "81924dd6-44ad-42ec-cef9-5039cfdcf431"
      },
      "outputs": [
        {
          "output_type": "stream",
          "name": "stdout",
          "text": [
            "Training Score: 1.0\n",
            "Testing Score: 0.8343558282208589\n",
            "Accuracy Score: 0.8343558282208589\n",
            "Classification Report:\n",
            "                precision    recall  f1-score   support\n",
            "\n",
            "           0       0.92      0.73      0.81        81\n",
            "           1       0.78      0.94      0.85        82\n",
            "\n",
            "    accuracy                           0.83       163\n",
            "   macro avg       0.85      0.83      0.83       163\n",
            "weighted avg       0.85      0.83      0.83       163\n",
            "\n",
            "Confusion Matrix:\n",
            " [[59 22]\n",
            " [ 5 77]]\n"
          ]
        }
      ],
      "source": [
        "model_rf=RandomForestClassifier()\n",
        "model_rf.fit(X_train,y_train)\n",
        "y_predict=model_rf.predict(X_test)\n",
        "print('Training Score:',model_rf.score(X_train, y_train))\n",
        "print('Testing Score:',model_rf.score(X_test, y_test))\n",
        "print('Accuracy Score:',accuracy_score(y_test,y_predict))\n",
        "print(\"Classification Report:\\n \",classification_report(y_test,y_predict))\n",
        "print(\"Confusion Matrix:\\n\",confusion_matrix(y_test,y_predict))"
      ]
    },
    {
      "cell_type": "code",
      "execution_count": 49,
      "id": "03946e47",
      "metadata": {
        "colab": {
          "base_uri": "https://localhost:8080/",
          "height": 0
        },
        "id": "03946e47",
        "outputId": "e9e82f5a-5213-4498-cb27-cbd09199d45a"
      },
      "outputs": [
        {
          "output_type": "execute_result",
          "data": {
            "text/plain": [
              "     Gender  Age  Total_Bilirubin  Direct_Bilirubin  Alkaline_Phosphotase  \\\n",
              "110       1   32             12.7               6.2                   194   \n",
              "478       1   27              1.0               0.3                   180   \n",
              "194       1   40              3.9               1.7                   350   \n",
              "745       1   33              0.8               0.2                   135   \n",
              "213       1   26              1.3               0.4                   173   \n",
              "\n",
              "     Alamine_Aminotransferase  Aspartate_Aminotransferase  Total_Protiens  \\\n",
              "110                      2000                        2946             5.7   \n",
              "478                        56                         111             6.8   \n",
              "194                       950                        1500             6.7   \n",
              "745                        30                          29             7.2   \n",
              "213                        38                          62             8.0   \n",
              "\n",
              "     Albumin  Albumin_and_Globulin_Ratio  \n",
              "110      3.3                        1.30  \n",
              "478      3.9                        1.85  \n",
              "194      3.8                        1.30  \n",
              "745      4.4                        1.50  \n",
              "213      4.0                        1.00  "
            ],
            "text/html": [
              "\n",
              "  <div id=\"df-6ede34b6-4d2f-46b9-a6d0-760a242f0da7\">\n",
              "    <div class=\"colab-df-container\">\n",
              "      <div>\n",
              "<style scoped>\n",
              "    .dataframe tbody tr th:only-of-type {\n",
              "        vertical-align: middle;\n",
              "    }\n",
              "\n",
              "    .dataframe tbody tr th {\n",
              "        vertical-align: top;\n",
              "    }\n",
              "\n",
              "    .dataframe thead th {\n",
              "        text-align: right;\n",
              "    }\n",
              "</style>\n",
              "<table border=\"1\" class=\"dataframe\">\n",
              "  <thead>\n",
              "    <tr style=\"text-align: right;\">\n",
              "      <th></th>\n",
              "      <th>Gender</th>\n",
              "      <th>Age</th>\n",
              "      <th>Total_Bilirubin</th>\n",
              "      <th>Direct_Bilirubin</th>\n",
              "      <th>Alkaline_Phosphotase</th>\n",
              "      <th>Alamine_Aminotransferase</th>\n",
              "      <th>Aspartate_Aminotransferase</th>\n",
              "      <th>Total_Protiens</th>\n",
              "      <th>Albumin</th>\n",
              "      <th>Albumin_and_Globulin_Ratio</th>\n",
              "    </tr>\n",
              "  </thead>\n",
              "  <tbody>\n",
              "    <tr>\n",
              "      <th>110</th>\n",
              "      <td>1</td>\n",
              "      <td>32</td>\n",
              "      <td>12.7</td>\n",
              "      <td>6.2</td>\n",
              "      <td>194</td>\n",
              "      <td>2000</td>\n",
              "      <td>2946</td>\n",
              "      <td>5.7</td>\n",
              "      <td>3.3</td>\n",
              "      <td>1.30</td>\n",
              "    </tr>\n",
              "    <tr>\n",
              "      <th>478</th>\n",
              "      <td>1</td>\n",
              "      <td>27</td>\n",
              "      <td>1.0</td>\n",
              "      <td>0.3</td>\n",
              "      <td>180</td>\n",
              "      <td>56</td>\n",
              "      <td>111</td>\n",
              "      <td>6.8</td>\n",
              "      <td>3.9</td>\n",
              "      <td>1.85</td>\n",
              "    </tr>\n",
              "    <tr>\n",
              "      <th>194</th>\n",
              "      <td>1</td>\n",
              "      <td>40</td>\n",
              "      <td>3.9</td>\n",
              "      <td>1.7</td>\n",
              "      <td>350</td>\n",
              "      <td>950</td>\n",
              "      <td>1500</td>\n",
              "      <td>6.7</td>\n",
              "      <td>3.8</td>\n",
              "      <td>1.30</td>\n",
              "    </tr>\n",
              "    <tr>\n",
              "      <th>745</th>\n",
              "      <td>1</td>\n",
              "      <td>33</td>\n",
              "      <td>0.8</td>\n",
              "      <td>0.2</td>\n",
              "      <td>135</td>\n",
              "      <td>30</td>\n",
              "      <td>29</td>\n",
              "      <td>7.2</td>\n",
              "      <td>4.4</td>\n",
              "      <td>1.50</td>\n",
              "    </tr>\n",
              "    <tr>\n",
              "      <th>213</th>\n",
              "      <td>1</td>\n",
              "      <td>26</td>\n",
              "      <td>1.3</td>\n",
              "      <td>0.4</td>\n",
              "      <td>173</td>\n",
              "      <td>38</td>\n",
              "      <td>62</td>\n",
              "      <td>8.0</td>\n",
              "      <td>4.0</td>\n",
              "      <td>1.00</td>\n",
              "    </tr>\n",
              "  </tbody>\n",
              "</table>\n",
              "</div>\n",
              "      <button class=\"colab-df-convert\" onclick=\"convertToInteractive('df-6ede34b6-4d2f-46b9-a6d0-760a242f0da7')\"\n",
              "              title=\"Convert this dataframe to an interactive table.\"\n",
              "              style=\"display:none;\">\n",
              "        \n",
              "  <svg xmlns=\"http://www.w3.org/2000/svg\" height=\"24px\"viewBox=\"0 0 24 24\"\n",
              "       width=\"24px\">\n",
              "    <path d=\"M0 0h24v24H0V0z\" fill=\"none\"/>\n",
              "    <path d=\"M18.56 5.44l.94 2.06.94-2.06 2.06-.94-2.06-.94-.94-2.06-.94 2.06-2.06.94zm-11 1L8.5 8.5l.94-2.06 2.06-.94-2.06-.94L8.5 2.5l-.94 2.06-2.06.94zm10 10l.94 2.06.94-2.06 2.06-.94-2.06-.94-.94-2.06-.94 2.06-2.06.94z\"/><path d=\"M17.41 7.96l-1.37-1.37c-.4-.4-.92-.59-1.43-.59-.52 0-1.04.2-1.43.59L10.3 9.45l-7.72 7.72c-.78.78-.78 2.05 0 2.83L4 21.41c.39.39.9.59 1.41.59.51 0 1.02-.2 1.41-.59l7.78-7.78 2.81-2.81c.8-.78.8-2.07 0-2.86zM5.41 20L4 18.59l7.72-7.72 1.47 1.35L5.41 20z\"/>\n",
              "  </svg>\n",
              "      </button>\n",
              "      \n",
              "  <style>\n",
              "    .colab-df-container {\n",
              "      display:flex;\n",
              "      flex-wrap:wrap;\n",
              "      gap: 12px;\n",
              "    }\n",
              "\n",
              "    .colab-df-convert {\n",
              "      background-color: #E8F0FE;\n",
              "      border: none;\n",
              "      border-radius: 50%;\n",
              "      cursor: pointer;\n",
              "      display: none;\n",
              "      fill: #1967D2;\n",
              "      height: 32px;\n",
              "      padding: 0 0 0 0;\n",
              "      width: 32px;\n",
              "    }\n",
              "\n",
              "    .colab-df-convert:hover {\n",
              "      background-color: #E2EBFA;\n",
              "      box-shadow: 0px 1px 2px rgba(60, 64, 67, 0.3), 0px 1px 3px 1px rgba(60, 64, 67, 0.15);\n",
              "      fill: #174EA6;\n",
              "    }\n",
              "\n",
              "    [theme=dark] .colab-df-convert {\n",
              "      background-color: #3B4455;\n",
              "      fill: #D2E3FC;\n",
              "    }\n",
              "\n",
              "    [theme=dark] .colab-df-convert:hover {\n",
              "      background-color: #434B5C;\n",
              "      box-shadow: 0px 1px 3px 1px rgba(0, 0, 0, 0.15);\n",
              "      filter: drop-shadow(0px 1px 2px rgba(0, 0, 0, 0.3));\n",
              "      fill: #FFFFFF;\n",
              "    }\n",
              "  </style>\n",
              "\n",
              "      <script>\n",
              "        const buttonEl =\n",
              "          document.querySelector('#df-6ede34b6-4d2f-46b9-a6d0-760a242f0da7 button.colab-df-convert');\n",
              "        buttonEl.style.display =\n",
              "          google.colab.kernel.accessAllowed ? 'block' : 'none';\n",
              "\n",
              "        async function convertToInteractive(key) {\n",
              "          const element = document.querySelector('#df-6ede34b6-4d2f-46b9-a6d0-760a242f0da7');\n",
              "          const dataTable =\n",
              "            await google.colab.kernel.invokeFunction('convertToInteractive',\n",
              "                                                     [key], {});\n",
              "          if (!dataTable) return;\n",
              "\n",
              "          const docLinkHtml = 'Like what you see? Visit the ' +\n",
              "            '<a target=\"_blank\" href=https://colab.research.google.com/notebooks/data_table.ipynb>data table notebook</a>'\n",
              "            + ' to learn more about interactive tables.';\n",
              "          element.innerHTML = '';\n",
              "          dataTable['output_type'] = 'display_data';\n",
              "          await google.colab.output.renderOutput(dataTable, element);\n",
              "          const docLink = document.createElement('div');\n",
              "          docLink.innerHTML = docLinkHtml;\n",
              "          element.appendChild(docLink);\n",
              "        }\n",
              "      </script>\n",
              "    </div>\n",
              "  </div>\n",
              "  "
            ]
          },
          "metadata": {},
          "execution_count": 49
        }
      ],
      "source": [
        "X_test.head()"
      ]
    },
    {
      "cell_type": "code",
      "execution_count": 50,
      "id": "1622b7f6",
      "metadata": {
        "scrolled": true,
        "colab": {
          "base_uri": "https://localhost:8080/"
        },
        "id": "1622b7f6",
        "outputId": "cab652c2-47bc-4e41-80c4-2372210de686"
      },
      "outputs": [
        {
          "output_type": "execute_result",
          "data": {
            "text/plain": [
              "110    0\n",
              "478    1\n",
              "194    0\n",
              "745    1\n",
              "213    0\n",
              "      ..\n",
              "37     0\n",
              "751    1\n",
              "506    0\n",
              "591    1\n",
              "189    1\n",
              "Name: Dataset, Length: 163, dtype: int64"
            ]
          },
          "metadata": {},
          "execution_count": 50
        }
      ],
      "source": [
        "y_test"
      ]
    },
    {
      "cell_type": "code",
      "execution_count": 51,
      "id": "7de24e8e",
      "metadata": {
        "colab": {
          "base_uri": "https://localhost:8080/"
        },
        "id": "7de24e8e",
        "outputId": "5b7ca2c9-212b-422b-d5da-f302d6097d26"
      },
      "outputs": [
        {
          "output_type": "execute_result",
          "data": {
            "text/plain": [
              "1    586\n",
              "0    226\n",
              "Name: Gender, dtype: int64"
            ]
          },
          "metadata": {},
          "execution_count": 51
        }
      ],
      "source": [
        "X.Gender.value_counts() #0->male,1->female"
      ]
    },
    {
      "cell_type": "code",
      "execution_count": 52,
      "id": "53d39d39",
      "metadata": {
        "colab": {
          "base_uri": "https://localhost:8080/"
        },
        "id": "53d39d39",
        "outputId": "78d4d763-f5fc-4f0a-b6c8-f84af0a750ae"
      },
      "outputs": [
        {
          "output_type": "stream",
          "name": "stderr",
          "text": [
            "/usr/local/lib/python3.7/dist-packages/sklearn/base.py:451: UserWarning: X does not have valid feature names, but RandomForestClassifier was fitted with feature names\n",
            "  \"X does not have valid feature names, but\"\n"
          ]
        },
        {
          "output_type": "execute_result",
          "data": {
            "text/plain": [
              "array([0])"
            ]
          },
          "metadata": {},
          "execution_count": 52
        }
      ],
      "source": [
        "y_predict=model_rf.predict([[1,65,0.7,0.1,187,16,18,6.8,3.3,0.9]])\n",
        "y_predict"
      ]
    },
    {
      "cell_type": "code",
      "execution_count": 53,
      "id": "b64a3c24",
      "metadata": {
        "colab": {
          "base_uri": "https://localhost:8080/"
        },
        "id": "b64a3c24",
        "outputId": "1ebc926a-beac-4ace-ef0a-a23e60c9b55e"
      },
      "outputs": [
        {
          "output_type": "stream",
          "name": "stderr",
          "text": [
            "/usr/local/lib/python3.7/dist-packages/sklearn/base.py:451: UserWarning: X does not have valid feature names, but RandomForestClassifier was fitted with feature names\n",
            "  \"X does not have valid feature names, but\"\n"
          ]
        },
        {
          "output_type": "execute_result",
          "data": {
            "text/plain": [
              "array([1])"
            ]
          },
          "metadata": {},
          "execution_count": 53
        }
      ],
      "source": [
        "y_predict=model_rf.predict([[0,17,0.9,0.3,202,22,19,7.4,4.1,1.2]])\n",
        "y_predict"
      ]
    },
    {
      "cell_type": "code",
      "execution_count": 54,
      "id": "378e7655",
      "metadata": {
        "colab": {
          "base_uri": "https://localhost:8080/"
        },
        "id": "378e7655",
        "outputId": "0bfe6f84-5c5b-458e-f343-e59583adfc0e"
      },
      "outputs": [
        {
          "output_type": "stream",
          "name": "stderr",
          "text": [
            "/usr/local/lib/python3.7/dist-packages/sklearn/base.py:451: UserWarning: X does not have valid feature names, but RandomForestClassifier was fitted with feature names\n",
            "  \"X does not have valid feature names, but\"\n"
          ]
        },
        {
          "output_type": "execute_result",
          "data": {
            "text/plain": [
              "array([1])"
            ]
          },
          "metadata": {},
          "execution_count": 54
        }
      ],
      "source": [
        "y_pred=model_rf.predict([[1,84,0.7,0.2,188,13,21,6,3.2,1.1]])\n",
        "y_pred"
      ]
    },
    {
      "cell_type": "code",
      "execution_count": 55,
      "id": "8fdf58bc",
      "metadata": {
        "colab": {
          "base_uri": "https://localhost:8080/"
        },
        "id": "8fdf58bc",
        "outputId": "8914f2d8-dc91-4093-a423-5302631c0d53"
      },
      "outputs": [
        {
          "output_type": "stream",
          "name": "stdout",
          "text": [
            "Training Score: 0.7257318952234206\n",
            "Testing Score: 0.6993865030674846\n",
            "Accuracy Score: 0.6993865030674846\n",
            "Classification Report:\n",
            "                precision    recall  f1-score   support\n",
            "\n",
            "           0       0.78      0.56      0.65        81\n",
            "           1       0.66      0.84      0.74        82\n",
            "\n",
            "    accuracy                           0.70       163\n",
            "   macro avg       0.72      0.70      0.69       163\n",
            "weighted avg       0.72      0.70      0.69       163\n",
            "\n",
            "Confusion Matrix:\n",
            " [[45 36]\n",
            " [13 69]]\n"
          ]
        },
        {
          "output_type": "stream",
          "name": "stderr",
          "text": [
            "/usr/local/lib/python3.7/dist-packages/sklearn/linear_model/_logistic.py:818: ConvergenceWarning: lbfgs failed to converge (status=1):\n",
            "STOP: TOTAL NO. of ITERATIONS REACHED LIMIT.\n",
            "\n",
            "Increase the number of iterations (max_iter) or scale the data as shown in:\n",
            "    https://scikit-learn.org/stable/modules/preprocessing.html\n",
            "Please also refer to the documentation for alternative solver options:\n",
            "    https://scikit-learn.org/stable/modules/linear_model.html#logistic-regression\n",
            "  extra_warning_msg=_LOGISTIC_SOLVER_CONVERGENCE_MSG,\n"
          ]
        }
      ],
      "source": [
        "model_lr=LogisticRegression()\n",
        "model_lr.fit(X_train,y_train)\n",
        "y_predict_lr=model_lr.predict(X_test)\n",
        "print('Training Score:',model_lr.score(X_train, y_train))\n",
        "print('Testing Score:',model_lr.score(X_test, y_test))\n",
        "print('Accuracy Score:',accuracy_score(y_test,y_predict_lr))\n",
        "print(\"Classification Report:\\n \",classification_report(y_test,y_predict_lr))\n",
        "print(\"Confusion Matrix:\\n\",confusion_matrix(y_test,y_predict_lr))\n"
      ]
    },
    {
      "cell_type": "code",
      "execution_count": 56,
      "id": "46e384f4",
      "metadata": {
        "colab": {
          "base_uri": "https://localhost:8080/"
        },
        "id": "46e384f4",
        "outputId": "19ad2050-9404-4673-fdfa-b50f065a0236"
      },
      "outputs": [
        {
          "output_type": "stream",
          "name": "stdout",
          "text": [
            "Training Score: 0.7889060092449923\n",
            "Testing Score: 0.6748466257668712\n",
            "Accuracy Score: 0.6748466257668712\n",
            "Classification Report:\n",
            "                precision    recall  f1-score   support\n",
            "\n",
            "           0       0.70      0.60      0.65        81\n",
            "           1       0.66      0.74      0.70        82\n",
            "\n",
            "    accuracy                           0.67       163\n",
            "   macro avg       0.68      0.67      0.67       163\n",
            "weighted avg       0.68      0.67      0.67       163\n",
            "\n",
            "Confusion Matrix:\n",
            " [[49 32]\n",
            " [21 61]]\n"
          ]
        }
      ],
      "source": [
        "model_kn = KNeighborsClassifier()\n",
        "model_kn.fit(X_train,y_train)\n",
        "y_predict=model_kn.predict(X_test)\n",
        "print('Training Score:',model_kn.score(X_train, y_train))\n",
        "print('Testing Score:',model_kn.score(X_test, y_test))\n",
        "print('Accuracy Score:',accuracy_score(y_test,y_predict))\n",
        "print(\"Classification Report:\\n \",classification_report(y_test,y_predict))\n",
        "print(\"Confusion Matrix:\\n\",confusion_matrix(y_test,y_predict))"
      ]
    },
    {
      "cell_type": "code",
      "execution_count": 57,
      "id": "13c20c58",
      "metadata": {
        "colab": {
          "base_uri": "https://localhost:8080/"
        },
        "id": "13c20c58",
        "outputId": "36b5b846-c0fb-4134-a128-7af1f53fe397"
      },
      "outputs": [
        {
          "output_type": "stream",
          "name": "stdout",
          "text": [
            "Accuracy score: 0.6748466257668712\n",
            "F1 Score: 0.7309644670050761\n"
          ]
        }
      ],
      "source": [
        "svc_model = SVC()\n",
        "svc_model.fit(X_train, y_train)\n",
        "svc_predict = svc_model.predict(X_test)# check performance\n",
        "print('Accuracy score:',accuracy_score(y_test, svc_predict))\n",
        "print('F1 Score:',f1_score(y_test, svc_predict))"
      ]
    },
    {
      "cell_type": "code",
      "execution_count": 58,
      "id": "49c0573d",
      "metadata": {
        "scrolled": true,
        "colab": {
          "base_uri": "https://localhost:8080/"
        },
        "id": "49c0573d",
        "outputId": "44dee7a3-ee07-4d09-f779-a9883fa0b7fa"
      },
      "outputs": [
        {
          "output_type": "stream",
          "name": "stdout",
          "text": [
            "Accuracy score: 0.754601226993865\n"
          ]
        }
      ],
      "source": [
        "model_xg=XGBClassifier()\n",
        "model_xg.fit(X_train,y_train)\n",
        "y_predict = model_xg.predict(X_test)# check performance\n",
        "print('Accuracy score:',accuracy_score(y_test, y_predict))\n",
        "\n"
      ]
    },
    {
      "cell_type": "code",
      "execution_count": 59,
      "id": "de94e17b",
      "metadata": {
        "colab": {
          "base_uri": "https://localhost:8080/"
        },
        "id": "de94e17b",
        "outputId": "ace5d9bd-e5c2-46f2-ea42-f7dfdbc983ad"
      },
      "outputs": [
        {
          "output_type": "stream",
          "name": "stdout",
          "text": [
            "Score of the model is  0.8220858895705522\n",
            "Report card of this model\n",
            "              precision    recall  f1-score   support\n",
            "\n",
            "           0      0.933     0.691     0.794        81\n",
            "           1      0.757     0.951     0.843        82\n",
            "\n",
            "    accuracy                          0.822       163\n",
            "   macro avg      0.845     0.821     0.819       163\n",
            "weighted avg      0.845     0.822     0.819       163\n",
            "\n",
            "Accuracy score  0.8220858895705522\n"
          ]
        }
      ],
      "source": [
        "dtree = DecisionTreeClassifier()\n",
        "dtree.fit(X_train,y_train)\n",
        "y_pred_dtree = dtree.predict(X_test)\n",
        "score = dtree.score(X_test, y_test)\n",
        "print(\"Score of the model is \",score)\n",
        "print(\"Report card of this model\")\n",
        "print(classification_report(y_test, y_pred_dtree, digits=3))\n",
        "print(\"Accuracy score \", accuracy_score(y_test,y_pred_dtree))"
      ]
    },
    {
      "cell_type": "markdown",
      "id": "b4f7b64f",
      "metadata": {
        "id": "b4f7b64f"
      },
      "source": [
        "### HYperparameter Tuning For XGBoost\n"
      ]
    },
    {
      "cell_type": "code",
      "execution_count": 60,
      "id": "8ba67510",
      "metadata": {
        "id": "8ba67510"
      },
      "outputs": [],
      "source": [
        "params={\n",
        "    \"learning_rate\":[0.05,0.1,0.15],\n",
        "    \"max_depth\":[5,7,8,9],\n",
        "    \"min_child_weight\":[2,3,4],\n",
        "    \"gamma\":[0.2,0.3,0.4,0.5],\n",
        "    'n_estimators':[100,200,300],\n",
        "}"
      ]
    },
    {
      "cell_type": "code",
      "execution_count": 61,
      "id": "002d049c",
      "metadata": {
        "id": "002d049c"
      },
      "outputs": [],
      "source": [
        "xg_model=XGBClassifier(use_label_encoder=False)"
      ]
    },
    {
      "cell_type": "code",
      "execution_count": 62,
      "id": "07490023",
      "metadata": {
        "id": "07490023"
      },
      "outputs": [],
      "source": [
        "from sklearn.model_selection import GridSearchCV\n",
        "gridSearch=GridSearchCV(xg_model,params,n_jobs=5,cv=5,verbose=3)"
      ]
    },
    {
      "cell_type": "code",
      "execution_count": 63,
      "id": "87de5a05",
      "metadata": {
        "scrolled": true,
        "colab": {
          "base_uri": "https://localhost:8080/"
        },
        "id": "87de5a05",
        "outputId": "cbd6ec3b-af44-4405-e9e1-32b1b9479d36"
      },
      "outputs": [
        {
          "output_type": "stream",
          "name": "stdout",
          "text": [
            "Fitting 5 folds for each of 432 candidates, totalling 2160 fits\n"
          ]
        },
        {
          "output_type": "execute_result",
          "data": {
            "text/plain": [
              "GridSearchCV(cv=5, estimator=XGBClassifier(use_label_encoder=False), n_jobs=5,\n",
              "             param_grid={'gamma': [0.2, 0.3, 0.4, 0.5],\n",
              "                         'learning_rate': [0.05, 0.1, 0.15],\n",
              "                         'max_depth': [5, 7, 8, 9],\n",
              "                         'min_child_weight': [2, 3, 4],\n",
              "                         'n_estimators': [100, 200, 300]},\n",
              "             verbose=3)"
            ]
          },
          "metadata": {},
          "execution_count": 63
        }
      ],
      "source": [
        "gridSearch.fit(X_train,y_train)"
      ]
    },
    {
      "cell_type": "code",
      "execution_count": 64,
      "id": "ab502721",
      "metadata": {
        "colab": {
          "base_uri": "https://localhost:8080/"
        },
        "id": "ab502721",
        "outputId": "52dd3fc3-6468-48e8-89ca-bf38022dc329"
      },
      "outputs": [
        {
          "output_type": "stream",
          "name": "stdout",
          "text": [
            "0.8059272510435299\n",
            "{'gamma': 0.4, 'learning_rate': 0.1, 'max_depth': 5, 'min_child_weight': 2, 'n_estimators': 200}\n"
          ]
        }
      ],
      "source": [
        "print(gridSearch.best_score_)\n",
        "print(gridSearch.best_params_)"
      ]
    },
    {
      "cell_type": "code",
      "execution_count": 65,
      "id": "d2a1e5d4",
      "metadata": {
        "colab": {
          "base_uri": "https://localhost:8080/"
        },
        "id": "d2a1e5d4",
        "outputId": "c4f8afc9-45a7-42eb-efdf-d25ad7ddeeb6"
      },
      "outputs": [
        {
          "output_type": "stream",
          "name": "stdout",
          "text": [
            "[[58 23]\n",
            " [ 3 79]]\n",
            "0.8404907975460123\n"
          ]
        }
      ],
      "source": [
        "classifier=XGBClassifier(gamma=0.3, learning_rate=0.1,max_depth=9, min_child_weight=2,n_estimators=100)\n",
        "classifier.fit(X_train,y_train)\n",
        "y_predict=classifier.predict(X_test)\n",
        "print(confusion_matrix(y_test,y_predict))\n",
        "print(accuracy_score(y_test,y_predict))"
      ]
    },
    {
      "cell_type": "markdown",
      "id": "5988aa6b",
      "metadata": {
        "id": "5988aa6b"
      },
      "source": [
        "### Hyperparameter Tuning for SVC"
      ]
    },
    {
      "cell_type": "code",
      "execution_count": 75,
      "id": "eec9e281",
      "metadata": {
        "id": "eec9e281"
      },
      "outputs": [],
      "source": [
        "model_svc=SVC()"
      ]
    },
    {
      "cell_type": "code",
      "execution_count": 76,
      "id": "3bd97974",
      "metadata": {
        "colab": {
          "base_uri": "https://localhost:8080/"
        },
        "id": "3bd97974",
        "outputId": "c5974ede-00f0-4185-84a9-031c5746b9ca"
      },
      "outputs": [
        {
          "output_type": "stream",
          "name": "stdout",
          "text": [
            "Fitting 5 folds for each of 9 candidates, totalling 45 fits\n",
            "[CV 1/5] END .......C=1, gamma=0.02, kernel=rbf;, score=0.816 total time=   0.0s\n",
            "[CV 2/5] END .......C=1, gamma=0.02, kernel=rbf;, score=0.914 total time=   0.0s\n",
            "[CV 3/5] END .......C=1, gamma=0.02, kernel=rbf;, score=0.944 total time=   0.0s\n",
            "[CV 4/5] END .......C=1, gamma=0.02, kernel=rbf;, score=0.951 total time=   0.0s\n",
            "[CV 5/5] END .......C=1, gamma=0.02, kernel=rbf;, score=0.975 total time=   0.0s\n",
            "[CV 1/5] END .......C=1, gamma=0.03, kernel=rbf;, score=0.810 total time=   0.0s\n",
            "[CV 2/5] END .......C=1, gamma=0.03, kernel=rbf;, score=0.902 total time=   0.0s\n",
            "[CV 3/5] END .......C=1, gamma=0.03, kernel=rbf;, score=0.969 total time=   0.0s\n",
            "[CV 4/5] END .......C=1, gamma=0.03, kernel=rbf;, score=0.981 total time=   0.0s\n",
            "[CV 5/5] END .......C=1, gamma=0.03, kernel=rbf;, score=0.994 total time=   0.0s\n",
            "[CV 1/5] END .......C=1, gamma=0.04, kernel=rbf;, score=0.828 total time=   0.0s\n",
            "[CV 2/5] END .......C=1, gamma=0.04, kernel=rbf;, score=0.902 total time=   0.0s\n",
            "[CV 3/5] END .......C=1, gamma=0.04, kernel=rbf;, score=0.981 total time=   0.0s\n",
            "[CV 4/5] END .......C=1, gamma=0.04, kernel=rbf;, score=0.994 total time=   0.0s\n",
            "[CV 5/5] END .......C=1, gamma=0.04, kernel=rbf;, score=0.994 total time=   0.0s\n",
            "[CV 1/5] END .......C=2, gamma=0.02, kernel=rbf;, score=0.810 total time=   0.0s\n",
            "[CV 2/5] END .......C=2, gamma=0.02, kernel=rbf;, score=0.908 total time=   0.0s\n",
            "[CV 3/5] END .......C=2, gamma=0.02, kernel=rbf;, score=0.951 total time=   0.0s\n",
            "[CV 4/5] END .......C=2, gamma=0.02, kernel=rbf;, score=0.932 total time=   0.0s\n",
            "[CV 5/5] END .......C=2, gamma=0.02, kernel=rbf;, score=0.981 total time=   0.0s\n",
            "[CV 1/5] END .......C=2, gamma=0.03, kernel=rbf;, score=0.810 total time=   0.0s\n",
            "[CV 2/5] END .......C=2, gamma=0.03, kernel=rbf;, score=0.896 total time=   0.0s\n",
            "[CV 3/5] END .......C=2, gamma=0.03, kernel=rbf;, score=0.975 total time=   0.0s\n",
            "[CV 4/5] END .......C=2, gamma=0.03, kernel=rbf;, score=0.957 total time=   0.0s\n",
            "[CV 5/5] END .......C=2, gamma=0.03, kernel=rbf;, score=0.988 total time=   0.0s\n",
            "[CV 1/5] END .......C=2, gamma=0.04, kernel=rbf;, score=0.822 total time=   0.0s\n",
            "[CV 2/5] END .......C=2, gamma=0.04, kernel=rbf;, score=0.902 total time=   0.0s\n",
            "[CV 3/5] END .......C=2, gamma=0.04, kernel=rbf;, score=0.981 total time=   0.0s\n",
            "[CV 4/5] END .......C=2, gamma=0.04, kernel=rbf;, score=0.994 total time=   0.0s\n",
            "[CV 5/5] END .......C=2, gamma=0.04, kernel=rbf;, score=0.994 total time=   0.0s\n",
            "[CV 1/5] END .......C=3, gamma=0.02, kernel=rbf;, score=0.828 total time=   0.0s\n",
            "[CV 2/5] END .......C=3, gamma=0.02, kernel=rbf;, score=0.908 total time=   0.0s\n",
            "[CV 3/5] END .......C=3, gamma=0.02, kernel=rbf;, score=0.957 total time=   0.0s\n",
            "[CV 4/5] END .......C=3, gamma=0.02, kernel=rbf;, score=0.926 total time=   0.0s\n",
            "[CV 5/5] END .......C=3, gamma=0.02, kernel=rbf;, score=0.981 total time=   0.0s\n",
            "[CV 1/5] END .......C=3, gamma=0.03, kernel=rbf;, score=0.816 total time=   0.0s\n",
            "[CV 2/5] END .......C=3, gamma=0.03, kernel=rbf;, score=0.896 total time=   0.0s\n",
            "[CV 3/5] END .......C=3, gamma=0.03, kernel=rbf;, score=0.975 total time=   0.0s\n",
            "[CV 4/5] END .......C=3, gamma=0.03, kernel=rbf;, score=0.957 total time=   0.0s\n",
            "[CV 5/5] END .......C=3, gamma=0.03, kernel=rbf;, score=0.988 total time=   0.0s\n",
            "[CV 1/5] END .......C=3, gamma=0.04, kernel=rbf;, score=0.822 total time=   0.0s\n",
            "[CV 2/5] END .......C=3, gamma=0.04, kernel=rbf;, score=0.902 total time=   0.0s\n",
            "[CV 3/5] END .......C=3, gamma=0.04, kernel=rbf;, score=0.981 total time=   0.0s\n",
            "[CV 4/5] END .......C=3, gamma=0.04, kernel=rbf;, score=0.994 total time=   0.0s\n",
            "[CV 5/5] END .......C=3, gamma=0.04, kernel=rbf;, score=0.994 total time=   0.0s\n",
            "{'C': 1, 'gamma': 0.04, 'kernel': 'rbf'}\n",
            "SVC(C=1, gamma=0.04)\n"
          ]
        }
      ],
      "source": [
        "param_grid = {'C': [1,2,3],\n",
        "              'gamma': [0.02,0.03,0.04],\n",
        "              'kernel': ['rbf']}\n",
        " \n",
        "grid = GridSearchCV(model_svc, param_grid, refit = True,cv=5 ,verbose = 3)\n",
        " \n",
        "# fitting the model for grid search\n",
        "grid.fit(X, y)\n",
        "\n",
        "# print best parameter after tuning\n",
        "print(grid.best_params_)\n",
        " \n",
        "# print how our model looks after hyper-parameter tuning\n",
        "print(grid.best_estimator_)"
      ]
    },
    {
      "cell_type": "code",
      "execution_count": 77,
      "id": "13cd8da4",
      "metadata": {
        "colab": {
          "base_uri": "https://localhost:8080/"
        },
        "id": "13cd8da4",
        "outputId": "4e6e0340-2bdd-4ba3-8861-2f35747028fb"
      },
      "outputs": [
        {
          "output_type": "stream",
          "name": "stdout",
          "text": [
            "Train accuracy  0.9953775038520801\n",
            "Test accuracy  0.9141104294478528\n"
          ]
        }
      ],
      "source": [
        "model_svr=SVC(C=2,gamma=0.02,kernel='rbf')\n",
        "model_svr.fit(X_train,y_train)\n",
        "y_predict_test_svr=model_svr.predict(X_test)\n",
        "y_predict_train_svr=model_svr.predict(X_train)\n",
        "print(\"Train accuracy \",accuracy_score(y_train,y_predict_train_svr))\n",
        "print(\"Test accuracy \",accuracy_score(y_test,y_predict_test_svr))"
      ]
    },
    {
      "cell_type": "code",
      "execution_count": 78,
      "id": "dd98c201",
      "metadata": {
        "colab": {
          "base_uri": "https://localhost:8080/"
        },
        "id": "dd98c201",
        "outputId": "e3490c80-2400-42ed-d2cd-c1668ad04cb4"
      },
      "outputs": [
        {
          "output_type": "stream",
          "name": "stderr",
          "text": [
            "/usr/local/lib/python3.7/dist-packages/sklearn/base.py:451: UserWarning: X does not have valid feature names, but SVC was fitted with feature names\n",
            "  \"X does not have valid feature names, but\"\n"
          ]
        },
        {
          "output_type": "execute_result",
          "data": {
            "text/plain": [
              "array([0])"
            ]
          },
          "metadata": {},
          "execution_count": 78
        }
      ],
      "source": [
        "y_predict=model_svr.predict([[1,65,0.7,0.1,187,16,18,6.8,3.3,0.9]])\n",
        "y_predict"
      ]
    },
    {
      "cell_type": "code",
      "execution_count": 79,
      "id": "d9cf51bd",
      "metadata": {
        "colab": {
          "base_uri": "https://localhost:8080/"
        },
        "id": "d9cf51bd",
        "outputId": "92c96942-4483-4827-f898-483d656fd7aa"
      },
      "outputs": [
        {
          "output_type": "stream",
          "name": "stderr",
          "text": [
            "/usr/local/lib/python3.7/dist-packages/sklearn/base.py:451: UserWarning: X does not have valid feature names, but RandomForestClassifier was fitted with feature names\n",
            "  \"X does not have valid feature names, but\"\n"
          ]
        },
        {
          "output_type": "execute_result",
          "data": {
            "text/plain": [
              "array([1])"
            ]
          },
          "metadata": {},
          "execution_count": 79
        }
      ],
      "source": [
        "y_pred=model_rf.predict([[1,84,0.7,0.2,188,13,21,6,3.2,1.1]])\n",
        "y_pred"
      ]
    },
    {
      "cell_type": "markdown",
      "id": "6ccf51d9",
      "metadata": {
        "id": "6ccf51d9"
      },
      "source": [
        "### Hyperparameter Tuning for RandomForestClassifier"
      ]
    },
    {
      "cell_type": "code",
      "execution_count": 71,
      "id": "1dbaabee",
      "metadata": {
        "id": "1dbaabee"
      },
      "outputs": [],
      "source": [
        "model_rfc=RandomForestClassifier()"
      ]
    },
    {
      "cell_type": "code",
      "execution_count": 72,
      "id": "5d9569dd",
      "metadata": {
        "colab": {
          "base_uri": "https://localhost:8080/"
        },
        "id": "5d9569dd",
        "outputId": "d0b63caa-98e9-4459-9142-b345111c2f8c"
      },
      "outputs": [
        {
          "output_type": "stream",
          "name": "stdout",
          "text": [
            "Fitting 5 folds for each of 108 candidates, totalling 540 fits\n",
            "[CV 1/5] END max_depth=2, max_features=auto, min_samples_split=2, n_estimators=100;, score=0.677 total time=   0.2s\n",
            "[CV 2/5] END max_depth=2, max_features=auto, min_samples_split=2, n_estimators=100;, score=0.669 total time=   0.2s\n",
            "[CV 3/5] END max_depth=2, max_features=auto, min_samples_split=2, n_estimators=100;, score=0.800 total time=   0.2s\n",
            "[CV 4/5] END max_depth=2, max_features=auto, min_samples_split=2, n_estimators=100;, score=0.677 total time=   0.2s\n",
            "[CV 5/5] END max_depth=2, max_features=auto, min_samples_split=2, n_estimators=100;, score=0.775 total time=   0.2s\n",
            "[CV 1/5] END max_depth=2, max_features=auto, min_samples_split=2, n_estimators=200;, score=0.677 total time=   0.4s\n",
            "[CV 2/5] END max_depth=2, max_features=auto, min_samples_split=2, n_estimators=200;, score=0.662 total time=   0.3s\n",
            "[CV 3/5] END max_depth=2, max_features=auto, min_samples_split=2, n_estimators=200;, score=0.808 total time=   0.4s\n",
            "[CV 4/5] END max_depth=2, max_features=auto, min_samples_split=2, n_estimators=200;, score=0.677 total time=   0.3s\n",
            "[CV 5/5] END max_depth=2, max_features=auto, min_samples_split=2, n_estimators=200;, score=0.767 total time=   0.3s\n",
            "[CV 1/5] END max_depth=2, max_features=auto, min_samples_split=2, n_estimators=300;, score=0.669 total time=   0.5s\n",
            "[CV 2/5] END max_depth=2, max_features=auto, min_samples_split=2, n_estimators=300;, score=0.677 total time=   0.5s\n",
            "[CV 3/5] END max_depth=2, max_features=auto, min_samples_split=2, n_estimators=300;, score=0.792 total time=   0.5s\n",
            "[CV 4/5] END max_depth=2, max_features=auto, min_samples_split=2, n_estimators=300;, score=0.677 total time=   0.5s\n",
            "[CV 5/5] END max_depth=2, max_features=auto, min_samples_split=2, n_estimators=300;, score=0.767 total time=   0.5s\n",
            "[CV 1/5] END max_depth=2, max_features=auto, min_samples_split=5, n_estimators=100;, score=0.677 total time=   0.2s\n",
            "[CV 2/5] END max_depth=2, max_features=auto, min_samples_split=5, n_estimators=100;, score=0.685 total time=   0.2s\n",
            "[CV 3/5] END max_depth=2, max_features=auto, min_samples_split=5, n_estimators=100;, score=0.785 total time=   0.2s\n",
            "[CV 4/5] END max_depth=2, max_features=auto, min_samples_split=5, n_estimators=100;, score=0.685 total time=   0.2s\n",
            "[CV 5/5] END max_depth=2, max_features=auto, min_samples_split=5, n_estimators=100;, score=0.767 total time=   0.2s\n",
            "[CV 1/5] END max_depth=2, max_features=auto, min_samples_split=5, n_estimators=200;, score=0.685 total time=   0.3s\n",
            "[CV 2/5] END max_depth=2, max_features=auto, min_samples_split=5, n_estimators=200;, score=0.677 total time=   0.3s\n",
            "[CV 3/5] END max_depth=2, max_features=auto, min_samples_split=5, n_estimators=200;, score=0.792 total time=   0.3s\n",
            "[CV 4/5] END max_depth=2, max_features=auto, min_samples_split=5, n_estimators=200;, score=0.677 total time=   0.4s\n",
            "[CV 5/5] END max_depth=2, max_features=auto, min_samples_split=5, n_estimators=200;, score=0.760 total time=   0.4s\n",
            "[CV 1/5] END max_depth=2, max_features=auto, min_samples_split=5, n_estimators=300;, score=0.677 total time=   0.5s\n",
            "[CV 2/5] END max_depth=2, max_features=auto, min_samples_split=5, n_estimators=300;, score=0.669 total time=   0.5s\n",
            "[CV 3/5] END max_depth=2, max_features=auto, min_samples_split=5, n_estimators=300;, score=0.800 total time=   0.5s\n",
            "[CV 4/5] END max_depth=2, max_features=auto, min_samples_split=5, n_estimators=300;, score=0.677 total time=   0.5s\n",
            "[CV 5/5] END max_depth=2, max_features=auto, min_samples_split=5, n_estimators=300;, score=0.775 total time=   0.5s\n",
            "[CV 1/5] END max_depth=2, max_features=auto, min_samples_split=10, n_estimators=100;, score=0.685 total time=   0.2s\n",
            "[CV 2/5] END max_depth=2, max_features=auto, min_samples_split=10, n_estimators=100;, score=0.692 total time=   0.2s\n",
            "[CV 3/5] END max_depth=2, max_features=auto, min_samples_split=10, n_estimators=100;, score=0.800 total time=   0.2s\n",
            "[CV 4/5] END max_depth=2, max_features=auto, min_samples_split=10, n_estimators=100;, score=0.677 total time=   0.2s\n",
            "[CV 5/5] END max_depth=2, max_features=auto, min_samples_split=10, n_estimators=100;, score=0.791 total time=   0.2s\n",
            "[CV 1/5] END max_depth=2, max_features=auto, min_samples_split=10, n_estimators=200;, score=0.677 total time=   0.4s\n",
            "[CV 2/5] END max_depth=2, max_features=auto, min_samples_split=10, n_estimators=200;, score=0.669 total time=   0.3s\n",
            "[CV 3/5] END max_depth=2, max_features=auto, min_samples_split=10, n_estimators=200;, score=0.777 total time=   0.4s\n",
            "[CV 4/5] END max_depth=2, max_features=auto, min_samples_split=10, n_estimators=200;, score=0.662 total time=   0.4s\n",
            "[CV 5/5] END max_depth=2, max_features=auto, min_samples_split=10, n_estimators=200;, score=0.775 total time=   0.4s\n",
            "[CV 1/5] END max_depth=2, max_features=auto, min_samples_split=10, n_estimators=300;, score=0.677 total time=   0.5s\n",
            "[CV 2/5] END max_depth=2, max_features=auto, min_samples_split=10, n_estimators=300;, score=0.685 total time=   0.5s\n",
            "[CV 3/5] END max_depth=2, max_features=auto, min_samples_split=10, n_estimators=300;, score=0.792 total time=   0.5s\n",
            "[CV 4/5] END max_depth=2, max_features=auto, min_samples_split=10, n_estimators=300;, score=0.685 total time=   0.5s\n",
            "[CV 5/5] END max_depth=2, max_features=auto, min_samples_split=10, n_estimators=300;, score=0.767 total time=   0.5s\n",
            "[CV 1/5] END max_depth=2, max_features=sqrt, min_samples_split=2, n_estimators=100;, score=0.669 total time=   0.2s\n",
            "[CV 2/5] END max_depth=2, max_features=sqrt, min_samples_split=2, n_estimators=100;, score=0.685 total time=   0.2s\n",
            "[CV 3/5] END max_depth=2, max_features=sqrt, min_samples_split=2, n_estimators=100;, score=0.800 total time=   0.2s\n",
            "[CV 4/5] END max_depth=2, max_features=sqrt, min_samples_split=2, n_estimators=100;, score=0.677 total time=   0.2s\n",
            "[CV 5/5] END max_depth=2, max_features=sqrt, min_samples_split=2, n_estimators=100;, score=0.767 total time=   0.2s\n",
            "[CV 1/5] END max_depth=2, max_features=sqrt, min_samples_split=2, n_estimators=200;, score=0.685 total time=   0.3s\n",
            "[CV 2/5] END max_depth=2, max_features=sqrt, min_samples_split=2, n_estimators=200;, score=0.685 total time=   0.3s\n",
            "[CV 3/5] END max_depth=2, max_features=sqrt, min_samples_split=2, n_estimators=200;, score=0.785 total time=   0.4s\n",
            "[CV 4/5] END max_depth=2, max_features=sqrt, min_samples_split=2, n_estimators=200;, score=0.669 total time=   0.3s\n",
            "[CV 5/5] END max_depth=2, max_features=sqrt, min_samples_split=2, n_estimators=200;, score=0.767 total time=   0.3s\n",
            "[CV 1/5] END max_depth=2, max_features=sqrt, min_samples_split=2, n_estimators=300;, score=0.677 total time=   0.5s\n",
            "[CV 2/5] END max_depth=2, max_features=sqrt, min_samples_split=2, n_estimators=300;, score=0.685 total time=   0.5s\n",
            "[CV 3/5] END max_depth=2, max_features=sqrt, min_samples_split=2, n_estimators=300;, score=0.792 total time=   0.5s\n",
            "[CV 4/5] END max_depth=2, max_features=sqrt, min_samples_split=2, n_estimators=300;, score=0.677 total time=   0.5s\n",
            "[CV 5/5] END max_depth=2, max_features=sqrt, min_samples_split=2, n_estimators=300;, score=0.767 total time=   0.5s\n",
            "[CV 1/5] END max_depth=2, max_features=sqrt, min_samples_split=5, n_estimators=100;, score=0.677 total time=   0.2s\n",
            "[CV 2/5] END max_depth=2, max_features=sqrt, min_samples_split=5, n_estimators=100;, score=0.685 total time=   0.2s\n",
            "[CV 3/5] END max_depth=2, max_features=sqrt, min_samples_split=5, n_estimators=100;, score=0.785 total time=   0.2s\n",
            "[CV 4/5] END max_depth=2, max_features=sqrt, min_samples_split=5, n_estimators=100;, score=0.685 total time=   0.2s\n",
            "[CV 5/5] END max_depth=2, max_features=sqrt, min_samples_split=5, n_estimators=100;, score=0.775 total time=   0.2s\n",
            "[CV 1/5] END max_depth=2, max_features=sqrt, min_samples_split=5, n_estimators=200;, score=0.677 total time=   0.3s\n",
            "[CV 2/5] END max_depth=2, max_features=sqrt, min_samples_split=5, n_estimators=200;, score=0.685 total time=   0.3s\n",
            "[CV 3/5] END max_depth=2, max_features=sqrt, min_samples_split=5, n_estimators=200;, score=0.785 total time=   0.3s\n",
            "[CV 4/5] END max_depth=2, max_features=sqrt, min_samples_split=5, n_estimators=200;, score=0.677 total time=   0.3s\n",
            "[CV 5/5] END max_depth=2, max_features=sqrt, min_samples_split=5, n_estimators=200;, score=0.767 total time=   0.3s\n",
            "[CV 1/5] END max_depth=2, max_features=sqrt, min_samples_split=5, n_estimators=300;, score=0.685 total time=   0.5s\n",
            "[CV 2/5] END max_depth=2, max_features=sqrt, min_samples_split=5, n_estimators=300;, score=0.677 total time=   0.5s\n",
            "[CV 3/5] END max_depth=2, max_features=sqrt, min_samples_split=5, n_estimators=300;, score=0.785 total time=   0.5s\n",
            "[CV 4/5] END max_depth=2, max_features=sqrt, min_samples_split=5, n_estimators=300;, score=0.685 total time=   0.5s\n",
            "[CV 5/5] END max_depth=2, max_features=sqrt, min_samples_split=5, n_estimators=300;, score=0.767 total time=   0.5s\n",
            "[CV 1/5] END max_depth=2, max_features=sqrt, min_samples_split=10, n_estimators=100;, score=0.685 total time=   0.2s\n",
            "[CV 2/5] END max_depth=2, max_features=sqrt, min_samples_split=10, n_estimators=100;, score=0.685 total time=   0.2s\n",
            "[CV 3/5] END max_depth=2, max_features=sqrt, min_samples_split=10, n_estimators=100;, score=0.792 total time=   0.2s\n",
            "[CV 4/5] END max_depth=2, max_features=sqrt, min_samples_split=10, n_estimators=100;, score=0.677 total time=   0.2s\n",
            "[CV 5/5] END max_depth=2, max_features=sqrt, min_samples_split=10, n_estimators=100;, score=0.760 total time=   0.2s\n",
            "[CV 1/5] END max_depth=2, max_features=sqrt, min_samples_split=10, n_estimators=200;, score=0.685 total time=   0.3s\n",
            "[CV 2/5] END max_depth=2, max_features=sqrt, min_samples_split=10, n_estimators=200;, score=0.685 total time=   0.3s\n",
            "[CV 3/5] END max_depth=2, max_features=sqrt, min_samples_split=10, n_estimators=200;, score=0.792 total time=   0.3s\n",
            "[CV 4/5] END max_depth=2, max_features=sqrt, min_samples_split=10, n_estimators=200;, score=0.685 total time=   0.4s\n",
            "[CV 5/5] END max_depth=2, max_features=sqrt, min_samples_split=10, n_estimators=200;, score=0.767 total time=   0.3s\n",
            "[CV 1/5] END max_depth=2, max_features=sqrt, min_samples_split=10, n_estimators=300;, score=0.685 total time=   0.5s\n",
            "[CV 2/5] END max_depth=2, max_features=sqrt, min_samples_split=10, n_estimators=300;, score=0.662 total time=   0.5s\n",
            "[CV 3/5] END max_depth=2, max_features=sqrt, min_samples_split=10, n_estimators=300;, score=0.800 total time=   0.5s\n",
            "[CV 4/5] END max_depth=2, max_features=sqrt, min_samples_split=10, n_estimators=300;, score=0.677 total time=   0.5s\n",
            "[CV 5/5] END max_depth=2, max_features=sqrt, min_samples_split=10, n_estimators=300;, score=0.767 total time=   0.5s\n",
            "[CV 1/5] END max_depth=2, max_features=log2, min_samples_split=2, n_estimators=100;, score=0.677 total time=   0.2s\n",
            "[CV 2/5] END max_depth=2, max_features=log2, min_samples_split=2, n_estimators=100;, score=0.685 total time=   0.2s\n",
            "[CV 3/5] END max_depth=2, max_features=log2, min_samples_split=2, n_estimators=100;, score=0.792 total time=   0.2s\n",
            "[CV 4/5] END max_depth=2, max_features=log2, min_samples_split=2, n_estimators=100;, score=0.677 total time=   0.2s\n",
            "[CV 5/5] END max_depth=2, max_features=log2, min_samples_split=2, n_estimators=100;, score=0.752 total time=   0.2s\n",
            "[CV 1/5] END max_depth=2, max_features=log2, min_samples_split=2, n_estimators=200;, score=0.677 total time=   0.3s\n",
            "[CV 2/5] END max_depth=2, max_features=log2, min_samples_split=2, n_estimators=200;, score=0.685 total time=   0.3s\n",
            "[CV 3/5] END max_depth=2, max_features=log2, min_samples_split=2, n_estimators=200;, score=0.792 total time=   0.3s\n",
            "[CV 4/5] END max_depth=2, max_features=log2, min_samples_split=2, n_estimators=200;, score=0.685 total time=   0.3s\n",
            "[CV 5/5] END max_depth=2, max_features=log2, min_samples_split=2, n_estimators=200;, score=0.767 total time=   0.3s\n",
            "[CV 1/5] END max_depth=2, max_features=log2, min_samples_split=2, n_estimators=300;, score=0.685 total time=   0.5s\n",
            "[CV 2/5] END max_depth=2, max_features=log2, min_samples_split=2, n_estimators=300;, score=0.669 total time=   0.5s\n",
            "[CV 3/5] END max_depth=2, max_features=log2, min_samples_split=2, n_estimators=300;, score=0.800 total time=   0.5s\n",
            "[CV 4/5] END max_depth=2, max_features=log2, min_samples_split=2, n_estimators=300;, score=0.677 total time=   0.5s\n",
            "[CV 5/5] END max_depth=2, max_features=log2, min_samples_split=2, n_estimators=300;, score=0.767 total time=   0.5s\n",
            "[CV 1/5] END max_depth=2, max_features=log2, min_samples_split=5, n_estimators=100;, score=0.677 total time=   0.2s\n",
            "[CV 2/5] END max_depth=2, max_features=log2, min_samples_split=5, n_estimators=100;, score=0.685 total time=   0.2s\n",
            "[CV 3/5] END max_depth=2, max_features=log2, min_samples_split=5, n_estimators=100;, score=0.800 total time=   0.2s\n",
            "[CV 4/5] END max_depth=2, max_features=log2, min_samples_split=5, n_estimators=100;, score=0.685 total time=   0.2s\n",
            "[CV 5/5] END max_depth=2, max_features=log2, min_samples_split=5, n_estimators=100;, score=0.767 total time=   0.2s\n",
            "[CV 1/5] END max_depth=2, max_features=log2, min_samples_split=5, n_estimators=200;, score=0.685 total time=   0.3s\n",
            "[CV 2/5] END max_depth=2, max_features=log2, min_samples_split=5, n_estimators=200;, score=0.685 total time=   0.3s\n",
            "[CV 3/5] END max_depth=2, max_features=log2, min_samples_split=5, n_estimators=200;, score=0.792 total time=   0.3s\n",
            "[CV 4/5] END max_depth=2, max_features=log2, min_samples_split=5, n_estimators=200;, score=0.677 total time=   0.3s\n",
            "[CV 5/5] END max_depth=2, max_features=log2, min_samples_split=5, n_estimators=200;, score=0.767 total time=   0.3s\n",
            "[CV 1/5] END max_depth=2, max_features=log2, min_samples_split=5, n_estimators=300;, score=0.677 total time=   0.5s\n",
            "[CV 2/5] END max_depth=2, max_features=log2, min_samples_split=5, n_estimators=300;, score=0.677 total time=   0.5s\n",
            "[CV 3/5] END max_depth=2, max_features=log2, min_samples_split=5, n_estimators=300;, score=0.792 total time=   0.5s\n",
            "[CV 4/5] END max_depth=2, max_features=log2, min_samples_split=5, n_estimators=300;, score=0.685 total time=   0.5s\n",
            "[CV 5/5] END max_depth=2, max_features=log2, min_samples_split=5, n_estimators=300;, score=0.767 total time=   0.5s\n",
            "[CV 1/5] END max_depth=2, max_features=log2, min_samples_split=10, n_estimators=100;, score=0.677 total time=   0.2s\n",
            "[CV 2/5] END max_depth=2, max_features=log2, min_samples_split=10, n_estimators=100;, score=0.692 total time=   0.2s\n",
            "[CV 3/5] END max_depth=2, max_features=log2, min_samples_split=10, n_estimators=100;, score=0.792 total time=   0.2s\n",
            "[CV 4/5] END max_depth=2, max_features=log2, min_samples_split=10, n_estimators=100;, score=0.669 total time=   0.2s\n",
            "[CV 5/5] END max_depth=2, max_features=log2, min_samples_split=10, n_estimators=100;, score=0.752 total time=   0.2s\n",
            "[CV 1/5] END max_depth=2, max_features=log2, min_samples_split=10, n_estimators=200;, score=0.685 total time=   0.3s\n",
            "[CV 2/5] END max_depth=2, max_features=log2, min_samples_split=10, n_estimators=200;, score=0.669 total time=   0.3s\n",
            "[CV 3/5] END max_depth=2, max_features=log2, min_samples_split=10, n_estimators=200;, score=0.792 total time=   0.4s\n",
            "[CV 4/5] END max_depth=2, max_features=log2, min_samples_split=10, n_estimators=200;, score=0.677 total time=   0.3s\n",
            "[CV 5/5] END max_depth=2, max_features=log2, min_samples_split=10, n_estimators=200;, score=0.767 total time=   0.3s\n",
            "[CV 1/5] END max_depth=2, max_features=log2, min_samples_split=10, n_estimators=300;, score=0.685 total time=   0.5s\n",
            "[CV 2/5] END max_depth=2, max_features=log2, min_samples_split=10, n_estimators=300;, score=0.677 total time=   0.5s\n",
            "[CV 3/5] END max_depth=2, max_features=log2, min_samples_split=10, n_estimators=300;, score=0.800 total time=   0.5s\n",
            "[CV 4/5] END max_depth=2, max_features=log2, min_samples_split=10, n_estimators=300;, score=0.685 total time=   0.5s\n",
            "[CV 5/5] END max_depth=2, max_features=log2, min_samples_split=10, n_estimators=300;, score=0.775 total time=   0.5s\n",
            "[CV 1/5] END max_depth=3, max_features=auto, min_samples_split=2, n_estimators=100;, score=0.692 total time=   0.2s\n",
            "[CV 2/5] END max_depth=3, max_features=auto, min_samples_split=2, n_estimators=100;, score=0.677 total time=   0.2s\n",
            "[CV 3/5] END max_depth=3, max_features=auto, min_samples_split=2, n_estimators=100;, score=0.815 total time=   0.2s\n",
            "[CV 4/5] END max_depth=3, max_features=auto, min_samples_split=2, n_estimators=100;, score=0.685 total time=   0.2s\n",
            "[CV 5/5] END max_depth=3, max_features=auto, min_samples_split=2, n_estimators=100;, score=0.775 total time=   0.2s\n",
            "[CV 1/5] END max_depth=3, max_features=auto, min_samples_split=2, n_estimators=200;, score=0.700 total time=   0.3s\n",
            "[CV 2/5] END max_depth=3, max_features=auto, min_samples_split=2, n_estimators=200;, score=0.677 total time=   0.4s\n",
            "[CV 3/5] END max_depth=3, max_features=auto, min_samples_split=2, n_estimators=200;, score=0.815 total time=   0.4s\n",
            "[CV 4/5] END max_depth=3, max_features=auto, min_samples_split=2, n_estimators=200;, score=0.685 total time=   0.4s\n",
            "[CV 5/5] END max_depth=3, max_features=auto, min_samples_split=2, n_estimators=200;, score=0.783 total time=   0.3s\n",
            "[CV 1/5] END max_depth=3, max_features=auto, min_samples_split=2, n_estimators=300;, score=0.685 total time=   0.5s\n",
            "[CV 2/5] END max_depth=3, max_features=auto, min_samples_split=2, n_estimators=300;, score=0.692 total time=   0.5s\n",
            "[CV 3/5] END max_depth=3, max_features=auto, min_samples_split=2, n_estimators=300;, score=0.808 total time=   0.5s\n",
            "[CV 4/5] END max_depth=3, max_features=auto, min_samples_split=2, n_estimators=300;, score=0.677 total time=   0.5s\n",
            "[CV 5/5] END max_depth=3, max_features=auto, min_samples_split=2, n_estimators=300;, score=0.783 total time=   0.5s\n",
            "[CV 1/5] END max_depth=3, max_features=auto, min_samples_split=5, n_estimators=100;, score=0.677 total time=   0.2s\n",
            "[CV 2/5] END max_depth=3, max_features=auto, min_samples_split=5, n_estimators=100;, score=0.692 total time=   0.2s\n",
            "[CV 3/5] END max_depth=3, max_features=auto, min_samples_split=5, n_estimators=100;, score=0.808 total time=   0.2s\n",
            "[CV 4/5] END max_depth=3, max_features=auto, min_samples_split=5, n_estimators=100;, score=0.685 total time=   0.2s\n",
            "[CV 5/5] END max_depth=3, max_features=auto, min_samples_split=5, n_estimators=100;, score=0.791 total time=   0.2s\n",
            "[CV 1/5] END max_depth=3, max_features=auto, min_samples_split=5, n_estimators=200;, score=0.685 total time=   0.3s\n",
            "[CV 2/5] END max_depth=3, max_features=auto, min_samples_split=5, n_estimators=200;, score=0.692 total time=   0.3s\n",
            "[CV 3/5] END max_depth=3, max_features=auto, min_samples_split=5, n_estimators=200;, score=0.800 total time=   0.4s\n",
            "[CV 4/5] END max_depth=3, max_features=auto, min_samples_split=5, n_estimators=200;, score=0.685 total time=   0.3s\n",
            "[CV 5/5] END max_depth=3, max_features=auto, min_samples_split=5, n_estimators=200;, score=0.775 total time=   0.3s\n",
            "[CV 1/5] END max_depth=3, max_features=auto, min_samples_split=5, n_estimators=300;, score=0.692 total time=   0.5s\n",
            "[CV 2/5] END max_depth=3, max_features=auto, min_samples_split=5, n_estimators=300;, score=0.669 total time=   0.5s\n",
            "[CV 3/5] END max_depth=3, max_features=auto, min_samples_split=5, n_estimators=300;, score=0.815 total time=   0.5s\n",
            "[CV 4/5] END max_depth=3, max_features=auto, min_samples_split=5, n_estimators=300;, score=0.677 total time=   0.5s\n",
            "[CV 5/5] END max_depth=3, max_features=auto, min_samples_split=5, n_estimators=300;, score=0.791 total time=   0.5s\n",
            "[CV 1/5] END max_depth=3, max_features=auto, min_samples_split=10, n_estimators=100;, score=0.685 total time=   0.2s\n",
            "[CV 2/5] END max_depth=3, max_features=auto, min_samples_split=10, n_estimators=100;, score=0.677 total time=   0.2s\n",
            "[CV 3/5] END max_depth=3, max_features=auto, min_samples_split=10, n_estimators=100;, score=0.792 total time=   0.2s\n",
            "[CV 4/5] END max_depth=3, max_features=auto, min_samples_split=10, n_estimators=100;, score=0.677 total time=   0.2s\n",
            "[CV 5/5] END max_depth=3, max_features=auto, min_samples_split=10, n_estimators=100;, score=0.791 total time=   0.2s\n",
            "[CV 1/5] END max_depth=3, max_features=auto, min_samples_split=10, n_estimators=200;, score=0.692 total time=   0.3s\n",
            "[CV 2/5] END max_depth=3, max_features=auto, min_samples_split=10, n_estimators=200;, score=0.677 total time=   0.3s\n",
            "[CV 3/5] END max_depth=3, max_features=auto, min_samples_split=10, n_estimators=200;, score=0.800 total time=   0.3s\n",
            "[CV 4/5] END max_depth=3, max_features=auto, min_samples_split=10, n_estimators=200;, score=0.685 total time=   0.3s\n",
            "[CV 5/5] END max_depth=3, max_features=auto, min_samples_split=10, n_estimators=200;, score=0.783 total time=   0.4s\n",
            "[CV 1/5] END max_depth=3, max_features=auto, min_samples_split=10, n_estimators=300;, score=0.692 total time=   0.5s\n",
            "[CV 2/5] END max_depth=3, max_features=auto, min_samples_split=10, n_estimators=300;, score=0.685 total time=   0.5s\n",
            "[CV 3/5] END max_depth=3, max_features=auto, min_samples_split=10, n_estimators=300;, score=0.823 total time=   0.5s\n",
            "[CV 4/5] END max_depth=3, max_features=auto, min_samples_split=10, n_estimators=300;, score=0.685 total time=   0.5s\n",
            "[CV 5/5] END max_depth=3, max_features=auto, min_samples_split=10, n_estimators=300;, score=0.783 total time=   0.5s\n",
            "[CV 1/5] END max_depth=3, max_features=sqrt, min_samples_split=2, n_estimators=100;, score=0.685 total time=   0.2s\n",
            "[CV 2/5] END max_depth=3, max_features=sqrt, min_samples_split=2, n_estimators=100;, score=0.692 total time=   0.2s\n",
            "[CV 3/5] END max_depth=3, max_features=sqrt, min_samples_split=2, n_estimators=100;, score=0.800 total time=   0.2s\n",
            "[CV 4/5] END max_depth=3, max_features=sqrt, min_samples_split=2, n_estimators=100;, score=0.685 total time=   0.2s\n",
            "[CV 5/5] END max_depth=3, max_features=sqrt, min_samples_split=2, n_estimators=100;, score=0.791 total time=   0.2s\n",
            "[CV 1/5] END max_depth=3, max_features=sqrt, min_samples_split=2, n_estimators=200;, score=0.700 total time=   0.4s\n",
            "[CV 2/5] END max_depth=3, max_features=sqrt, min_samples_split=2, n_estimators=200;, score=0.677 total time=   0.4s\n",
            "[CV 3/5] END max_depth=3, max_features=sqrt, min_samples_split=2, n_estimators=200;, score=0.800 total time=   0.4s\n",
            "[CV 4/5] END max_depth=3, max_features=sqrt, min_samples_split=2, n_estimators=200;, score=0.677 total time=   0.3s\n",
            "[CV 5/5] END max_depth=3, max_features=sqrt, min_samples_split=2, n_estimators=200;, score=0.775 total time=   0.3s\n",
            "[CV 1/5] END max_depth=3, max_features=sqrt, min_samples_split=2, n_estimators=300;, score=0.692 total time=   0.5s\n",
            "[CV 2/5] END max_depth=3, max_features=sqrt, min_samples_split=2, n_estimators=300;, score=0.669 total time=   0.5s\n",
            "[CV 3/5] END max_depth=3, max_features=sqrt, min_samples_split=2, n_estimators=300;, score=0.800 total time=   0.5s\n",
            "[CV 4/5] END max_depth=3, max_features=sqrt, min_samples_split=2, n_estimators=300;, score=0.685 total time=   0.5s\n",
            "[CV 5/5] END max_depth=3, max_features=sqrt, min_samples_split=2, n_estimators=300;, score=0.775 total time=   0.5s\n",
            "[CV 1/5] END max_depth=3, max_features=sqrt, min_samples_split=5, n_estimators=100;, score=0.700 total time=   0.2s\n",
            "[CV 2/5] END max_depth=3, max_features=sqrt, min_samples_split=5, n_estimators=100;, score=0.677 total time=   0.2s\n",
            "[CV 3/5] END max_depth=3, max_features=sqrt, min_samples_split=5, n_estimators=100;, score=0.800 total time=   0.2s\n",
            "[CV 4/5] END max_depth=3, max_features=sqrt, min_samples_split=5, n_estimators=100;, score=0.692 total time=   0.2s\n",
            "[CV 5/5] END max_depth=3, max_features=sqrt, min_samples_split=5, n_estimators=100;, score=0.775 total time=   0.2s\n",
            "[CV 1/5] END max_depth=3, max_features=sqrt, min_samples_split=5, n_estimators=200;, score=0.685 total time=   0.3s\n",
            "[CV 2/5] END max_depth=3, max_features=sqrt, min_samples_split=5, n_estimators=200;, score=0.662 total time=   0.3s\n",
            "[CV 3/5] END max_depth=3, max_features=sqrt, min_samples_split=5, n_estimators=200;, score=0.831 total time=   0.3s\n",
            "[CV 4/5] END max_depth=3, max_features=sqrt, min_samples_split=5, n_estimators=200;, score=0.685 total time=   0.3s\n",
            "[CV 5/5] END max_depth=3, max_features=sqrt, min_samples_split=5, n_estimators=200;, score=0.783 total time=   0.4s\n",
            "[CV 1/5] END max_depth=3, max_features=sqrt, min_samples_split=5, n_estimators=300;, score=0.677 total time=   0.5s\n",
            "[CV 2/5] END max_depth=3, max_features=sqrt, min_samples_split=5, n_estimators=300;, score=0.669 total time=   0.5s\n",
            "[CV 3/5] END max_depth=3, max_features=sqrt, min_samples_split=5, n_estimators=300;, score=0.808 total time=   0.5s\n",
            "[CV 4/5] END max_depth=3, max_features=sqrt, min_samples_split=5, n_estimators=300;, score=0.685 total time=   0.5s\n",
            "[CV 5/5] END max_depth=3, max_features=sqrt, min_samples_split=5, n_estimators=300;, score=0.783 total time=   0.5s\n",
            "[CV 1/5] END max_depth=3, max_features=sqrt, min_samples_split=10, n_estimators=100;, score=0.700 total time=   0.2s\n",
            "[CV 2/5] END max_depth=3, max_features=sqrt, min_samples_split=10, n_estimators=100;, score=0.685 total time=   0.2s\n",
            "[CV 3/5] END max_depth=3, max_features=sqrt, min_samples_split=10, n_estimators=100;, score=0.800 total time=   0.2s\n",
            "[CV 4/5] END max_depth=3, max_features=sqrt, min_samples_split=10, n_estimators=100;, score=0.685 total time=   0.2s\n",
            "[CV 5/5] END max_depth=3, max_features=sqrt, min_samples_split=10, n_estimators=100;, score=0.775 total time=   0.2s\n",
            "[CV 1/5] END max_depth=3, max_features=sqrt, min_samples_split=10, n_estimators=200;, score=0.685 total time=   0.3s\n",
            "[CV 2/5] END max_depth=3, max_features=sqrt, min_samples_split=10, n_estimators=200;, score=0.692 total time=   0.4s\n",
            "[CV 3/5] END max_depth=3, max_features=sqrt, min_samples_split=10, n_estimators=200;, score=0.792 total time=   0.3s\n",
            "[CV 4/5] END max_depth=3, max_features=sqrt, min_samples_split=10, n_estimators=200;, score=0.685 total time=   0.3s\n",
            "[CV 5/5] END max_depth=3, max_features=sqrt, min_samples_split=10, n_estimators=200;, score=0.767 total time=   0.4s\n",
            "[CV 1/5] END max_depth=3, max_features=sqrt, min_samples_split=10, n_estimators=300;, score=0.692 total time=   0.5s\n",
            "[CV 2/5] END max_depth=3, max_features=sqrt, min_samples_split=10, n_estimators=300;, score=0.677 total time=   0.5s\n",
            "[CV 3/5] END max_depth=3, max_features=sqrt, min_samples_split=10, n_estimators=300;, score=0.808 total time=   0.5s\n",
            "[CV 4/5] END max_depth=3, max_features=sqrt, min_samples_split=10, n_estimators=300;, score=0.685 total time=   0.5s\n",
            "[CV 5/5] END max_depth=3, max_features=sqrt, min_samples_split=10, n_estimators=300;, score=0.783 total time=   0.5s\n",
            "[CV 1/5] END max_depth=3, max_features=log2, min_samples_split=2, n_estimators=100;, score=0.700 total time=   0.2s\n",
            "[CV 2/5] END max_depth=3, max_features=log2, min_samples_split=2, n_estimators=100;, score=0.708 total time=   0.2s\n",
            "[CV 3/5] END max_depth=3, max_features=log2, min_samples_split=2, n_estimators=100;, score=0.800 total time=   0.2s\n",
            "[CV 4/5] END max_depth=3, max_features=log2, min_samples_split=2, n_estimators=100;, score=0.685 total time=   0.2s\n",
            "[CV 5/5] END max_depth=3, max_features=log2, min_samples_split=2, n_estimators=100;, score=0.775 total time=   0.2s\n",
            "[CV 1/5] END max_depth=3, max_features=log2, min_samples_split=2, n_estimators=200;, score=0.685 total time=   0.3s\n",
            "[CV 2/5] END max_depth=3, max_features=log2, min_samples_split=2, n_estimators=200;, score=0.677 total time=   0.4s\n",
            "[CV 3/5] END max_depth=3, max_features=log2, min_samples_split=2, n_estimators=200;, score=0.808 total time=   0.4s\n",
            "[CV 4/5] END max_depth=3, max_features=log2, min_samples_split=2, n_estimators=200;, score=0.677 total time=   0.3s\n",
            "[CV 5/5] END max_depth=3, max_features=log2, min_samples_split=2, n_estimators=200;, score=0.783 total time=   0.3s\n",
            "[CV 1/5] END max_depth=3, max_features=log2, min_samples_split=2, n_estimators=300;, score=0.692 total time=   0.5s\n",
            "[CV 2/5] END max_depth=3, max_features=log2, min_samples_split=2, n_estimators=300;, score=0.692 total time=   0.5s\n",
            "[CV 3/5] END max_depth=3, max_features=log2, min_samples_split=2, n_estimators=300;, score=0.815 total time=   0.5s\n",
            "[CV 4/5] END max_depth=3, max_features=log2, min_samples_split=2, n_estimators=300;, score=0.685 total time=   0.5s\n",
            "[CV 5/5] END max_depth=3, max_features=log2, min_samples_split=2, n_estimators=300;, score=0.783 total time=   0.5s\n",
            "[CV 1/5] END max_depth=3, max_features=log2, min_samples_split=5, n_estimators=100;, score=0.692 total time=   0.2s\n",
            "[CV 2/5] END max_depth=3, max_features=log2, min_samples_split=5, n_estimators=100;, score=0.700 total time=   0.2s\n",
            "[CV 3/5] END max_depth=3, max_features=log2, min_samples_split=5, n_estimators=100;, score=0.800 total time=   0.2s\n",
            "[CV 4/5] END max_depth=3, max_features=log2, min_samples_split=5, n_estimators=100;, score=0.685 total time=   0.2s\n",
            "[CV 5/5] END max_depth=3, max_features=log2, min_samples_split=5, n_estimators=100;, score=0.775 total time=   0.2s\n",
            "[CV 1/5] END max_depth=3, max_features=log2, min_samples_split=5, n_estimators=200;, score=0.692 total time=   0.4s\n",
            "[CV 2/5] END max_depth=3, max_features=log2, min_samples_split=5, n_estimators=200;, score=0.692 total time=   0.4s\n",
            "[CV 3/5] END max_depth=3, max_features=log2, min_samples_split=5, n_estimators=200;, score=0.800 total time=   0.4s\n",
            "[CV 4/5] END max_depth=3, max_features=log2, min_samples_split=5, n_estimators=200;, score=0.677 total time=   0.4s\n",
            "[CV 5/5] END max_depth=3, max_features=log2, min_samples_split=5, n_estimators=200;, score=0.775 total time=   0.3s\n",
            "[CV 1/5] END max_depth=3, max_features=log2, min_samples_split=5, n_estimators=300;, score=0.685 total time=   0.5s\n",
            "[CV 2/5] END max_depth=3, max_features=log2, min_samples_split=5, n_estimators=300;, score=0.669 total time=   0.5s\n",
            "[CV 3/5] END max_depth=3, max_features=log2, min_samples_split=5, n_estimators=300;, score=0.815 total time=   0.5s\n",
            "[CV 4/5] END max_depth=3, max_features=log2, min_samples_split=5, n_estimators=300;, score=0.685 total time=   0.5s\n",
            "[CV 5/5] END max_depth=3, max_features=log2, min_samples_split=5, n_estimators=300;, score=0.783 total time=   0.5s\n",
            "[CV 1/5] END max_depth=3, max_features=log2, min_samples_split=10, n_estimators=100;, score=0.685 total time=   0.2s\n",
            "[CV 2/5] END max_depth=3, max_features=log2, min_samples_split=10, n_estimators=100;, score=0.677 total time=   0.2s\n",
            "[CV 3/5] END max_depth=3, max_features=log2, min_samples_split=10, n_estimators=100;, score=0.800 total time=   0.2s\n",
            "[CV 4/5] END max_depth=3, max_features=log2, min_samples_split=10, n_estimators=100;, score=0.677 total time=   0.2s\n",
            "[CV 5/5] END max_depth=3, max_features=log2, min_samples_split=10, n_estimators=100;, score=0.783 total time=   0.2s\n",
            "[CV 1/5] END max_depth=3, max_features=log2, min_samples_split=10, n_estimators=200;, score=0.692 total time=   0.4s\n",
            "[CV 2/5] END max_depth=3, max_features=log2, min_samples_split=10, n_estimators=200;, score=0.669 total time=   0.3s\n",
            "[CV 3/5] END max_depth=3, max_features=log2, min_samples_split=10, n_estimators=200;, score=0.792 total time=   0.3s\n",
            "[CV 4/5] END max_depth=3, max_features=log2, min_samples_split=10, n_estimators=200;, score=0.685 total time=   0.4s\n",
            "[CV 5/5] END max_depth=3, max_features=log2, min_samples_split=10, n_estimators=200;, score=0.783 total time=   0.3s\n",
            "[CV 1/5] END max_depth=3, max_features=log2, min_samples_split=10, n_estimators=300;, score=0.685 total time=   0.5s\n",
            "[CV 2/5] END max_depth=3, max_features=log2, min_samples_split=10, n_estimators=300;, score=0.692 total time=   0.5s\n",
            "[CV 3/5] END max_depth=3, max_features=log2, min_samples_split=10, n_estimators=300;, score=0.800 total time=   0.5s\n",
            "[CV 4/5] END max_depth=3, max_features=log2, min_samples_split=10, n_estimators=300;, score=0.677 total time=   0.5s\n",
            "[CV 5/5] END max_depth=3, max_features=log2, min_samples_split=10, n_estimators=300;, score=0.783 total time=   0.5s\n",
            "[CV 1/5] END max_depth=4, max_features=auto, min_samples_split=2, n_estimators=100;, score=0.700 total time=   0.2s\n",
            "[CV 2/5] END max_depth=4, max_features=auto, min_samples_split=2, n_estimators=100;, score=0.700 total time=   0.2s\n",
            "[CV 3/5] END max_depth=4, max_features=auto, min_samples_split=2, n_estimators=100;, score=0.838 total time=   0.2s\n",
            "[CV 4/5] END max_depth=4, max_features=auto, min_samples_split=2, n_estimators=100;, score=0.685 total time=   0.2s\n",
            "[CV 5/5] END max_depth=4, max_features=auto, min_samples_split=2, n_estimators=100;, score=0.783 total time=   0.2s\n",
            "[CV 1/5] END max_depth=4, max_features=auto, min_samples_split=2, n_estimators=200;, score=0.692 total time=   0.4s\n",
            "[CV 2/5] END max_depth=4, max_features=auto, min_samples_split=2, n_estimators=200;, score=0.700 total time=   0.4s\n",
            "[CV 3/5] END max_depth=4, max_features=auto, min_samples_split=2, n_estimators=200;, score=0.823 total time=   0.3s\n",
            "[CV 4/5] END max_depth=4, max_features=auto, min_samples_split=2, n_estimators=200;, score=0.700 total time=   0.4s\n",
            "[CV 5/5] END max_depth=4, max_features=auto, min_samples_split=2, n_estimators=200;, score=0.783 total time=   0.3s\n",
            "[CV 1/5] END max_depth=4, max_features=auto, min_samples_split=2, n_estimators=300;, score=0.700 total time=   0.5s\n",
            "[CV 2/5] END max_depth=4, max_features=auto, min_samples_split=2, n_estimators=300;, score=0.685 total time=   0.5s\n",
            "[CV 3/5] END max_depth=4, max_features=auto, min_samples_split=2, n_estimators=300;, score=0.815 total time=   0.5s\n",
            "[CV 4/5] END max_depth=4, max_features=auto, min_samples_split=2, n_estimators=300;, score=0.685 total time=   0.5s\n",
            "[CV 5/5] END max_depth=4, max_features=auto, min_samples_split=2, n_estimators=300;, score=0.783 total time=   0.7s\n",
            "[CV 1/5] END max_depth=4, max_features=auto, min_samples_split=5, n_estimators=100;, score=0.700 total time=   0.3s\n",
            "[CV 2/5] END max_depth=4, max_features=auto, min_samples_split=5, n_estimators=100;, score=0.700 total time=   0.3s\n",
            "[CV 3/5] END max_depth=4, max_features=auto, min_samples_split=5, n_estimators=100;, score=0.808 total time=   0.3s\n",
            "[CV 4/5] END max_depth=4, max_features=auto, min_samples_split=5, n_estimators=100;, score=0.692 total time=   0.3s\n",
            "[CV 5/5] END max_depth=4, max_features=auto, min_samples_split=5, n_estimators=100;, score=0.775 total time=   0.3s\n",
            "[CV 1/5] END max_depth=4, max_features=auto, min_samples_split=5, n_estimators=200;, score=0.708 total time=   0.6s\n",
            "[CV 2/5] END max_depth=4, max_features=auto, min_samples_split=5, n_estimators=200;, score=0.708 total time=   0.6s\n",
            "[CV 3/5] END max_depth=4, max_features=auto, min_samples_split=5, n_estimators=200;, score=0.831 total time=   0.6s\n",
            "[CV 4/5] END max_depth=4, max_features=auto, min_samples_split=5, n_estimators=200;, score=0.677 total time=   0.6s\n",
            "[CV 5/5] END max_depth=4, max_features=auto, min_samples_split=5, n_estimators=200;, score=0.791 total time=   0.6s\n",
            "[CV 1/5] END max_depth=4, max_features=auto, min_samples_split=5, n_estimators=300;, score=0.692 total time=   0.6s\n",
            "[CV 2/5] END max_depth=4, max_features=auto, min_samples_split=5, n_estimators=300;, score=0.708 total time=   0.5s\n",
            "[CV 3/5] END max_depth=4, max_features=auto, min_samples_split=5, n_estimators=300;, score=0.831 total time=   0.5s\n",
            "[CV 4/5] END max_depth=4, max_features=auto, min_samples_split=5, n_estimators=300;, score=0.685 total time=   0.5s\n",
            "[CV 5/5] END max_depth=4, max_features=auto, min_samples_split=5, n_estimators=300;, score=0.783 total time=   0.5s\n",
            "[CV 1/5] END max_depth=4, max_features=auto, min_samples_split=10, n_estimators=100;, score=0.692 total time=   0.2s\n",
            "[CV 2/5] END max_depth=4, max_features=auto, min_samples_split=10, n_estimators=100;, score=0.715 total time=   0.2s\n",
            "[CV 3/5] END max_depth=4, max_features=auto, min_samples_split=10, n_estimators=100;, score=0.838 total time=   0.2s\n",
            "[CV 4/5] END max_depth=4, max_features=auto, min_samples_split=10, n_estimators=100;, score=0.677 total time=   0.2s\n",
            "[CV 5/5] END max_depth=4, max_features=auto, min_samples_split=10, n_estimators=100;, score=0.783 total time=   0.2s\n",
            "[CV 1/5] END max_depth=4, max_features=auto, min_samples_split=10, n_estimators=200;, score=0.692 total time=   0.4s\n",
            "[CV 2/5] END max_depth=4, max_features=auto, min_samples_split=10, n_estimators=200;, score=0.692 total time=   0.4s\n",
            "[CV 3/5] END max_depth=4, max_features=auto, min_samples_split=10, n_estimators=200;, score=0.815 total time=   0.3s\n",
            "[CV 4/5] END max_depth=4, max_features=auto, min_samples_split=10, n_estimators=200;, score=0.677 total time=   0.4s\n",
            "[CV 5/5] END max_depth=4, max_features=auto, min_samples_split=10, n_estimators=200;, score=0.791 total time=   0.4s\n",
            "[CV 1/5] END max_depth=4, max_features=auto, min_samples_split=10, n_estimators=300;, score=0.700 total time=   0.6s\n",
            "[CV 2/5] END max_depth=4, max_features=auto, min_samples_split=10, n_estimators=300;, score=0.685 total time=   0.5s\n",
            "[CV 3/5] END max_depth=4, max_features=auto, min_samples_split=10, n_estimators=300;, score=0.831 total time=   0.5s\n",
            "[CV 4/5] END max_depth=4, max_features=auto, min_samples_split=10, n_estimators=300;, score=0.692 total time=   0.5s\n",
            "[CV 5/5] END max_depth=4, max_features=auto, min_samples_split=10, n_estimators=300;, score=0.783 total time=   0.5s\n",
            "[CV 1/5] END max_depth=4, max_features=sqrt, min_samples_split=2, n_estimators=100;, score=0.700 total time=   0.2s\n",
            "[CV 2/5] END max_depth=4, max_features=sqrt, min_samples_split=2, n_estimators=100;, score=0.692 total time=   0.2s\n",
            "[CV 3/5] END max_depth=4, max_features=sqrt, min_samples_split=2, n_estimators=100;, score=0.846 total time=   0.2s\n",
            "[CV 4/5] END max_depth=4, max_features=sqrt, min_samples_split=2, n_estimators=100;, score=0.669 total time=   0.2s\n",
            "[CV 5/5] END max_depth=4, max_features=sqrt, min_samples_split=2, n_estimators=100;, score=0.760 total time=   0.2s\n",
            "[CV 1/5] END max_depth=4, max_features=sqrt, min_samples_split=2, n_estimators=200;, score=0.708 total time=   0.4s\n",
            "[CV 2/5] END max_depth=4, max_features=sqrt, min_samples_split=2, n_estimators=200;, score=0.708 total time=   0.4s\n",
            "[CV 3/5] END max_depth=4, max_features=sqrt, min_samples_split=2, n_estimators=200;, score=0.808 total time=   0.3s\n",
            "[CV 4/5] END max_depth=4, max_features=sqrt, min_samples_split=2, n_estimators=200;, score=0.692 total time=   0.4s\n",
            "[CV 5/5] END max_depth=4, max_features=sqrt, min_samples_split=2, n_estimators=200;, score=0.791 total time=   0.4s\n",
            "[CV 1/5] END max_depth=4, max_features=sqrt, min_samples_split=2, n_estimators=300;, score=0.708 total time=   0.5s\n",
            "[CV 2/5] END max_depth=4, max_features=sqrt, min_samples_split=2, n_estimators=300;, score=0.692 total time=   0.5s\n",
            "[CV 3/5] END max_depth=4, max_features=sqrt, min_samples_split=2, n_estimators=300;, score=0.838 total time=   0.5s\n",
            "[CV 4/5] END max_depth=4, max_features=sqrt, min_samples_split=2, n_estimators=300;, score=0.692 total time=   0.6s\n",
            "[CV 5/5] END max_depth=4, max_features=sqrt, min_samples_split=2, n_estimators=300;, score=0.791 total time=   0.5s\n",
            "[CV 1/5] END max_depth=4, max_features=sqrt, min_samples_split=5, n_estimators=100;, score=0.708 total time=   0.2s\n",
            "[CV 2/5] END max_depth=4, max_features=sqrt, min_samples_split=5, n_estimators=100;, score=0.708 total time=   0.2s\n",
            "[CV 3/5] END max_depth=4, max_features=sqrt, min_samples_split=5, n_estimators=100;, score=0.831 total time=   0.2s\n",
            "[CV 4/5] END max_depth=4, max_features=sqrt, min_samples_split=5, n_estimators=100;, score=0.685 total time=   0.2s\n",
            "[CV 5/5] END max_depth=4, max_features=sqrt, min_samples_split=5, n_estimators=100;, score=0.783 total time=   0.2s\n",
            "[CV 1/5] END max_depth=4, max_features=sqrt, min_samples_split=5, n_estimators=200;, score=0.708 total time=   0.3s\n",
            "[CV 2/5] END max_depth=4, max_features=sqrt, min_samples_split=5, n_estimators=200;, score=0.700 total time=   0.4s\n",
            "[CV 3/5] END max_depth=4, max_features=sqrt, min_samples_split=5, n_estimators=200;, score=0.838 total time=   0.4s\n",
            "[CV 4/5] END max_depth=4, max_features=sqrt, min_samples_split=5, n_estimators=200;, score=0.685 total time=   0.4s\n",
            "[CV 5/5] END max_depth=4, max_features=sqrt, min_samples_split=5, n_estimators=200;, score=0.791 total time=   0.4s\n",
            "[CV 1/5] END max_depth=4, max_features=sqrt, min_samples_split=5, n_estimators=300;, score=0.700 total time=   0.5s\n",
            "[CV 2/5] END max_depth=4, max_features=sqrt, min_samples_split=5, n_estimators=300;, score=0.708 total time=   0.5s\n",
            "[CV 3/5] END max_depth=4, max_features=sqrt, min_samples_split=5, n_estimators=300;, score=0.823 total time=   0.5s\n",
            "[CV 4/5] END max_depth=4, max_features=sqrt, min_samples_split=5, n_estimators=300;, score=0.692 total time=   0.6s\n",
            "[CV 5/5] END max_depth=4, max_features=sqrt, min_samples_split=5, n_estimators=300;, score=0.783 total time=   0.5s\n",
            "[CV 1/5] END max_depth=4, max_features=sqrt, min_samples_split=10, n_estimators=100;, score=0.700 total time=   0.2s\n",
            "[CV 2/5] END max_depth=4, max_features=sqrt, min_samples_split=10, n_estimators=100;, score=0.700 total time=   0.2s\n",
            "[CV 3/5] END max_depth=4, max_features=sqrt, min_samples_split=10, n_estimators=100;, score=0.815 total time=   0.2s\n",
            "[CV 4/5] END max_depth=4, max_features=sqrt, min_samples_split=10, n_estimators=100;, score=0.692 total time=   0.2s\n",
            "[CV 5/5] END max_depth=4, max_features=sqrt, min_samples_split=10, n_estimators=100;, score=0.798 total time=   0.2s\n",
            "[CV 1/5] END max_depth=4, max_features=sqrt, min_samples_split=10, n_estimators=200;, score=0.700 total time=   0.4s\n",
            "[CV 2/5] END max_depth=4, max_features=sqrt, min_samples_split=10, n_estimators=200;, score=0.692 total time=   0.4s\n",
            "[CV 3/5] END max_depth=4, max_features=sqrt, min_samples_split=10, n_estimators=200;, score=0.838 total time=   0.4s\n",
            "[CV 4/5] END max_depth=4, max_features=sqrt, min_samples_split=10, n_estimators=200;, score=0.685 total time=   0.4s\n",
            "[CV 5/5] END max_depth=4, max_features=sqrt, min_samples_split=10, n_estimators=200;, score=0.775 total time=   0.4s\n",
            "[CV 1/5] END max_depth=4, max_features=sqrt, min_samples_split=10, n_estimators=300;, score=0.708 total time=   0.5s\n",
            "[CV 2/5] END max_depth=4, max_features=sqrt, min_samples_split=10, n_estimators=300;, score=0.700 total time=   0.5s\n",
            "[CV 3/5] END max_depth=4, max_features=sqrt, min_samples_split=10, n_estimators=300;, score=0.838 total time=   0.5s\n",
            "[CV 4/5] END max_depth=4, max_features=sqrt, min_samples_split=10, n_estimators=300;, score=0.692 total time=   0.5s\n",
            "[CV 5/5] END max_depth=4, max_features=sqrt, min_samples_split=10, n_estimators=300;, score=0.775 total time=   0.5s\n",
            "[CV 1/5] END max_depth=4, max_features=log2, min_samples_split=2, n_estimators=100;, score=0.700 total time=   0.2s\n",
            "[CV 2/5] END max_depth=4, max_features=log2, min_samples_split=2, n_estimators=100;, score=0.692 total time=   0.2s\n",
            "[CV 3/5] END max_depth=4, max_features=log2, min_samples_split=2, n_estimators=100;, score=0.823 total time=   0.2s\n",
            "[CV 4/5] END max_depth=4, max_features=log2, min_samples_split=2, n_estimators=100;, score=0.677 total time=   0.2s\n",
            "[CV 5/5] END max_depth=4, max_features=log2, min_samples_split=2, n_estimators=100;, score=0.791 total time=   0.2s\n",
            "[CV 1/5] END max_depth=4, max_features=log2, min_samples_split=2, n_estimators=200;, score=0.715 total time=   0.4s\n",
            "[CV 2/5] END max_depth=4, max_features=log2, min_samples_split=2, n_estimators=200;, score=0.685 total time=   0.3s\n",
            "[CV 3/5] END max_depth=4, max_features=log2, min_samples_split=2, n_estimators=200;, score=0.823 total time=   0.4s\n",
            "[CV 4/5] END max_depth=4, max_features=log2, min_samples_split=2, n_estimators=200;, score=0.692 total time=   0.3s\n",
            "[CV 5/5] END max_depth=4, max_features=log2, min_samples_split=2, n_estimators=200;, score=0.791 total time=   0.4s\n",
            "[CV 1/5] END max_depth=4, max_features=log2, min_samples_split=2, n_estimators=300;, score=0.685 total time=   0.6s\n",
            "[CV 2/5] END max_depth=4, max_features=log2, min_samples_split=2, n_estimators=300;, score=0.692 total time=   0.5s\n",
            "[CV 3/5] END max_depth=4, max_features=log2, min_samples_split=2, n_estimators=300;, score=0.831 total time=   0.6s\n",
            "[CV 4/5] END max_depth=4, max_features=log2, min_samples_split=2, n_estimators=300;, score=0.677 total time=   0.5s\n",
            "[CV 5/5] END max_depth=4, max_features=log2, min_samples_split=2, n_estimators=300;, score=0.791 total time=   0.5s\n",
            "[CV 1/5] END max_depth=4, max_features=log2, min_samples_split=5, n_estimators=100;, score=0.700 total time=   0.2s\n",
            "[CV 2/5] END max_depth=4, max_features=log2, min_samples_split=5, n_estimators=100;, score=0.708 total time=   0.2s\n",
            "[CV 3/5] END max_depth=4, max_features=log2, min_samples_split=5, n_estimators=100;, score=0.838 total time=   0.2s\n",
            "[CV 4/5] END max_depth=4, max_features=log2, min_samples_split=5, n_estimators=100;, score=0.692 total time=   0.2s\n",
            "[CV 5/5] END max_depth=4, max_features=log2, min_samples_split=5, n_estimators=100;, score=0.775 total time=   0.2s\n",
            "[CV 1/5] END max_depth=4, max_features=log2, min_samples_split=5, n_estimators=200;, score=0.708 total time=   0.4s\n",
            "[CV 2/5] END max_depth=4, max_features=log2, min_samples_split=5, n_estimators=200;, score=0.700 total time=   0.4s\n",
            "[CV 3/5] END max_depth=4, max_features=log2, min_samples_split=5, n_estimators=200;, score=0.815 total time=   0.4s\n",
            "[CV 4/5] END max_depth=4, max_features=log2, min_samples_split=5, n_estimators=200;, score=0.685 total time=   0.3s\n",
            "[CV 5/5] END max_depth=4, max_features=log2, min_samples_split=5, n_estimators=200;, score=0.791 total time=   0.4s\n",
            "[CV 1/5] END max_depth=4, max_features=log2, min_samples_split=5, n_estimators=300;, score=0.708 total time=   0.5s\n",
            "[CV 2/5] END max_depth=4, max_features=log2, min_samples_split=5, n_estimators=300;, score=0.692 total time=   0.5s\n",
            "[CV 3/5] END max_depth=4, max_features=log2, min_samples_split=5, n_estimators=300;, score=0.838 total time=   0.5s\n",
            "[CV 4/5] END max_depth=4, max_features=log2, min_samples_split=5, n_estimators=300;, score=0.677 total time=   0.5s\n",
            "[CV 5/5] END max_depth=4, max_features=log2, min_samples_split=5, n_estimators=300;, score=0.791 total time=   0.5s\n",
            "[CV 1/5] END max_depth=4, max_features=log2, min_samples_split=10, n_estimators=100;, score=0.708 total time=   0.2s\n",
            "[CV 2/5] END max_depth=4, max_features=log2, min_samples_split=10, n_estimators=100;, score=0.708 total time=   0.2s\n",
            "[CV 3/5] END max_depth=4, max_features=log2, min_samples_split=10, n_estimators=100;, score=0.838 total time=   0.2s\n",
            "[CV 4/5] END max_depth=4, max_features=log2, min_samples_split=10, n_estimators=100;, score=0.677 total time=   0.2s\n",
            "[CV 5/5] END max_depth=4, max_features=log2, min_samples_split=10, n_estimators=100;, score=0.791 total time=   0.2s\n",
            "[CV 1/5] END max_depth=4, max_features=log2, min_samples_split=10, n_estimators=200;, score=0.692 total time=   0.4s\n",
            "[CV 2/5] END max_depth=4, max_features=log2, min_samples_split=10, n_estimators=200;, score=0.715 total time=   0.4s\n",
            "[CV 3/5] END max_depth=4, max_features=log2, min_samples_split=10, n_estimators=200;, score=0.838 total time=   0.4s\n",
            "[CV 4/5] END max_depth=4, max_features=log2, min_samples_split=10, n_estimators=200;, score=0.692 total time=   0.4s\n",
            "[CV 5/5] END max_depth=4, max_features=log2, min_samples_split=10, n_estimators=200;, score=0.791 total time=   0.4s\n",
            "[CV 1/5] END max_depth=4, max_features=log2, min_samples_split=10, n_estimators=300;, score=0.700 total time=   0.5s\n",
            "[CV 2/5] END max_depth=4, max_features=log2, min_samples_split=10, n_estimators=300;, score=0.708 total time=   0.5s\n",
            "[CV 3/5] END max_depth=4, max_features=log2, min_samples_split=10, n_estimators=300;, score=0.815 total time=   0.5s\n",
            "[CV 4/5] END max_depth=4, max_features=log2, min_samples_split=10, n_estimators=300;, score=0.677 total time=   0.5s\n",
            "[CV 5/5] END max_depth=4, max_features=log2, min_samples_split=10, n_estimators=300;, score=0.775 total time=   0.5s\n",
            "[CV 1/5] END max_depth=5, max_features=auto, min_samples_split=2, n_estimators=100;, score=0.738 total time=   0.2s\n",
            "[CV 2/5] END max_depth=5, max_features=auto, min_samples_split=2, n_estimators=100;, score=0.715 total time=   0.2s\n",
            "[CV 3/5] END max_depth=5, max_features=auto, min_samples_split=2, n_estimators=100;, score=0.815 total time=   0.2s\n",
            "[CV 4/5] END max_depth=5, max_features=auto, min_samples_split=2, n_estimators=100;, score=0.700 total time=   0.2s\n",
            "[CV 5/5] END max_depth=5, max_features=auto, min_samples_split=2, n_estimators=100;, score=0.806 total time=   0.2s\n",
            "[CV 1/5] END max_depth=5, max_features=auto, min_samples_split=2, n_estimators=200;, score=0.715 total time=   0.4s\n",
            "[CV 2/5] END max_depth=5, max_features=auto, min_samples_split=2, n_estimators=200;, score=0.708 total time=   0.4s\n",
            "[CV 3/5] END max_depth=5, max_features=auto, min_samples_split=2, n_estimators=200;, score=0.838 total time=   0.4s\n",
            "[CV 4/5] END max_depth=5, max_features=auto, min_samples_split=2, n_estimators=200;, score=0.692 total time=   0.4s\n",
            "[CV 5/5] END max_depth=5, max_features=auto, min_samples_split=2, n_estimators=200;, score=0.798 total time=   0.4s\n",
            "[CV 1/5] END max_depth=5, max_features=auto, min_samples_split=2, n_estimators=300;, score=0.738 total time=   0.6s\n",
            "[CV 2/5] END max_depth=5, max_features=auto, min_samples_split=2, n_estimators=300;, score=0.708 total time=   0.5s\n",
            "[CV 3/5] END max_depth=5, max_features=auto, min_samples_split=2, n_estimators=300;, score=0.831 total time=   0.5s\n",
            "[CV 4/5] END max_depth=5, max_features=auto, min_samples_split=2, n_estimators=300;, score=0.700 total time=   0.5s\n",
            "[CV 5/5] END max_depth=5, max_features=auto, min_samples_split=2, n_estimators=300;, score=0.783 total time=   0.5s\n",
            "[CV 1/5] END max_depth=5, max_features=auto, min_samples_split=5, n_estimators=100;, score=0.708 total time=   0.2s\n",
            "[CV 2/5] END max_depth=5, max_features=auto, min_samples_split=5, n_estimators=100;, score=0.708 total time=   0.2s\n",
            "[CV 3/5] END max_depth=5, max_features=auto, min_samples_split=5, n_estimators=100;, score=0.823 total time=   0.2s\n",
            "[CV 4/5] END max_depth=5, max_features=auto, min_samples_split=5, n_estimators=100;, score=0.708 total time=   0.2s\n",
            "[CV 5/5] END max_depth=5, max_features=auto, min_samples_split=5, n_estimators=100;, score=0.783 total time=   0.2s\n",
            "[CV 1/5] END max_depth=5, max_features=auto, min_samples_split=5, n_estimators=200;, score=0.715 total time=   0.4s\n",
            "[CV 2/5] END max_depth=5, max_features=auto, min_samples_split=5, n_estimators=200;, score=0.700 total time=   0.4s\n",
            "[CV 3/5] END max_depth=5, max_features=auto, min_samples_split=5, n_estimators=200;, score=0.838 total time=   0.4s\n",
            "[CV 4/5] END max_depth=5, max_features=auto, min_samples_split=5, n_estimators=200;, score=0.677 total time=   0.4s\n",
            "[CV 5/5] END max_depth=5, max_features=auto, min_samples_split=5, n_estimators=200;, score=0.806 total time=   0.4s\n",
            "[CV 1/5] END max_depth=5, max_features=auto, min_samples_split=5, n_estimators=300;, score=0.715 total time=   0.5s\n",
            "[CV 2/5] END max_depth=5, max_features=auto, min_samples_split=5, n_estimators=300;, score=0.700 total time=   0.5s\n",
            "[CV 3/5] END max_depth=5, max_features=auto, min_samples_split=5, n_estimators=300;, score=0.831 total time=   0.5s\n",
            "[CV 4/5] END max_depth=5, max_features=auto, min_samples_split=5, n_estimators=300;, score=0.700 total time=   0.6s\n",
            "[CV 5/5] END max_depth=5, max_features=auto, min_samples_split=5, n_estimators=300;, score=0.783 total time=   0.5s\n",
            "[CV 1/5] END max_depth=5, max_features=auto, min_samples_split=10, n_estimators=100;, score=0.715 total time=   0.2s\n",
            "[CV 2/5] END max_depth=5, max_features=auto, min_samples_split=10, n_estimators=100;, score=0.708 total time=   0.2s\n",
            "[CV 3/5] END max_depth=5, max_features=auto, min_samples_split=10, n_estimators=100;, score=0.838 total time=   0.2s\n",
            "[CV 4/5] END max_depth=5, max_features=auto, min_samples_split=10, n_estimators=100;, score=0.708 total time=   0.2s\n",
            "[CV 5/5] END max_depth=5, max_features=auto, min_samples_split=10, n_estimators=100;, score=0.791 total time=   0.2s\n",
            "[CV 1/5] END max_depth=5, max_features=auto, min_samples_split=10, n_estimators=200;, score=0.723 total time=   0.4s\n",
            "[CV 2/5] END max_depth=5, max_features=auto, min_samples_split=10, n_estimators=200;, score=0.692 total time=   0.4s\n",
            "[CV 3/5] END max_depth=5, max_features=auto, min_samples_split=10, n_estimators=200;, score=0.831 total time=   0.4s\n",
            "[CV 4/5] END max_depth=5, max_features=auto, min_samples_split=10, n_estimators=200;, score=0.677 total time=   0.4s\n",
            "[CV 5/5] END max_depth=5, max_features=auto, min_samples_split=10, n_estimators=200;, score=0.783 total time=   0.4s\n",
            "[CV 1/5] END max_depth=5, max_features=auto, min_samples_split=10, n_estimators=300;, score=0.715 total time=   0.5s\n",
            "[CV 2/5] END max_depth=5, max_features=auto, min_samples_split=10, n_estimators=300;, score=0.692 total time=   0.5s\n",
            "[CV 3/5] END max_depth=5, max_features=auto, min_samples_split=10, n_estimators=300;, score=0.838 total time=   0.5s\n",
            "[CV 4/5] END max_depth=5, max_features=auto, min_samples_split=10, n_estimators=300;, score=0.685 total time=   0.6s\n",
            "[CV 5/5] END max_depth=5, max_features=auto, min_samples_split=10, n_estimators=300;, score=0.783 total time=   0.5s\n",
            "[CV 1/5] END max_depth=5, max_features=sqrt, min_samples_split=2, n_estimators=100;, score=0.723 total time=   0.2s\n",
            "[CV 2/5] END max_depth=5, max_features=sqrt, min_samples_split=2, n_estimators=100;, score=0.708 total time=   0.2s\n",
            "[CV 3/5] END max_depth=5, max_features=sqrt, min_samples_split=2, n_estimators=100;, score=0.846 total time=   0.2s\n",
            "[CV 4/5] END max_depth=5, max_features=sqrt, min_samples_split=2, n_estimators=100;, score=0.700 total time=   0.2s\n",
            "[CV 5/5] END max_depth=5, max_features=sqrt, min_samples_split=2, n_estimators=100;, score=0.798 total time=   0.2s\n",
            "[CV 1/5] END max_depth=5, max_features=sqrt, min_samples_split=2, n_estimators=200;, score=0.723 total time=   0.4s\n",
            "[CV 2/5] END max_depth=5, max_features=sqrt, min_samples_split=2, n_estimators=200;, score=0.708 total time=   0.4s\n",
            "[CV 3/5] END max_depth=5, max_features=sqrt, min_samples_split=2, n_estimators=200;, score=0.823 total time=   0.4s\n",
            "[CV 4/5] END max_depth=5, max_features=sqrt, min_samples_split=2, n_estimators=200;, score=0.708 total time=   0.4s\n",
            "[CV 5/5] END max_depth=5, max_features=sqrt, min_samples_split=2, n_estimators=200;, score=0.798 total time=   0.4s\n",
            "[CV 1/5] END max_depth=5, max_features=sqrt, min_samples_split=2, n_estimators=300;, score=0.723 total time=   0.5s\n",
            "[CV 2/5] END max_depth=5, max_features=sqrt, min_samples_split=2, n_estimators=300;, score=0.708 total time=   0.5s\n",
            "[CV 3/5] END max_depth=5, max_features=sqrt, min_samples_split=2, n_estimators=300;, score=0.823 total time=   0.5s\n",
            "[CV 4/5] END max_depth=5, max_features=sqrt, min_samples_split=2, n_estimators=300;, score=0.708 total time=   0.5s\n",
            "[CV 5/5] END max_depth=5, max_features=sqrt, min_samples_split=2, n_estimators=300;, score=0.791 total time=   0.5s\n",
            "[CV 1/5] END max_depth=5, max_features=sqrt, min_samples_split=5, n_estimators=100;, score=0.700 total time=   0.2s\n",
            "[CV 2/5] END max_depth=5, max_features=sqrt, min_samples_split=5, n_estimators=100;, score=0.723 total time=   0.2s\n",
            "[CV 3/5] END max_depth=5, max_features=sqrt, min_samples_split=5, n_estimators=100;, score=0.823 total time=   0.2s\n",
            "[CV 4/5] END max_depth=5, max_features=sqrt, min_samples_split=5, n_estimators=100;, score=0.685 total time=   0.2s\n",
            "[CV 5/5] END max_depth=5, max_features=sqrt, min_samples_split=5, n_estimators=100;, score=0.798 total time=   0.2s\n",
            "[CV 1/5] END max_depth=5, max_features=sqrt, min_samples_split=5, n_estimators=200;, score=0.731 total time=   0.4s\n",
            "[CV 2/5] END max_depth=5, max_features=sqrt, min_samples_split=5, n_estimators=200;, score=0.715 total time=   0.4s\n",
            "[CV 3/5] END max_depth=5, max_features=sqrt, min_samples_split=5, n_estimators=200;, score=0.831 total time=   0.4s\n",
            "[CV 4/5] END max_depth=5, max_features=sqrt, min_samples_split=5, n_estimators=200;, score=0.700 total time=   0.4s\n",
            "[CV 5/5] END max_depth=5, max_features=sqrt, min_samples_split=5, n_estimators=200;, score=0.775 total time=   0.4s\n",
            "[CV 1/5] END max_depth=5, max_features=sqrt, min_samples_split=5, n_estimators=300;, score=0.723 total time=   0.5s\n",
            "[CV 2/5] END max_depth=5, max_features=sqrt, min_samples_split=5, n_estimators=300;, score=0.700 total time=   0.5s\n",
            "[CV 3/5] END max_depth=5, max_features=sqrt, min_samples_split=5, n_estimators=300;, score=0.846 total time=   0.5s\n",
            "[CV 4/5] END max_depth=5, max_features=sqrt, min_samples_split=5, n_estimators=300;, score=0.708 total time=   0.5s\n",
            "[CV 5/5] END max_depth=5, max_features=sqrt, min_samples_split=5, n_estimators=300;, score=0.806 total time=   0.5s\n",
            "[CV 1/5] END max_depth=5, max_features=sqrt, min_samples_split=10, n_estimators=100;, score=0.723 total time=   0.2s\n",
            "[CV 2/5] END max_depth=5, max_features=sqrt, min_samples_split=10, n_estimators=100;, score=0.692 total time=   0.2s\n",
            "[CV 3/5] END max_depth=5, max_features=sqrt, min_samples_split=10, n_estimators=100;, score=0.831 total time=   0.2s\n",
            "[CV 4/5] END max_depth=5, max_features=sqrt, min_samples_split=10, n_estimators=100;, score=0.677 total time=   0.2s\n",
            "[CV 5/5] END max_depth=5, max_features=sqrt, min_samples_split=10, n_estimators=100;, score=0.783 total time=   0.2s\n",
            "[CV 1/5] END max_depth=5, max_features=sqrt, min_samples_split=10, n_estimators=200;, score=0.731 total time=   0.4s\n",
            "[CV 2/5] END max_depth=5, max_features=sqrt, min_samples_split=10, n_estimators=200;, score=0.700 total time=   0.4s\n",
            "[CV 3/5] END max_depth=5, max_features=sqrt, min_samples_split=10, n_estimators=200;, score=0.831 total time=   0.4s\n",
            "[CV 4/5] END max_depth=5, max_features=sqrt, min_samples_split=10, n_estimators=200;, score=0.692 total time=   0.4s\n",
            "[CV 5/5] END max_depth=5, max_features=sqrt, min_samples_split=10, n_estimators=200;, score=0.791 total time=   0.4s\n",
            "[CV 1/5] END max_depth=5, max_features=sqrt, min_samples_split=10, n_estimators=300;, score=0.708 total time=   0.5s\n",
            "[CV 2/5] END max_depth=5, max_features=sqrt, min_samples_split=10, n_estimators=300;, score=0.700 total time=   0.5s\n",
            "[CV 3/5] END max_depth=5, max_features=sqrt, min_samples_split=10, n_estimators=300;, score=0.815 total time=   0.5s\n",
            "[CV 4/5] END max_depth=5, max_features=sqrt, min_samples_split=10, n_estimators=300;, score=0.677 total time=   0.5s\n",
            "[CV 5/5] END max_depth=5, max_features=sqrt, min_samples_split=10, n_estimators=300;, score=0.798 total time=   0.5s\n",
            "[CV 1/5] END max_depth=5, max_features=log2, min_samples_split=2, n_estimators=100;, score=0.715 total time=   0.2s\n",
            "[CV 2/5] END max_depth=5, max_features=log2, min_samples_split=2, n_estimators=100;, score=0.715 total time=   0.2s\n",
            "[CV 3/5] END max_depth=5, max_features=log2, min_samples_split=2, n_estimators=100;, score=0.831 total time=   0.2s\n",
            "[CV 4/5] END max_depth=5, max_features=log2, min_samples_split=2, n_estimators=100;, score=0.692 total time=   0.2s\n",
            "[CV 5/5] END max_depth=5, max_features=log2, min_samples_split=2, n_estimators=100;, score=0.798 total time=   0.2s\n",
            "[CV 1/5] END max_depth=5, max_features=log2, min_samples_split=2, n_estimators=200;, score=0.731 total time=   0.4s\n",
            "[CV 2/5] END max_depth=5, max_features=log2, min_samples_split=2, n_estimators=200;, score=0.708 total time=   0.4s\n",
            "[CV 3/5] END max_depth=5, max_features=log2, min_samples_split=2, n_estimators=200;, score=0.823 total time=   0.4s\n",
            "[CV 4/5] END max_depth=5, max_features=log2, min_samples_split=2, n_estimators=200;, score=0.692 total time=   0.4s\n",
            "[CV 5/5] END max_depth=5, max_features=log2, min_samples_split=2, n_estimators=200;, score=0.806 total time=   0.4s\n",
            "[CV 1/5] END max_depth=5, max_features=log2, min_samples_split=2, n_estimators=300;, score=0.731 total time=   0.6s\n",
            "[CV 2/5] END max_depth=5, max_features=log2, min_samples_split=2, n_estimators=300;, score=0.715 total time=   0.5s\n",
            "[CV 3/5] END max_depth=5, max_features=log2, min_samples_split=2, n_estimators=300;, score=0.831 total time=   0.5s\n",
            "[CV 4/5] END max_depth=5, max_features=log2, min_samples_split=2, n_estimators=300;, score=0.692 total time=   0.5s\n",
            "[CV 5/5] END max_depth=5, max_features=log2, min_samples_split=2, n_estimators=300;, score=0.806 total time=   0.6s\n",
            "[CV 1/5] END max_depth=5, max_features=log2, min_samples_split=5, n_estimators=100;, score=0.708 total time=   0.2s\n",
            "[CV 2/5] END max_depth=5, max_features=log2, min_samples_split=5, n_estimators=100;, score=0.708 total time=   0.2s\n",
            "[CV 3/5] END max_depth=5, max_features=log2, min_samples_split=5, n_estimators=100;, score=0.808 total time=   0.2s\n",
            "[CV 4/5] END max_depth=5, max_features=log2, min_samples_split=5, n_estimators=100;, score=0.692 total time=   0.2s\n",
            "[CV 5/5] END max_depth=5, max_features=log2, min_samples_split=5, n_estimators=100;, score=0.767 total time=   0.2s\n",
            "[CV 1/5] END max_depth=5, max_features=log2, min_samples_split=5, n_estimators=200;, score=0.715 total time=   0.4s\n",
            "[CV 2/5] END max_depth=5, max_features=log2, min_samples_split=5, n_estimators=200;, score=0.715 total time=   0.4s\n",
            "[CV 3/5] END max_depth=5, max_features=log2, min_samples_split=5, n_estimators=200;, score=0.831 total time=   0.4s\n",
            "[CV 4/5] END max_depth=5, max_features=log2, min_samples_split=5, n_estimators=200;, score=0.692 total time=   0.4s\n",
            "[CV 5/5] END max_depth=5, max_features=log2, min_samples_split=5, n_estimators=200;, score=0.806 total time=   0.4s\n",
            "[CV 1/5] END max_depth=5, max_features=log2, min_samples_split=5, n_estimators=300;, score=0.731 total time=   0.5s\n",
            "[CV 2/5] END max_depth=5, max_features=log2, min_samples_split=5, n_estimators=300;, score=0.708 total time=   0.5s\n",
            "[CV 3/5] END max_depth=5, max_features=log2, min_samples_split=5, n_estimators=300;, score=0.831 total time=   0.5s\n",
            "[CV 4/5] END max_depth=5, max_features=log2, min_samples_split=5, n_estimators=300;, score=0.708 total time=   0.5s\n",
            "[CV 5/5] END max_depth=5, max_features=log2, min_samples_split=5, n_estimators=300;, score=0.775 total time=   0.5s\n",
            "[CV 1/5] END max_depth=5, max_features=log2, min_samples_split=10, n_estimators=100;, score=0.700 total time=   0.2s\n",
            "[CV 2/5] END max_depth=5, max_features=log2, min_samples_split=10, n_estimators=100;, score=0.700 total time=   0.2s\n",
            "[CV 3/5] END max_depth=5, max_features=log2, min_samples_split=10, n_estimators=100;, score=0.831 total time=   0.2s\n",
            "[CV 4/5] END max_depth=5, max_features=log2, min_samples_split=10, n_estimators=100;, score=0.708 total time=   0.2s\n",
            "[CV 5/5] END max_depth=5, max_features=log2, min_samples_split=10, n_estimators=100;, score=0.798 total time=   0.2s\n",
            "[CV 1/5] END max_depth=5, max_features=log2, min_samples_split=10, n_estimators=200;, score=0.715 total time=   0.4s\n",
            "[CV 2/5] END max_depth=5, max_features=log2, min_samples_split=10, n_estimators=200;, score=0.700 total time=   0.4s\n",
            "[CV 3/5] END max_depth=5, max_features=log2, min_samples_split=10, n_estimators=200;, score=0.838 total time=   0.4s\n",
            "[CV 4/5] END max_depth=5, max_features=log2, min_samples_split=10, n_estimators=200;, score=0.692 total time=   0.4s\n",
            "[CV 5/5] END max_depth=5, max_features=log2, min_samples_split=10, n_estimators=200;, score=0.798 total time=   0.4s\n",
            "[CV 1/5] END max_depth=5, max_features=log2, min_samples_split=10, n_estimators=300;, score=0.708 total time=   0.6s\n",
            "[CV 2/5] END max_depth=5, max_features=log2, min_samples_split=10, n_estimators=300;, score=0.692 total time=   0.5s\n",
            "[CV 3/5] END max_depth=5, max_features=log2, min_samples_split=10, n_estimators=300;, score=0.823 total time=   0.5s\n",
            "[CV 4/5] END max_depth=5, max_features=log2, min_samples_split=10, n_estimators=300;, score=0.677 total time=   0.5s\n",
            "[CV 5/5] END max_depth=5, max_features=log2, min_samples_split=10, n_estimators=300;, score=0.791 total time=   0.6s\n",
            "{'max_depth': 5, 'max_features': 'sqrt', 'min_samples_split': 5, 'n_estimators': 300}\n",
            "0.7566249254621348\n"
          ]
        }
      ],
      "source": [
        "param_grid = {'max_depth': [2,3,4,5],\n",
        "              'min_samples_split': [2, 5, 10],\n",
        "              'n_estimators':[100,200,300],\n",
        "              'max_features': ['auto', 'sqrt', 'log2']\n",
        "             }\n",
        " \n",
        "grid = GridSearchCV(model_rfc, param_grid, refit = True, verbose = 3)\n",
        " \n",
        "# fitting the model for grid search\n",
        "grid.fit(X_train, y_train)\n",
        "# print best parameter after tuning\n",
        "print(grid.best_params_)\n",
        " \n",
        "# print how our model looks after hyper-parameter tuning\n",
        "print(grid.best_score_)"
      ]
    },
    {
      "cell_type": "code",
      "execution_count": 73,
      "id": "0854e32f",
      "metadata": {
        "colab": {
          "base_uri": "https://localhost:8080/"
        },
        "id": "0854e32f",
        "outputId": "d6866f5d-e40a-4d5d-de02-46a4a5ccc297"
      },
      "outputs": [
        {
          "output_type": "stream",
          "name": "stdout",
          "text": [
            "Train accuracy  0.8366718027734977\n",
            "Test accuracy  0.7852760736196319\n"
          ]
        }
      ],
      "source": [
        "model_rf=RandomForestClassifier(max_depth=5, min_samples_split=2, n_estimators=200)\n",
        "model_rf.fit(X_train,y_train)\n",
        "y_predict_test_rf=model_rf.predict(X_test)\n",
        "y_predict_train_rf=model_rf.predict(X_train)\n",
        "print(\"Train accuracy \",accuracy_score(y_train,y_predict_train_rf))\n",
        "print(\"Test accuracy \",accuracy_score(y_test,y_predict_test_rf))"
      ]
    },
    {
      "cell_type": "markdown",
      "id": "7bc6e297",
      "metadata": {
        "id": "7bc6e297"
      },
      "source": [
        "## There is a problem of overfitting in first stage of the model.Later try to minimize this problem using RandomOverSampler for balancing Target Feature and  hyperparameter tuning.Got a better accuracy in support vector classifier model so we selected this model.The accuracy we got after hyperparameter tuning in SVC is 91.41%\n"
      ]
    },
    {
      "cell_type": "code",
      "execution_count": 74,
      "id": "af6e7bfa",
      "metadata": {
        "id": "af6e7bfa"
      },
      "outputs": [],
      "source": [
        ""
      ]
    }
  ],
  "metadata": {
    "kernelspec": {
      "display_name": "Python 3",
      "language": "python",
      "name": "python3"
    },
    "language_info": {
      "codemirror_mode": {
        "name": "ipython",
        "version": 3
      },
      "file_extension": ".py",
      "mimetype": "text/x-python",
      "name": "python",
      "nbconvert_exporter": "python",
      "pygments_lexer": "ipython3",
      "version": "3.8.8"
    },
    "colab": {
      "name": "Liver-Patient-Prediction.ipynb",
      "provenance": [],
      "include_colab_link": true
    }
  },
  "nbformat": 4,
  "nbformat_minor": 5
}